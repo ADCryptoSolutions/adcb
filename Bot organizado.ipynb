{
 "cells": [
  {
   "cell_type": "code",
   "execution_count": 1,
   "metadata": {},
   "outputs": [
    {
     "data": {
      "text/html": [
       "<div>\n",
       "<style>\n",
       "    .dataframe thead tr:only-child th {\n",
       "        text-align: right;\n",
       "    }\n",
       "\n",
       "    .dataframe thead th {\n",
       "        text-align: left;\n",
       "    }\n",
       "\n",
       "    .dataframe tbody tr th {\n",
       "        vertical-align: top;\n",
       "    }\n",
       "</style>\n",
       "<table border=\"1\" class=\"dataframe\">\n",
       "  <thead>\n",
       "    <tr style=\"text-align: right;\">\n",
       "      <th></th>\n",
       "      <th>close</th>\n",
       "      <th>high</th>\n",
       "      <th>low</th>\n",
       "      <th>open</th>\n",
       "      <th>quoteVolume</th>\n",
       "      <th>volume</th>\n",
       "      <th>weightedAverage</th>\n",
       "    </tr>\n",
       "    <tr>\n",
       "      <th>date</th>\n",
       "      <th></th>\n",
       "      <th></th>\n",
       "      <th></th>\n",
       "      <th></th>\n",
       "      <th></th>\n",
       "      <th></th>\n",
       "      <th></th>\n",
       "    </tr>\n",
       "  </thead>\n",
       "  <tbody>\n",
       "    <tr>\n",
       "      <th>2017-04-02 03:00:00</th>\n",
       "      <td>0.000033</td>\n",
       "      <td>3.499e-5</td>\n",
       "      <td>0.000035</td>\n",
       "      <td>0.000024</td>\n",
       "      <td>1030022822.8089</td>\n",
       "      <td>29510.686423</td>\n",
       "      <td>2.865e-5</td>\n",
       "    </tr>\n",
       "    <tr>\n",
       "      <th>2017-04-02 07:00:00</th>\n",
       "      <td>0.000036</td>\n",
       "      <td>3.9e-5</td>\n",
       "      <td>0.000039</td>\n",
       "      <td>0.000033</td>\n",
       "      <td>854384010.47148</td>\n",
       "      <td>30693.821676</td>\n",
       "      <td>3.592e-5</td>\n",
       "    </tr>\n",
       "    <tr>\n",
       "      <th>2017-04-02 11:00:00</th>\n",
       "      <td>0.000048</td>\n",
       "      <td>7.075e-5</td>\n",
       "      <td>0.000071</td>\n",
       "      <td>0.000036</td>\n",
       "      <td>971820491.42938</td>\n",
       "      <td>47529.362352</td>\n",
       "      <td>4.89e-5</td>\n",
       "    </tr>\n",
       "    <tr>\n",
       "      <th>2017-04-02 15:00:00</th>\n",
       "      <td>0.000057</td>\n",
       "      <td>5.99e-5</td>\n",
       "      <td>0.000060</td>\n",
       "      <td>0.000048</td>\n",
       "      <td>497337489.12959</td>\n",
       "      <td>24635.493846</td>\n",
       "      <td>4.953e-5</td>\n",
       "    </tr>\n",
       "    <tr>\n",
       "      <th>2017-04-02 19:00:00</th>\n",
       "      <td>0.000043</td>\n",
       "      <td>5.71e-5</td>\n",
       "      <td>0.000057</td>\n",
       "      <td>0.000057</td>\n",
       "      <td>390091092.78081</td>\n",
       "      <td>19754.086324</td>\n",
       "      <td>5.063e-5</td>\n",
       "    </tr>\n",
       "  </tbody>\n",
       "</table>\n",
       "</div>"
      ],
      "text/plain": [
       "                        close      high       low      open      quoteVolume  \\\n",
       "date                                                                           \n",
       "2017-04-02 03:00:00  0.000033  3.499e-5  0.000035  0.000024  1030022822.8089   \n",
       "2017-04-02 07:00:00  0.000036    3.9e-5  0.000039  0.000033  854384010.47148   \n",
       "2017-04-02 11:00:00  0.000048  7.075e-5  0.000071  0.000036  971820491.42938   \n",
       "2017-04-02 15:00:00  0.000057   5.99e-5  0.000060  0.000048  497337489.12959   \n",
       "2017-04-02 19:00:00  0.000043   5.71e-5  0.000057  0.000057  390091092.78081   \n",
       "\n",
       "                           volume weightedAverage  \n",
       "date                                               \n",
       "2017-04-02 03:00:00  29510.686423        2.865e-5  \n",
       "2017-04-02 07:00:00  30693.821676        3.592e-5  \n",
       "2017-04-02 11:00:00  47529.362352         4.89e-5  \n",
       "2017-04-02 15:00:00  24635.493846        4.953e-5  \n",
       "2017-04-02 19:00:00  19754.086324        5.063e-5  "
      ]
     },
     "execution_count": 1,
     "metadata": {},
     "output_type": "execute_result"
    }
   ],
   "source": [
    "from poloniex import Poloniex\n",
    "from tusp import string2ts, ts2string\n",
    "import json\n",
    "import pandas as pd\n",
    "import numpy as np\n",
    "import pylab as plt\n",
    "%matplotlib inline\n",
    "\n",
    "polo = Poloniex()\n",
    "\n",
    "# historyData es una lista de diccionarios python\n",
    "historyData = polo.returnChartData(currencyPair=\"BTC_XRP\",\n",
    "                     start=string2ts(\"2017-04-02 00:00:00\"),\n",
    "                     end=string2ts(\"2017-05-15 00:00:00\"),\n",
    "                     period=3600*4)\n",
    "\n",
    "# Guardando los datos como lista de diccionarios en un archivo de texto\n",
    "# esto permite acceder a ellos y trabajar como data frame offline\n",
    "with open(\"XMR_data.out\",\"w\") as f:\n",
    "    json.dump(historyData,f)\n",
    "    \n",
    "with open(\"XMR_data.out\") as f:\n",
    "    historyData = json.load(f)\n",
    "    #print data\n",
    "\n",
    "# convirtiendo datos en data frame\n",
    "df = pd.DataFrame(historyData)\n",
    "\n",
    "#  convirtiendo string a float o int\n",
    "df[\"close\"] =pd.to_numeric(df['close'])\n",
    "df[\"open\"] =pd.to_numeric(df['open'])\n",
    "df[\"low\"] =pd.to_numeric(df['high'])\n",
    "df[\"volume\"] =pd.to_numeric(df['volume'])\n",
    "df[\"date\"] = pd.to_datetime(df[\"date\"].apply(ts2string))\n",
    "\n",
    "# seleccionando la columna de fecha como indice\n",
    "df = df.set_index(\"date\")\n",
    "\n",
    "# examinando las primeras filas\n",
    "df.head()"
   ]
  },
  {
   "cell_type": "markdown",
   "metadata": {},
   "source": [
    "# Calculando retornos, log retornos y sus respectivos acumulados"
   ]
  },
  {
   "cell_type": "code",
   "execution_count": 2,
   "metadata": {},
   "outputs": [
    {
     "name": "stdout",
     "output_type": "stream",
     "text": [
      "Retorno final del mercado: 315.274390244\n"
     ]
    },
    {
     "data": {
      "image/png": "[encoded data removed]",
      "text/plain": [
       "<matplotlib.figure.Figure at 0x7f74cc3f23d0>"
      ]
     },
     "metadata": {},
     "output_type": "display_data"
    }
   ],
   "source": [
    "# Calculando retornos relativos\n",
    "# el 1 se refiere al numero de periodos que se toma para calcular el cambio porcentual\n",
    "df[\"retornos relativos\"] = df[\"close\"].pct_change(1)\n",
    "\n",
    "# calculando los log retornos\n",
    "df[\"log retornos\"] = np.log(df[\"close\"]).diff()\n",
    "\n",
    "# calculando log retorno acumulado\n",
    "df[\"cum_logr\"] = df[\"log retornos\"].cumsum()\n",
    "df[\"cum_r\"] = np.exp(df[\"cum_logr\"]) - 1\n",
    "\n",
    "plt.plot(df.index,df['cum_logr']*100,'r',label='log retorno acumulado')\n",
    "plt.plot(df.index,df['cum_r']*100,'b', label='retorno acumulado')\n",
    "plt.legend()\n",
    "plt.grid()\n",
    "print \"Retorno final del mercado: %s\"%(df[\"cum_r\"][-1]*100)"
   ]
  },
  {
   "cell_type": "markdown",
   "metadata": {
    "collapsed": true
   },
   "source": [
    "# Ejemplo estrategía, media movil"
   ]
  },
  {
   "cell_type": "markdown",
   "metadata": {},
   "source": [
    "Las estrategías funcionan como funciones que como parámetro reciben una serie de pandas o una lista de tamaño $T$ (intervalo de tiempo de estudio divido en el periodo de interés), y devuelven el vector de pesos $\\vec{w}$ de tamaño $T\\times 2$ y que contiene solo ceros o unos (1 si se posee el determinado activo, 0 si no). La primera columna de $\\vec{w}$ corresponde a la posesión del activo de interés, la segunda a la posesión de la moneda por la que se tranza (generalmente **BTC**) "
   ]
  },
  {
   "cell_type": "code",
   "execution_count": 3,
   "metadata": {},
   "outputs": [
    {
     "name": "stdout",
     "output_type": "stream",
     "text": [
      "                      w1   w2 orders\n",
      "date                                \n",
      "2017-04-02 03:00:00  0.5  0.5   WAIT\n",
      "2017-04-02 07:00:00  0.0  1.0   WAIT\n",
      "2017-04-02 11:00:00  0.0  1.0   WAIT\n",
      "2017-04-02 15:00:00  1.0  0.0    BUY\n",
      "2017-04-02 19:00:00  1.0  0.0   WAIT\n",
      "2017-04-02 23:00:00  1.0  0.0   WAIT\n",
      "2017-04-03 03:00:00  0.0  1.0   SELL\n",
      "2017-04-03 07:00:00  0.0  1.0   WAIT\n",
      "2017-04-03 11:00:00  0.0  1.0   WAIT\n",
      "2017-04-03 15:00:00  0.0  1.0   WAIT\n",
      "2017-04-03 19:00:00  0.0  1.0   WAIT\n",
      "2017-04-03 23:00:00  0.0  1.0   WAIT\n",
      "2017-04-04 03:00:00  0.0  1.0   WAIT\n",
      "2017-04-04 07:00:00  0.0  1.0   WAIT\n",
      "2017-04-04 11:00:00  0.0  1.0   WAIT\n"
     ]
    },
    {
     "data": {
      "image/png": "[encoded data removed]",
      "text/plain": [
       "<matplotlib.figure.Figure at 0x7f74a1a41190>"
      ]
     },
     "metadata": {},
     "output_type": "display_data"
    }
   ],
   "source": [
    "# dada una serie de pandas o una lista y el numero de muestras para la EMA y SMA devuelve vector w\n",
    "# considerando el cruce entre EMA y SMA\n",
    "def estrategiaEMAvsSMA(serie, smaPeriod=20,emaPeriod=5):\n",
    "    \n",
    "    # Calculando media movil a 20 muestras\n",
    "    sma = df[\"close\"].rolling(smaPeriod,min_periods=1).mean()\n",
    "    # caculando exponential movil average\n",
    "    ema = df[\"close\"].ewm(span=emaPeriod, adjust=False).mean()\n",
    "    \n",
    "    \n",
    "sma = df[\"close\"].rolling(20,min_periods=1).mean()\n",
    "# caculando exponential movil average\n",
    "ema = df[\"close\"].ewm(span=5, adjust=False).mean()    \n",
    "\n",
    "dif = (ema - sma).apply(np.sign)\n",
    "#w = (w+1)/2\n",
    "dic = {\"w1\":(dif+1)/2,\"w2\":np.abs(-(dif-1)/2)}\n",
    "w = pd.DataFrame(data=dic)\n",
    "\n",
    "from orders import orders\n",
    "\n",
    "w[\"orders\"] = orders(w[\"w1\"])\n",
    "#w2 = pd.Series(index=w.index, dtype=object)\n",
    "\n",
    "#print dic\n",
    "print w.head(15)\n",
    "plt.plot(df.index,df['close'],'g',label='precio')\n",
    "plt.plot(df.index,ema,'r',label='EMA')\n",
    "plt.plot(df.index,sma,'b',label='SMA')\n",
    "plt.legend()\n",
    "plt.grid()"
   ]
  },
  {
   "cell_type": "code",
   "execution_count": null,
   "metadata": {
    "collapsed": true
   },
   "outputs": [],
   "source": []
  }
 ],
 "metadata": {
  "kernelspec": {
   "display_name": "Python 2",
   "language": "python",
   "name": "python2"
  },
  "language_info": {
   "codemirror_mode": {
    "name": "ipython",
    "version": 2
   },
   "file_extension": ".py",
   "mimetype": "text/x-python",
   "name": "python",
   "nbconvert_exporter": "python",
   "pygments_lexer": "ipython2",
   "version": "2.7.13"
  }
 },
 "nbformat": 4,
 "nbformat_minor": 2
}
