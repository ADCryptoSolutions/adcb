{
 "cells": [
  {
   "cell_type": "code",
   "execution_count": 1,
   "metadata": {
    "collapsed": true
   },
   "outputs": [],
   "source": [
    "from poloniex import Poloniex\n",
    "\n",
    "polo = Poloniex()"
   ]
  },
  {
   "cell_type": "code",
   "execution_count": 2,
   "metadata": {
    "collapsed": true
   },
   "outputs": [],
   "source": [
    "markets = polo.returnTicker()\n",
    "pairs = []\n",
    "for name, thinks in markets.items():\n",
    "    pairs.append(name)"
   ]
  },
  {
   "cell_type": "code",
   "execution_count": 3,
   "metadata": {},
   "outputs": [
    {
     "name": "stdout",
     "output_type": "stream",
     "text": [
      "57114.3603972\n"
     ]
    }
   ],
   "source": [
    "# funciones necesarias para el manejo del tiempo\n",
    "from datetime import datetime, timedelta\n",
    "from time import sleep\n",
    "from tusp import string2ts\n",
    "from bot import prepareData\n",
    "import numpy as np\n",
    "import pylab as pl\n",
    "%matplotlib inline\n",
    "\n",
    "class PairData:\n",
    "    \n",
    "    def __init__(self, pair, period, weeks = 4.3*3, backto = None):\n",
    "            \n",
    "        self.pair = pair\n",
    "        self.period = period\n",
    "        delta = timedelta(weeks = weeks)\n",
    "        self.delta = delta\n",
    "        start = \"\"\n",
    "        end = \"\"\n",
    "\n",
    "        # Sí el tiempo final es diferente al actual...\n",
    "        if backto != None:\n",
    "            to = datetime.strptime(backto, \"%Y-%m-%d %H:%M:%S\")\n",
    "            self.to = to\n",
    "            start = string2ts(to.strftime('%Y-%m-%d %H:%M:%S'))\n",
    "            \n",
    "            tf = to + delta\n",
    "            self.tf = tf\n",
    "            end = string2ts(tf.strftime('%Y-%m-%d %H:%M:%S'))\n",
    "            \n",
    "        else:\n",
    "            tf = datetime.now()\n",
    "            self.tf = tf\n",
    "            end = string2ts(tf.strftime('%Y-%m-%d %H:%M:%S'))\n",
    "            \n",
    "            to = tf-delta\n",
    "            self.to = to\n",
    "            start = string2ts(to.strftime('%Y-%m-%d %H:%M:%S'))\n",
    "                              \n",
    "\n",
    "        self.start = start\n",
    "        self.end = end\n",
    "        df = prepareData(pair=pair, start=start, end=end, period=int(period))\n",
    "        \n",
    "        self.df = df\n",
    "        self.market_return()\n",
    "        self.cum_volume()\n",
    "    \n",
    "    def market_return(self):\n",
    "        \"\"\"Calcula el retorno del mercado vía log_retornos\n",
    "        \"\"\"\n",
    "        \n",
    "        serie = self.df[\"close\"]\n",
    "\n",
    "        # calculando los log retornos\n",
    "        log_return = np.log(serie).diff().fillna(0)\n",
    "\n",
    "        # calculando log retorno acumulado\n",
    "        cum_logr = log_return.cumsum()\n",
    "        cum_r = np.exp(cum_logr) - 1\n",
    "        \n",
    "        self.l_return = log_return\n",
    "        self.m_return = cum_r\n",
    "        \n",
    "    def cum_volume(self):\n",
    "        \"\"\"Calcula el volumen acumulado del mercado\n",
    "        \"\"\"\n",
    "        serie = self.df[\"volume\"]\n",
    "        self.c_volume = serie.cumsum()[-1]\n",
    "        \n",
    "    def sortino(self, log = False):\n",
    "        \"\"\" Calcula en ratio de Sortino\n",
    "        \n",
    "        \"\"\"\n",
    "        \n",
    "        if log:\n",
    "            rets = self.l_return\n",
    "         \n",
    "        else:\n",
    "            rets = self.m_return\n",
    "\n",
    "        semi_var = rets[rets < 0] ** 2\n",
    "        semi_var = semi_var.sum()/len(rets)\n",
    "        sortino = np.sqrt(semi_var)\n",
    "\n",
    "        return rets.mean()/sortino\n",
    "\n",
    "    def sharpe(self, period_ret = 0.2):\n",
    "        \"\"\"\n",
    "        Calculate the annualised Sharpe ratio of a returns stream \n",
    "        based on a number of trading periods, N. N defaults to 252,\n",
    "        which then assumes a stream of daily returns.\n",
    "\n",
    "        The function assumes that the returns are the excess of \n",
    "        those compared to a benchmark.\n",
    "        \"\"\"\n",
    "        N = self.delta.days\n",
    "        returns = self.l_return\n",
    "        excess_ret = returns - period_ret/N\n",
    "        return np.sqrt(N) * excess_ret.mean() / excess_ret.std()\n",
    "    \n",
    "dgb = PairData(\"BTC_DGB\", 3600*4)\n",
    "\n",
    "print dgb.c_volume"
   ]
  },
  {
   "cell_type": "code",
   "execution_count": 4,
   "metadata": {
    "collapsed": true
   },
   "outputs": [],
   "source": [
    "# cálculo del ratio de Sortino del último mes\n",
    "volumes = []\n",
    "pairs = [x for x in pairs if x.split(\"_\")[0] == \"BTC\"]\n",
    "for pair in pairs:\n",
    "    #print \"\\n\\t\",pair\n",
    "    asset = PairData(pair, 3600*4, 4.28*2)\n",
    "    volume = asset.c_volume\n",
    "    volumes.append([pair, volume])\n",
    "    #print sortino\n",
    "\n",
    "volumes.sort(key = lambda l:l[1], reverse=True)"
   ]
  },
  {
   "cell_type": "code",
   "execution_count": 5,
   "metadata": {},
   "outputs": [
    {
     "name": "stdout",
     "output_type": "stream",
     "text": [
      "[[u'BTC_ETH', 168539.92791192984], [u'BTC_XRP', 140944.53680166011], [u'BTC_LTC', 66937.469443010035], [u'BTC_STR', 64078.616706059976], [u'BTC_XMR', 47776.018147169983], [u'BTC_ETC', 37496.240681529984]]\n"
     ]
    }
   ],
   "source": [
    "print volumes[:6]"
   ]
  },
  {
   "cell_type": "code",
   "execution_count": 6,
   "metadata": {
    "collapsed": true
   },
   "outputs": [],
   "source": [
    "# cálculo del ratio de Sortino del último mes\n",
    "sortinos = []\n",
    "pairs = [x for x in pairs if x.split(\"_\")[0] == \"BTC\"]\n",
    "for pair in pairs:\n",
    "    #print \"\\n\\t\",pair\n",
    "    asset = PairData(pair, 3600*4, 4.28*2)\n",
    "    sortino = asset.sortino(log = True)\n",
    "    sortinos.append([pair, sortino])\n",
    "    #print sortino\n",
    "\n",
    "sortinos.sort(key = lambda l:l[1], reverse=True)\n",
    "\n",
    "# Cálculo del ratio de Sortino del penúltimo mes\n",
    "sortinos2 = []\n",
    "\n",
    "for pair in pairs:\n",
    "    #print \"\\n\\t\",pair\n",
    "    asset = PairData(pair, 3600*4, 4.28*2, \"2017-11-14 00:00:00\")\n",
    "    sortino = asset.sortino(log = True)\n",
    "    sortinos2.append([pair, sortino])\n",
    "    #print sortino\n",
    "\n",
    "sortinos2.sort(key = lambda l:l[1], reverse=True)\n",
    "\n",
    "# Cálculo del ratio de Sortino del penúltimo mes\n",
    "sortinos3 = []\n",
    "\n",
    "for pair in pairs:\n",
    "    #print \"\\n\\t\",pair\n",
    "    asset = PairData(pair, 3600*4, 4.28*2, \"2017-10-14 00:00:00\")\n",
    "    sortino = asset.sortino(log = True)\n",
    "    sortinos3.append([pair, sortino])\n",
    "    #print sortino\n",
    "\n",
    "sortinos3.sort(key = lambda l:l[1], reverse=True)"
   ]
  },
  {
   "cell_type": "code",
   "execution_count": 7,
   "metadata": {},
   "outputs": [
    {
     "name": "stdout",
     "output_type": "stream",
     "text": [
      "Octubre a Noviembre\n",
      "[[u'BTC_NXT', 0.13781739870626794], [u'BTC_EMC2', 0.11688974902141284], [u'BTC_STR', 0.080834759429922021]]\n",
      "Noviembre a Diciembre\n",
      "[[u'BTC_STR', 0.1960905926315005], [u'BTC_SC', 0.16516678529416567], [u'BTC_BURST', 0.15996807743790623]]\n",
      "Diciembre a Enero\n",
      "[[u'BTC_LTC', 0.027873062895331854], [u'BTC_XPM', 0.0032471204987044614], [u'BTC_XMR', -0.027454726532719031]]\n"
     ]
    }
   ],
   "source": [
    "print \"Octubre a Noviembre\"\n",
    "print sortinos3[:3]\n",
    "print \"Noviembre a Diciembre\"\n",
    "print sortinos2[:3]\n",
    "print \"Diciembre a Enero\"\n",
    "print sortinos[:3]"
   ]
  },
  {
   "cell_type": "code",
   "execution_count": 8,
   "metadata": {
    "collapsed": true
   },
   "outputs": [],
   "source": [
    "# cálculo del ratio de Sharpe del último mes\n",
    "sharpes = []\n",
    "for pair in pairs:\n",
    "    asset_past = PairData(pair, 3600*4, 4.28*2, \"2017-11-14 00:00:00\")\n",
    "    ret = asset_past.m_return[-1]\n",
    "    asset = PairData(pair, 3600*4, 4.28*2)\n",
    "    sharpe = asset.sharpe(ret)\n",
    "    sharpes.append([pair, sharpe])\n",
    "\n",
    "sharpes.sort(key = lambda l:l[1], reverse=True)\n",
    "\n",
    "# Cálculo del ratio de Sharpe del penúltimo mes\n",
    "sharpes2 = []\n",
    "\n",
    "for pair in pairs:\n",
    "    asset_past = PairData(pair, 3600*4, 4.28*2, \"2017-10-14 00:00:00\")\n",
    "    ret = asset_past.m_return[-1]\n",
    "    asset = PairData(pair, 3600*4, 4.28*2, \"2017-11-14 00:00:00\")\n",
    "    sharpe = asset.sharpe()\n",
    "    sharpes2.append([pair, sharpe])\n",
    "\n",
    "sharpes2.sort(key = lambda l:l[1], reverse=True)\n",
    "\n",
    "# Cálculo del ratio de Sharpe del penúltimo mes\n",
    "sharpes3 = []\n",
    "\n",
    "for pair in pairs:\n",
    "    asset_past = PairData(pair, 3600*4, 4.28*2, \"2017-09-14 00:00:00\")\n",
    "    ret = asset_past.m_return[-1]\n",
    "    asset = PairData(pair, 3600*4, 4.28*2, \"2017-10-14 00:00:00\")\n",
    "    sharpe = asset.sharpe()\n",
    "    sharpes3.append([pair, sharpe])\n",
    "\n",
    "sharpes3.sort(key = lambda l:l[1], reverse=True)"
   ]
  },
  {
   "cell_type": "code",
   "execution_count": 9,
   "metadata": {},
   "outputs": [
    {
     "name": "stdout",
     "output_type": "stream",
     "text": [
      "Octubre y Noviembre\n",
      "[[u'BTC_EMC2', 0.15729527376916327], [u'BTC_NXT', 0.023479674988932761], [u'BTC_STR', -0.075880999224661863]]\n",
      "Noviembre y Diciembre\n",
      "[[u'BTC_STR', 0.45279572024813147], [u'BTC_SC', 0.32720856845234464], [u'BTC_BURST', 0.25713595584531107]]\n",
      "Diciembre y Enero\n",
      "[[u'BTC_VTC', 1.1657920657433294], [u'BTC_BCH', 0.55443932184412215], [u'BTC_XBC', 0.35182346837883133]]\n"
     ]
    }
   ],
   "source": [
    "print \"Octubre y Noviembre\"\n",
    "print sharpes3[:3]\n",
    "print \"Noviembre y Diciembre\"\n",
    "print sharpes2[:3]\n",
    "print \"Diciembre y Enero\"\n",
    "print sharpes[:3]"
   ]
  },
  {
   "cell_type": "code",
   "execution_count": null,
   "metadata": {
    "collapsed": true
   },
   "outputs": [],
   "source": []
  },
  {
   "cell_type": "code",
   "execution_count": 10,
   "metadata": {},
   "outputs": [
    {
     "name": "stdout",
     "output_type": "stream",
     "text": [
      "[[u'BTC_LTC', 0.027873062895331854], [u'BTC_XPM', 0.0032471204987044614], [u'BTC_XMR', -0.027454726532719031], [u'BTC_OMG', -0.030081248023509664], [u'BTC_SYS', -0.031753891875736559], [u'BTC_LSK', -0.036190160208087928], [u'BTC_SBD', -0.04046714412157764]]\n"
     ]
    }
   ],
   "source": [
    "sortinos3 = [x for x in sortinos if x[0].split(\"_\")[0] == \"BTC\"]\n",
    "print sortinos3[0:7]"
   ]
  },
  {
   "cell_type": "code",
   "execution_count": 11,
   "metadata": {
    "collapsed": true
   },
   "outputs": [],
   "source": [
    "pairs = [x for x in pairs if x.split(\"_\")[0] == \"BTC\"]"
   ]
  },
  {
   "cell_type": "code",
   "execution_count": 15,
   "metadata": {
    "scrolled": true
   },
   "outputs": [
    {
     "name": "stdout",
     "output_type": "stream",
     "text": [
      "[[u'BTC_ETH', 23.764996188576589, 0.062924999999999995], [u'BTC_GNO', 26.922391768002868, 0.009781200000000002], [u'BTC_PPC', 27.195196890499389, 0.00021898999999999999], [u'BTC_BTCD', 27.998199350518306, 0.0083123099999999998], [u'BTC_HUC', 29.678800104551641, 1.7220000000000001e-05], [u'BTC_ZRX', 29.693619341944157, 5.6799999999999998e-05]]\n"
     ]
    }
   ],
   "source": [
    "from indicators import rsi\n",
    "rsi_list = []\n",
    "\n",
    "for pair in pairs:\n",
    "    #print \"\\n\\t\",pair\n",
    "    asset = PairData(pair, 3600*24, weeks = 4.3*6)\n",
    "    RSI1, RSI2 = rsi(asset.df[\"close\"])\n",
    "    rsi_list.append([pair, RSI1[-1], asset.df[\"close\"][-1]])\n",
    "    #print sortino\n",
    "\n",
    "rsi_list.sort(key = lambda l:l[1], reverse=False)\n",
    "\n",
    "print rsi_list[0:6]"
   ]
  },
  {
   "cell_type": "code",
   "execution_count": 14,
   "metadata": {},
   "outputs": [
    {
     "name": "stdout",
     "output_type": "stream",
     "text": [
      "[[u'BTC_ETH', 24.933691131250384, 0.064220029999999997], [u'BTC_NAV', 25.036773210083027, 0.000122], [u'BTC_PPC', 25.384237038423649, 0.00021600999999999999], [u'BTC_VTC', 29.389638294150657, 0.00024623000000000001], [u'BTC_GNO', 29.473609409501393, 0.010110920000000001], [u'BTC_DASH', 29.868725025584794, 0.048166479999999998], [u'BTC_CLAM', 30.324272174623658, 0.0004348], [u'BTC_BTCD', 30.798054804461856, 0.0084408599999999997], [u'BTC_NEOS', 30.841248063790516, 0.00030017999999999999], [u'BTC_ZEC', 31.9386431375993, 0.028821840000000001]]\n"
     ]
    }
   ],
   "source": [
    "print rsi_list[0:10]"
   ]
  },
  {
   "cell_type": "code",
   "execution_count": 13,
   "metadata": {},
   "outputs": [
    {
     "name": "stdout",
     "output_type": "stream",
     "text": [
      "[[u'BTC_FLO', 45.211004033146033, 1.076e-05], [u'BTC_LTC', 45.460331674891705, 0.018744999999999998], [u'BTC_FCT', 45.752088408571403, 0.0027534], [u'BTC_MAID', 46.393080096353522, 3.6170000000000001e-05], [u'BTC_BCH', 46.835476142559592, 0.11695625], [u'BTC_XPM', 55.580487626291102, 8.7949999999999996e-05]]\n"
     ]
    }
   ],
   "source": [
    "print rsi_list[-6:]"
   ]
  },
  {
   "cell_type": "code",
   "execution_count": null,
   "metadata": {
    "collapsed": true
   },
   "outputs": [],
   "source": []
  }
 ],
 "metadata": {
  "anaconda-cloud": {},
  "kernelspec": {
   "display_name": "Python 2",
   "language": "python",
   "name": "python2"
  },
  "language_info": {
   "codemirror_mode": {
    "name": "ipython",
    "version": 2
   },
   "file_extension": ".py",
   "mimetype": "text/x-python",
   "name": "python",
   "nbconvert_exporter": "python",
   "pygments_lexer": "ipython2",
   "version": "2.7.14"
  }
 },
 "nbformat": 4,
 "nbformat_minor": 2
}
