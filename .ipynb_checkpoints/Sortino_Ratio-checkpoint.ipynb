{
 "cells": [
  {
   "cell_type": "code",
   "execution_count": 1,
   "metadata": {
    "collapsed": true
   },
   "outputs": [],
   "source": [
    "from poloniex import Poloniex\n",
    "\n",
    "polo = Poloniex()"
   ]
  },
  {
   "cell_type": "code",
   "execution_count": 2,
   "metadata": {
    "collapsed": true
   },
   "outputs": [],
   "source": [
    "markets = polo.returnTicker()\n",
    "pairs = []\n",
    "for name, thinks in markets.items():\n",
    "    pairs.append(name)"
   ]
  },
  {
   "cell_type": "code",
   "execution_count": 3,
   "metadata": {},
   "outputs": [
    {
     "name": "stdout",
     "output_type": "stream",
     "text": [
      "10577.7534738\n"
     ]
    }
   ],
   "source": [
    "# funciones necesarias para el manejo del tiempo\n",
    "from datetime import datetime, timedelta\n",
    "from time import sleep\n",
    "from tusp import string2ts\n",
    "from bot import prepareData\n",
    "import numpy as np\n",
    "import pylab as pl\n",
    "%matplotlib inline\n",
    "\n",
    "class PairData:\n",
    "    \n",
    "    def __init__(self, pair, period, weeks = 4.3*3, backto = None):\n",
    "            \n",
    "        self.pair = pair\n",
    "        self.period = period\n",
    "        delta = timedelta(weeks = weeks)\n",
    "        self.delta = delta\n",
    "        start = \"\"\n",
    "        end = \"\"\n",
    "\n",
    "        # Sí el tiempo final es diferente al actual...\n",
    "        if backto != None:\n",
    "            to = datetime.strptime(backto, \"%Y-%m-%d %H:%M:%S\")\n",
    "            self.to = to\n",
    "            start = string2ts(to.strftime('%Y-%m-%d %H:%M:%S'))\n",
    "            \n",
    "            tf = to + delta\n",
    "            self.tf = tf\n",
    "            end = string2ts(tf.strftime('%Y-%m-%d %H:%M:%S'))\n",
    "            \n",
    "        else:\n",
    "            tf = datetime.now()\n",
    "            self.tf = tf\n",
    "            end = string2ts(tf.strftime('%Y-%m-%d %H:%M:%S'))\n",
    "            \n",
    "            to = tf-delta\n",
    "            self.to = to\n",
    "            start = string2ts(to.strftime('%Y-%m-%d %H:%M:%S'))\n",
    "                              \n",
    "\n",
    "        self.start = start\n",
    "        self.end = end\n",
    "        df = prepareData(pair=pair, start=start, end=end, period=int(period))\n",
    "        \n",
    "        self.df = df\n",
    "        self.market_return()\n",
    "        self.cum_volume()\n",
    "    \n",
    "    def market_return(self):\n",
    "        \"\"\"Calcula el retorno del mercado vía log_retornos\n",
    "        \"\"\"\n",
    "        \n",
    "        serie = self.df[\"close\"]\n",
    "\n",
    "        # calculando los log retornos\n",
    "        log_return = np.log(serie).diff().fillna(0)\n",
    "\n",
    "        # calculando log retorno acumulado\n",
    "        cum_logr = log_return.cumsum()\n",
    "        cum_r = np.exp(cum_logr) - 1\n",
    "        \n",
    "        self.l_return = log_return\n",
    "        self.m_return = cum_r\n",
    "        \n",
    "    def cum_volume(self):\n",
    "        \"\"\"Calcula el volumen acumulado del mercado\n",
    "        \"\"\"\n",
    "        serie = self.df[\"volume\"]\n",
    "        self.c_volume = serie.cumsum()[-1]\n",
    "        \n",
    "    def sortino(self, log = False):\n",
    "        \"\"\" Calcula en ratio de Sortino\n",
    "        \n",
    "        \"\"\"\n",
    "        \n",
    "        if log:\n",
    "            rets = self.l_return\n",
    "         \n",
    "        else:\n",
    "            rets = self.m_return\n",
    "\n",
    "        semi_var = rets[rets < 0] ** 2\n",
    "        semi_var = semi_var.sum()/len(rets)\n",
    "        sortino = np.sqrt(semi_var)\n",
    "\n",
    "        return round(rets.mean()/sortino,2)\n",
    "\n",
    "    def sharpe(self, period_ret = 0.2):\n",
    "        \"\"\"\n",
    "        Calculate the annualised Sharpe ratio of a returns stream \n",
    "        based on a number of trading periods, N. N defaults to 252,\n",
    "        which then assumes a stream of daily returns.\n",
    "\n",
    "        The function assumes that the returns are the excess of \n",
    "        those compared to a benchmark.\n",
    "        \"\"\"\n",
    "        N = self.delta.days\n",
    "        returns = self.l_return\n",
    "        excess_ret = returns - period_ret/N\n",
    "        return np.sqrt(N) * excess_ret.mean() / excess_ret.std()\n",
    "    \n",
    "dgb = PairData(\"BTC_DGB\", 3600*4)\n",
    "\n",
    "print dgb.c_volume"
   ]
  },
  {
   "cell_type": "code",
   "execution_count": 4,
   "metadata": {
    "collapsed": true
   },
   "outputs": [],
   "source": [
    "# cálculo del ratio de Sortino del último mes\n",
    "volumes = []\n",
    "pairs = [x for x in pairs if x.split(\"_\")[0] == \"BTC\"]\n",
    "for pair in pairs:\n",
    "    #print \"\\n\\t\",pair\n",
    "    asset = PairData(pair, 3600*4, 4.28*2)\n",
    "    volume = asset.c_volume\n",
    "    volumes.append([pair, volume])\n",
    "    #print sortino\n",
    "\n",
    "volumes.sort(key = lambda l:l[1], reverse=True)"
   ]
  },
  {
   "cell_type": "code",
   "execution_count": 5,
   "metadata": {},
   "outputs": [
    {
     "name": "stdout",
     "output_type": "stream",
     "text": [
      "[[u'BTC_ETH', 35760.283907530014], [u'BTC_XRP', 27819.763424170007], [u'BTC_STR', 19242.10737672], [u'BTC_XMR', 13370.505645119998], [u'BTC_DASH', 9742.4395736099978], [u'BTC_ETC', 8458.4885750699978]]\n"
     ]
    }
   ],
   "source": [
    "print volumes[:6]"
   ]
  },
  {
   "cell_type": "code",
   "execution_count": 6,
   "metadata": {},
   "outputs": [
    {
     "name": "stderr",
     "output_type": "stream",
     "text": [
      "C:\\Users\\Daniel.LAPTOP-OBVONK0N\\Anaconda2\\lib\\site-packages\\ipykernel_launcher.py:56: RuntimeWarning: divide by zero encountered in log\n",
      "C:\\Users\\Daniel.LAPTOP-OBVONK0N\\Anaconda2\\lib\\site-packages\\ipykernel_launcher.py:86: RuntimeWarning: invalid value encountered in double_scalars\n"
     ]
    }
   ],
   "source": [
    "# cálculo del ratio de Sortino del último mes\n",
    "sortinos = []\n",
    "pairs = [x for x in pairs if x.split(\"_\")[0] == \"BTC\"]\n",
    "for pair in pairs:\n",
    "    #print \"\\n\\t\",pair\n",
    "    asset = PairData(pair, 3600*4, 4.28*2)\n",
    "    sortino = asset.sortino(log = True)\n",
    "    sortinos.append([pair, sortino])\n",
    "    #print sortino\n",
    "\n",
    "sortinos.sort(key = lambda l:l[1], reverse=True)\n",
    "\n",
    "# Cálculo del ratio de Sortino del penúltimo mes\n",
    "sortinos2 = []\n",
    "\n",
    "for pair in pairs:\n",
    "    #print \"\\n\\t\",pair\n",
    "    asset = PairData(pair, 3600*4, 4.28*2, \"2017-11-14 00:00:00\")\n",
    "    sortino = asset.sortino(log = True)\n",
    "    sortinos2.append([pair, sortino])\n",
    "    #print sortino\n",
    "\n",
    "sortinos2.sort(key = lambda l:l[1], reverse=True)\n",
    "\n",
    "# Cálculo del ratio de Sortino del penúltimo mes\n",
    "sortinos3 = []\n",
    "\n",
    "for pair in pairs:\n",
    "    #print \"\\n\\t\",pair\n",
    "    asset = PairData(pair, 3600*4, 4.28*2, \"2017-10-14 00:00:00\")\n",
    "    sortino = asset.sortino(log = True)\n",
    "    sortinos3.append([pair, sortino])\n",
    "    #print sortino\n",
    "\n",
    "sortinos3.sort(key = lambda l:l[1], reverse=True)"
   ]
  },
  {
   "cell_type": "code",
   "execution_count": 7,
   "metadata": {},
   "outputs": [
    {
     "name": "stdout",
     "output_type": "stream",
     "text": [
      "Octubre a Noviembre\n",
      "[[u'BTC_KNC', nan], [u'BTC_EMC2', 0.11688974902141284], [u'BTC_SNT', nan]]\n",
      "Noviembre a Diciembre\n",
      "[[u'BTC_KNC', nan], [u'BTC_SNT', nan], [u'BTC_SC', 0.16516678529416567]]\n",
      "Diciembre a Enero\n",
      "[[u'BTC_LOOM', 0.21760103417047524], [u'BTC_KNC', 0.077281527624946111], [u'BTC_DOGE', 0.012351527338863163]]\n"
     ]
    }
   ],
   "source": [
    "print \"Octubre a Noviembre\"\n",
    "print sortinos3[:3]\n",
    "print \"Noviembre a Diciembre\"\n",
    "print sortinos2[:3]\n",
    "print \"Diciembre a Enero\"\n",
    "print sortinos[:3]"
   ]
  },
  {
   "cell_type": "code",
   "execution_count": 8,
   "metadata": {},
   "outputs": [
    {
     "name": "stderr",
     "output_type": "stream",
     "text": [
      "C:\\Users\\Daniel.LAPTOP-OBVONK0N\\Anaconda2\\lib\\site-packages\\ipykernel_launcher.py:56: RuntimeWarning: divide by zero encountered in log\n"
     ]
    }
   ],
   "source": [
    "# cálculo del ratio de Sharpe del último mes\n",
    "sharpes = []\n",
    "for pair in pairs:\n",
    "    asset_past = PairData(pair, 3600*4, 4.28*2, \"2017-11-14 00:00:00\")\n",
    "    ret = asset_past.m_return[-1]\n",
    "    asset = PairData(pair, 3600*4, 4.28*2)\n",
    "    sharpe = asset.sharpe(ret)\n",
    "    sharpes.append([pair, sharpe])\n",
    "\n",
    "sharpes.sort(key = lambda l:l[1], reverse=True)\n",
    "\n",
    "# Cálculo del ratio de Sharpe del penúltimo mes\n",
    "sharpes2 = []\n",
    "\n",
    "for pair in pairs:\n",
    "    asset_past = PairData(pair, 3600*4, 4.28*2, \"2017-10-14 00:00:00\")\n",
    "    ret = asset_past.m_return[-1]\n",
    "    asset = PairData(pair, 3600*4, 4.28*2, \"2017-11-14 00:00:00\")\n",
    "    sharpe = asset.sharpe()\n",
    "    sharpes2.append([pair, sharpe])\n",
    "\n",
    "sharpes2.sort(key = lambda l:l[1], reverse=True)\n",
    "\n",
    "# Cálculo del ratio de Sharpe del penúltimo mes\n",
    "sharpes3 = []\n",
    "\n",
    "for pair in pairs:\n",
    "    asset_past = PairData(pair, 3600*4, 4.28*2, \"2017-09-14 00:00:00\")\n",
    "    ret = asset_past.m_return[-1]\n",
    "    asset = PairData(pair, 3600*4, 4.28*2, \"2017-10-14 00:00:00\")\n",
    "    sharpe = asset.sharpe()\n",
    "    sharpes3.append([pair, sharpe])\n",
    "\n",
    "sharpes3.sort(key = lambda l:l[1], reverse=True)"
   ]
  },
  {
   "cell_type": "code",
   "execution_count": 9,
   "metadata": {},
   "outputs": [
    {
     "name": "stdout",
     "output_type": "stream",
     "text": [
      "Octubre y Noviembre\n",
      "[[u'BTC_KNC', nan], [u'BTC_EMC2', 0.15729527376916327], [u'BTC_SNT', nan]]\n",
      "Noviembre y Diciembre\n",
      "[[u'BTC_KNC', nan], [u'BTC_SNT', nan], [u'BTC_SC', 0.32720856845234464]]\n",
      "Diciembre y Enero\n",
      "[[u'BTC_VTC', 1.0257028969557043], [u'BTC_LOOM', 0.94039453064550071], [u'BTC_BCH', 0.64479550806554442]]\n"
     ]
    }
   ],
   "source": [
    "print \"Octubre y Noviembre\"\n",
    "print sharpes3[:3]\n",
    "print \"Noviembre y Diciembre\"\n",
    "print sharpes2[:3]\n",
    "print \"Diciembre y Enero\"\n",
    "print sharpes[:3]"
   ]
  },
  {
   "cell_type": "code",
   "execution_count": 10,
   "metadata": {},
   "outputs": [
    {
     "name": "stdout",
     "output_type": "stream",
     "text": [
      "[[u'BTC_LOOM', 0.21760103417047524], [u'BTC_KNC', 0.077281527624946111], [u'BTC_DOGE', 0.012351527338863163], [u'BTC_DGB', 0.0035971171512731602], [u'BTC_STR', 0.0024068895064611839], [u'BTC_SNT', -0.010330207194242942], [u'BTC_BAT', -0.018611494045020438]]\n"
     ]
    }
   ],
   "source": [
    "sortinos3 = [x for x in sortinos if x[0].split(\"_\")[0] == \"BTC\"]\n",
    "print sortinos3[0:7]"
   ]
  },
  {
   "cell_type": "code",
   "execution_count": 11,
   "metadata": {
    "collapsed": true
   },
   "outputs": [],
   "source": [
    "pairs = [x for x in pairs if x.split(\"_\")[0] == \"BTC\"]"
   ]
  },
  {
   "cell_type": "code",
   "execution_count": 12,
   "metadata": {
    "scrolled": true
   },
   "outputs": [
    {
     "name": "stderr",
     "output_type": "stream",
     "text": [
      "indicators.py:29: FutureWarning: pd.ewm_mean is deprecated for Series and will be removed in a future version, replace with \n",
      "\tSeries.ewm(ignore_na=False,min_periods=0,adjust=True,com=14).mean()\n",
      "  roll_up1 = pd.stats.moments.ewma(up, window_length)\n",
      "indicators.py:30: FutureWarning: pd.ewm_mean is deprecated for Series and will be removed in a future version, replace with \n",
      "\tSeries.ewm(ignore_na=False,min_periods=0,adjust=True,com=14).mean()\n",
      "  roll_down1 = pd.stats.moments.ewma(down.abs(), window_length)\n",
      "indicators.py:42: FutureWarning: pd.rolling_mean is deprecated for Series and will be removed in a future version, replace with \n",
      "\tSeries.rolling(window=14,center=False).mean()\n",
      "  roll_up2 = pd.rolling_mean(up, window_length)\n",
      "indicators.py:43: FutureWarning: pd.rolling_mean is deprecated for Series and will be removed in a future version, replace with \n",
      "\tSeries.rolling(window=14,center=False).mean()\n",
      "  roll_down2 = pd.rolling_mean(down.abs(), window_length)\n"
     ]
    },
    {
     "name": "stdout",
     "output_type": "stream",
     "text": [
      "[[u'BTC_ETH', 23.556147392140275, 0.040260000000000004], [u'BTC_EXP', 25.272086901199785, 6.6270000000000001e-05], [u'BTC_XEM', 28.581583203458678, 1.4780000000000001e-05], [u'BTC_LBC', 29.732150724303324, 7.7800000000000001e-06], [u'BTC_BCH', 30.910413073371586, 0.077017450000000001], [u'BTC_BTCD', 30.972217527267688, 0.0022320399999999998]]\n"
     ]
    }
   ],
   "source": [
    "from indicators import rsi\n",
    "rsi_list = []\n",
    "\n",
    "for pair in pairs:\n",
    "    #print \"\\n\\t\",pair\n",
    "    asset = PairData(pair, 3600*24, weeks = 4.3*6)\n",
    "    RSI1, RSI2 = rsi(asset.df[\"close\"])\n",
    "    rsi_list.append([pair, RSI1[-1], asset.df[\"close\"][-1]])\n",
    "    #print sortino\n",
    "\n",
    "rsi_list.sort(key = lambda l:l[1], reverse=False)\n",
    "\n",
    "print rsi_list[0:6]"
   ]
  },
  {
   "cell_type": "code",
   "execution_count": 13,
   "metadata": {},
   "outputs": [
    {
     "name": "stdout",
     "output_type": "stream",
     "text": [
      "[[u'BTC_ETH', 23.556147392140275, 0.040260000000000004], [u'BTC_EXP', 25.272086901199785, 6.6270000000000001e-05], [u'BTC_XEM', 28.581583203458678, 1.4780000000000001e-05], [u'BTC_LBC', 29.732150724303324, 7.7800000000000001e-06], [u'BTC_BCH', 30.910413073371586, 0.077017450000000001], [u'BTC_BTCD', 30.972217527267688, 0.0022320399999999998], [u'BTC_GRC', 31.257222463618717, 3.0000000000000001e-06], [u'BTC_AMP', 32.231640767528162, 1.0300000000000001e-05], [u'BTC_EMC2', 34.552328248722333, 1.13e-05], [u'BTC_GAME', 34.673331615662462, 3.2629999999999998e-05]]\n"
     ]
    }
   ],
   "source": [
    "print rsi_list[0:10]"
   ]
  },
  {
   "cell_type": "code",
   "execution_count": 14,
   "metadata": {},
   "outputs": [
    {
     "name": "stdout",
     "output_type": "stream",
     "text": [
      "[[u'BTC_CLAM', 53.404609084646481, 0.00036660000000000002], [u'BTC_KNC', 55.11573389192074, 7.7260000000000002e-05], [u'BTC_PPC', 55.165162858850906, 0.00017945999999999999], [u'BTC_POT', 57.397227643803944, 6.0599999999999996e-06], [u'BTC_DOGE', 61.034043453697365, 4.3000000000000001e-07], [u'BTC_LOOM', 88.934902925642618, 1.6650000000000002e-05]]\n"
     ]
    }
   ],
   "source": [
    "print rsi_list[-6:]"
   ]
  },
  {
   "cell_type": "code",
   "execution_count": 19,
   "metadata": {},
   "outputs": [
    {
     "name": "stdout",
     "output_type": "stream",
     "text": [
      "[[900, 541.51296188192441], [1800, 73.255645609217297], [14400, 38.694182465502536], [86400, 1.9470227223728884], [7200, -0.85798679634650132], [300, -0.85933416170774157]]\n"
     ]
    }
   ],
   "source": [
    "def wc(period, n=288.0):\n",
    "    return (period*n)/(3600*24*7)\n",
    "# cálculo del ratio de Sortino de las últimas 288 velas para distintos intervalos de tiempo\n",
    "candels = [300, 900, 1800, 3600*2, 3600*4, 3600*24]\n",
    "cand_weeks = [(x, wc(x)) for x in candels]\n",
    "sortino_candels = []\n",
    "for c in cand_weeks:\n",
    "    #print \"\\n\\t\",c[0], c[1]\n",
    "    asset = PairData(\"USDT_BTC\", c[0], c[1])\n",
    "    sortino = asset.sortino()\n",
    "    sortino_candels.append([c[0], sortino])\n",
    "\n",
    "sortino_candels.sort(key = lambda l:l[1], reverse=True)\n",
    "print sortino_candels"
   ]
  },
  {
   "cell_type": "code",
   "execution_count": null,
   "metadata": {
    "collapsed": true
   },
   "outputs": [],
   "source": []
  }
 ],
 "metadata": {
  "anaconda-cloud": {},
  "kernelspec": {
   "display_name": "Python 2",
   "language": "python",
   "name": "python2"
  },
  "language_info": {
   "codemirror_mode": {
    "name": "ipython",
    "version": 2
   },
   "file_extension": ".py",
   "mimetype": "text/x-python",
   "name": "python",
   "nbconvert_exporter": "python",
   "pygments_lexer": "ipython2",
   "version": "2.7.14"
  }
 },
 "nbformat": 4,
 "nbformat_minor": 2
}
