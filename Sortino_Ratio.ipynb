{
 "cells": [
  {
   "cell_type": "code",
   "execution_count": 1,
   "metadata": {
    "collapsed": true
   },
   "outputs": [],
   "source": [
    "from poloniex import Poloniex\n",
    "\n",
    "polo = Poloniex()"
   ]
  },
  {
   "cell_type": "code",
   "execution_count": 2,
   "metadata": {},
   "outputs": [
    {
     "name": "stdout",
     "output_type": "stream",
     "text": [
      "[u'USDT_REP', u'BTC_CVC', u'BTC_XVC', u'BTC_PINK', u'BTC_SYS', u'BTC_EMC2', u'BTC_RADS', u'BTC_SC', u'BTC_MAID', u'BTC_BCH', u'BTC_GNT', u'BTC_BCN', u'BTC_REP', u'BTC_BCY', u'BTC_GNO', u'XMR_NXT', u'USDT_ZEC', u'BTC_FCT', u'BTC_GAS', u'USDT_ETH', u'USDT_BTC', u'BTC_LBC', u'BTC_DCR', u'USDT_ETC', u'ETH_OMG', u'BTC_AMP', u'BTC_XPM', u'BTC_NXT', u'BTC_VTC', u'ETH_STEEM', u'XMR_BLK', u'BTC_PASC', u'XMR_ZEC', u'BTC_GRC', u'BTC_NXC', u'BTC_BTCD', u'BTC_LTC', u'BTC_DASH', u'BTC_STORJ', u'ETH_ZEC', u'BTC_ZEC', u'BTC_BURST', u'ETH_ZRX', u'BTC_BELA', u'BTC_STEEM', u'BTC_ETC', u'BTC_ETH', u'BTC_HUC', u'BTC_STRAT', u'BTC_LSK', u'BTC_EXP', u'BTC_CLAM', u'ETH_REP', u'XMR_DASH', u'ETH_CVC', u'USDT_BCH', u'BTC_ZRX', u'USDT_DASH', u'BTC_BLK', u'BTC_XRP', u'USDT_NXT', u'BTC_NEOS', u'BTC_OMG', u'BTC_BTS', u'BTC_DOGE', u'ETH_GNT', u'BTC_SBD', u'ETH_GNO', u'BTC_XCP', u'USDT_LTC', u'BTC_BTM', u'USDT_XMR', u'ETH_LSK', u'BTC_OMNI', u'BTC_NAV', u'BTC_FLDC', u'ETH_BCH', u'BTC_XBC', u'BTC_DGB', u'XMR_BTCD', u'BTC_VRC', u'BTC_RIC', u'XMR_MAID', u'BTC_STR', u'BTC_POT', u'BTC_XMR', u'BTC_VIA', u'BTC_XEM', u'BTC_NMC', u'ETH_ETC', u'XMR_LTC', u'BTC_ARDR', u'ETH_GAS', u'BTC_FLO', u'USDT_XRP', u'BTC_GAME', u'BTC_PPC', u'XMR_BCN', u'USDT_STR']\n"
     ]
    }
   ],
   "source": [
    "markets = polo.returnTicker()\n",
    "pairs = []\n",
    "for name, thinks in markets.items():\n",
    "    pairs.append(name)\n",
    "print pairs"
   ]
  },
  {
   "cell_type": "code",
   "execution_count": 3,
   "metadata": {},
   "outputs": [
    {
     "name": "stdout",
     "output_type": "stream",
     "text": [
      "1.21846790972\n"
     ]
    }
   ],
   "source": [
    "# funciones necesarias para el manejo del tiempo\n",
    "from datetime import datetime, timedelta\n",
    "from time import sleep\n",
    "from tusp import string2ts\n",
    "from bot import prepareData\n",
    "import numpy as np\n",
    "import pylab as pl\n",
    "%matplotlib inline\n",
    "\n",
    "class PairData:\n",
    "    \n",
    "    def __init__(self, pair, period, weeks = 4.3*3):\n",
    "        \n",
    "        self.pair = pair\n",
    "        self.period = period\n",
    "        \n",
    "        tf = datetime.now()\n",
    "        self.tf = tf\n",
    "        end = string2ts(tf.strftime('%Y-%m-%d %H:%M:%S'))\n",
    "        self.end = end\n",
    "        delta = timedelta(weeks = weeks)\n",
    "        self.delta = delta\n",
    "        to = tf-delta\n",
    "        self.to = to\n",
    "        start = string2ts(to.strftime('%Y-%m-%d %H:%M:%S'))\n",
    "        self.start = start\n",
    "        \n",
    "        df = prepareData(pair=pair, start=start, end=end, period=int(period))\n",
    "        \n",
    "        self.df = df\n",
    "        self.market_return()\n",
    "    \n",
    "    def market_return(self):\n",
    "        \"\"\"Calcula el retorno del mercado vía log_retornos\n",
    "        \"\"\"\n",
    "        \n",
    "        serie = self.df[\"close\"]\n",
    "\n",
    "        # calculando los log retornos\n",
    "        log_return = np.log(serie).diff().fillna(0)\n",
    "\n",
    "        # calculando log retorno acumulado\n",
    "        cum_logr = log_return.cumsum()\n",
    "        cum_r = np.exp(cum_logr) - 1\n",
    "        \n",
    "        self.l_return = log_return\n",
    "        self.m_return = cum_r\n",
    "        \n",
    "    \n",
    "    def sortino(self, log = False):\n",
    "        \"\"\" Calcula en ratio de Sortino\n",
    "        \n",
    "        \"\"\"\n",
    "        \n",
    "        if log:\n",
    "            rets = self.l_return\n",
    "         \n",
    "        else:\n",
    "            rets = self.m_return\n",
    "\n",
    "        semi_var = rets[rets < 0] ** 2\n",
    "        semi_var = semi_var.sum()/len(rets)\n",
    "        sortino = np.sqrt(semi_var)\n",
    "\n",
    "        return rets.mean()/sortino\n",
    "\n",
    "\n",
    "dgb = PairData(\"BTC_BCH\", 3600*4)\n",
    "\n",
    "print dgb.sortino(log = False)"
   ]
  },
  {
   "cell_type": "code",
   "execution_count": 4,
   "metadata": {},
   "outputs": [
    {
     "name": "stdout",
     "output_type": "stream",
     "text": [
      "[[u'USDT_XRP', 0.20612389212942539], [u'USDT_STR', 0.18957319667259501], [u'BTC_STR', 0.13136909667440161], [u'USDT_LTC', 0.12073827334834676], [u'USDT_BTC', 0.11103596336841133], [u'USDT_NXT', 0.10806913619247328]]\n"
     ]
    }
   ],
   "source": [
    "sortinos = []\n",
    "\n",
    "for pair in pairs:\n",
    "    #print \"\\n\\t\",pair\n",
    "    asset = PairData(pair, 3600*4)\n",
    "    sortino = asset.sortino(log = True)\n",
    "    sortinos.append([pair, sortino])\n",
    "    #print sortino\n",
    "\n",
    "sortinos.sort(key = lambda l:l[1], reverse=True)\n",
    "\n",
    "print sortinos[0:6]"
   ]
  },
  {
   "cell_type": "code",
   "execution_count": 5,
   "metadata": {},
   "outputs": [
    {
     "name": "stdout",
     "output_type": "stream",
     "text": [
      "[[u'USDT_XRP', 0.20612389212942539], [u'USDT_STR', 0.18957319667259501], [u'BTC_STR', 0.13136909667440161], [u'USDT_LTC', 0.12073827334834676], [u'USDT_BTC', 0.11103596336841133], [u'USDT_NXT', 0.10806913619247328], [u'USDT_BCH', 0.10522886442488358], [u'USDT_XMR', 0.10205678496182449], [u'USDT_ETH', 0.10198798421853054], [u'USDT_DASH', 0.099879884115512699], [u'USDT_REP', 0.088248401349978328]]\n"
     ]
    }
   ],
   "source": [
    "print sortinos[0:11]"
   ]
  },
  {
   "cell_type": "code",
   "execution_count": 6,
   "metadata": {
    "collapsed": true
   },
   "outputs": [],
   "source": [
    "sortinos = [x for x in sortinos if x[0].split(\"_\")[0] == \"BTC\"]"
   ]
  },
  {
   "cell_type": "code",
   "execution_count": 7,
   "metadata": {},
   "outputs": [
    {
     "name": "stdout",
     "output_type": "stream",
     "text": [
      "[[u'BTC_STR', 0.13136909667440161], [u'BTC_XRP', 0.081718032510731883], [u'BTC_ARDR', 0.072103788475815625], [u'BTC_BTS', 0.062116712428877334], [u'BTC_NXT', 0.058446424572946368], [u'BTC_DOGE', 0.05530035044522278], [u'BTC_SBD', 0.052183053359077178], [u'BTC_STORJ', 0.041487657909697988], [u'BTC_VTC', 0.039306623425633333], [u'BTC_AMP', 0.038650793548182731], [u'BTC_BURST', 0.038456603546897443], [u'BTC_PASC', 0.038077288287550665], [u'BTC_SC', 0.037832327478281184], [u'BTC_NEOS', 0.03661626972108932], [u'BTC_EMC2', 0.035495446414399529], [u'BTC_BCH', 0.034649056418763556], [u'BTC_LTC', 0.033002987280579842], [u'BTC_XPM', 0.026767180069982667], [u'BTC_ZRX', 0.025504315291629318], [u'BTC_POT', 0.025098650939733541], [u'BTC_XEM', 0.023807301976670862], [u'BTC_BCN', 0.023231106748997241], [u'BTC_RIC', 0.02272270155351255], [u'BTC_SYS', 0.021772570730609935], [u'BTC_FLDC', 0.021424442411626225], [u'BTC_BLK', 0.021348334055110756], [u'BTC_BTM', 0.019551676584483882], [u'BTC_DGB', 0.019352927917178304], [u'BTC_GRC', 0.018879838863293811], [u'BTC_XMR', 0.016391138440727673], [u'BTC_STRAT', 0.014855122556312468], [u'BTC_OMNI', 0.014781520809565617], [u'BTC_REP', 0.014071879418467834], [u'BTC_LSK', 0.011931642213717147], [u'BTC_PPC', 0.0093702701023251622], [u'BTC_VIA', 0.008273091229103505], [u'BTC_NAV', 0.0065926129693322424], [u'BTC_DASH', 0.0055846234734566718], [u'BTC_FCT', 0.0052044981825847998], [u'BTC_HUC', 0.0040345700802141013], [u'BTC_GNT', 0.0026940454119775709], [u'BTC_LBC', 0.0024332663239041543], [u'BTC_XCP', 0.0017949243464154628], [u'BTC_BTCD', 0.0012622928043021545], [u'BTC_NMC', -0.00013821551574948489], [u'BTC_XVC', -0.0022700942037261426], [u'BTC_VRC', -0.0024004203003449801], [u'BTC_DCR', -0.0047567694819677445], [u'BTC_RADS', -0.0052880753116943836], [u'BTC_BCY', -0.0067256865962644049], [u'BTC_FLO', -0.0074707139246619819], [u'BTC_EXP', -0.010288948304830823], [u'BTC_CVC', -0.017058798044205594], [u'BTC_BELA', -0.018103410623220444], [u'BTC_STEEM', -0.01861488689050976], [u'BTC_ETC', -0.018976630117331354], [u'BTC_MAID', -0.020101029556342829], [u'BTC_ETH', -0.021486220542132412], [u'BTC_OMG', -0.022470254301266156], [u'BTC_XBC', -0.026572800261363008], [u'BTC_PINK', -0.026769074456470612], [u'BTC_NXC', -0.029122916544773222], [u'BTC_CLAM', -0.034278406004155743], [u'BTC_GNO', -0.036286690345923633], [u'BTC_GAME', -0.038716811411002257], [u'BTC_ZEC', -0.039578469295886633], [u'BTC_GAS', -0.066862379161674368]]\n"
     ]
    }
   ],
   "source": [
    "print sortinos"
   ]
  },
  {
   "cell_type": "code",
   "execution_count": 8,
   "metadata": {
    "collapsed": true
   },
   "outputs": [],
   "source": [
    "pairs = [x for x in pairs if x.split(\"_\")[0] == \"BTC\"]"
   ]
  },
  {
   "cell_type": "code",
   "execution_count": 9,
   "metadata": {},
   "outputs": [
    {
     "name": "stderr",
     "output_type": "stream",
     "text": [
      "indicators.py:29: FutureWarning: pd.ewm_mean is deprecated for Series and will be removed in a future version, replace with \n",
      "\tSeries.ewm(ignore_na=False,min_periods=0,adjust=True,com=14).mean()\n",
      "  roll_up1 = pd.stats.moments.ewma(up, window_length)\n",
      "indicators.py:30: FutureWarning: pd.ewm_mean is deprecated for Series and will be removed in a future version, replace with \n",
      "\tSeries.ewm(ignore_na=False,min_periods=0,adjust=True,com=14).mean()\n",
      "  roll_down1 = pd.stats.moments.ewma(down.abs(), window_length)\n",
      "indicators.py:42: FutureWarning: pd.rolling_mean is deprecated for Series and will be removed in a future version, replace with \n",
      "\tSeries.rolling(window=14,center=False).mean()\n",
      "  roll_up2 = pd.rolling_mean(up, window_length)\n",
      "indicators.py:43: FutureWarning: pd.rolling_mean is deprecated for Series and will be removed in a future version, replace with \n",
      "\tSeries.rolling(window=14,center=False).mean()\n",
      "  roll_down2 = pd.rolling_mean(down.abs(), window_length)\n"
     ]
    },
    {
     "name": "stdout",
     "output_type": "stream",
     "text": [
      "[[u'BTC_EMC2', 44.878882020049012], [u'BTC_NXT', 45.184407918716602], [u'BTC_VTC', 46.667719222243846], [u'BTC_ZEC', 53.622935319825956], [u'BTC_BCH', 54.418331556867471], [u'BTC_ETC', 54.837203747099231]]\n"
     ]
    }
   ],
   "source": [
    "from indicators import rsi\n",
    "rsi_list = []\n",
    "\n",
    "for pair in pairs:\n",
    "    #print \"\\n\\t\",pair\n",
    "    asset = PairData(pair, 3600*24, weeks = 4.3*6)\n",
    "    RSI1, RSI2 = rsi(asset.df[\"close\"])\n",
    "    rsi_list.append([pair, RSI1[-1]])\n",
    "    #print sortino\n",
    "\n",
    "rsi_list.sort(key = lambda l:l[1], reverse=False)\n",
    "\n",
    "print rsi_list[0:6]"
   ]
  },
  {
   "cell_type": "code",
   "execution_count": null,
   "metadata": {
    "collapsed": true
   },
   "outputs": [],
   "source": []
  }
 ],
 "metadata": {
  "anaconda-cloud": {},
  "kernelspec": {
   "display_name": "Python 2",
   "language": "python",
   "name": "python2"
  },
  "language_info": {
   "codemirror_mode": {
    "name": "ipython",
    "version": 2
   },
   "file_extension": ".py",
   "mimetype": "text/x-python",
   "name": "python",
   "nbconvert_exporter": "python",
   "pygments_lexer": "ipython2",
   "version": "2.7.13"
  }
 },
 "nbformat": 4,
 "nbformat_minor": 2
}
