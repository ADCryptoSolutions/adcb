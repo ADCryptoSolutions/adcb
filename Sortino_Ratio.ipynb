{
 "cells": [
  {
   "cell_type": "code",
   "execution_count": 30,
   "metadata": {
    "collapsed": true
   },
   "outputs": [],
   "source": [
    "from poloniex import Poloniex\n",
    "\n",
    "polo = Poloniex()"
   ]
  },
  {
   "cell_type": "code",
   "execution_count": 31,
   "metadata": {
    "collapsed": true
   },
   "outputs": [],
   "source": [
    "markets = polo.returnTicker()\n",
    "pairs = []\n",
    "for name, thinks in markets.items():\n",
    "    pairs.append(name)"
   ]
  },
  {
   "cell_type": "code",
   "execution_count": 32,
   "metadata": {},
   "outputs": [
    {
     "name": "stdout",
     "output_type": "stream",
     "text": [
      "69405.241737\n"
     ]
    }
   ],
   "source": [
    "# funciones necesarias para el manejo del tiempo\n",
    "from datetime import datetime, timedelta\n",
    "from time import sleep\n",
    "from tusp import string2ts\n",
    "from bot import prepareData\n",
    "import numpy as np\n",
    "import pylab as pl\n",
    "%matplotlib inline\n",
    "\n",
    "class PairData:\n",
    "    \n",
    "    def __init__(self, pair, period, weeks = 4.3*3, backto = None):\n",
    "            \n",
    "        self.pair = pair\n",
    "        self.period = period\n",
    "        delta = timedelta(weeks = weeks)\n",
    "        self.delta = delta\n",
    "        start = \"\"\n",
    "        end = \"\"\n",
    "\n",
    "        # Sí el tiempo final es diferente al actual...\n",
    "        if backto != None:\n",
    "            to = datetime.strptime(backto, \"%Y-%m-%d %H:%M:%S\")\n",
    "            self.to = to\n",
    "            start = string2ts(to.strftime('%Y-%m-%d %H:%M:%S'))\n",
    "            \n",
    "            tf = to + delta\n",
    "            self.tf = tf\n",
    "            end = string2ts(tf.strftime('%Y-%m-%d %H:%M:%S'))\n",
    "            \n",
    "        else:\n",
    "            tf = datetime.now()\n",
    "            self.tf = tf\n",
    "            end = string2ts(tf.strftime('%Y-%m-%d %H:%M:%S'))\n",
    "            \n",
    "            to = tf-delta\n",
    "            self.to = to\n",
    "            start = string2ts(to.strftime('%Y-%m-%d %H:%M:%S'))\n",
    "                              \n",
    "\n",
    "        self.start = start\n",
    "        self.end = end\n",
    "        df = prepareData(pair=pair, start=start, end=end, period=int(period))\n",
    "        \n",
    "        self.df = df\n",
    "        self.market_return()\n",
    "        self.cum_volume()\n",
    "    \n",
    "    def market_return(self):\n",
    "        \"\"\"Calcula el retorno del mercado vía log_retornos\n",
    "        \"\"\"\n",
    "        \n",
    "        serie = self.df[\"close\"]\n",
    "\n",
    "        # calculando los log retornos\n",
    "        log_return = np.log(serie).diff().fillna(0)\n",
    "\n",
    "        # calculando log retorno acumulado\n",
    "        cum_logr = log_return.cumsum()\n",
    "        cum_r = np.exp(cum_logr) - 1\n",
    "        \n",
    "        self.l_return = log_return\n",
    "        self.m_return = cum_r\n",
    "        \n",
    "    def cum_volume(self):\n",
    "        \"\"\"Calcula el volumen acumulado del mercado\n",
    "        \"\"\"\n",
    "        serie = self.df[\"volume\"]\n",
    "        self.c_volume = serie.cumsum()[-1]\n",
    "        \n",
    "    def sortino(self, log = False):\n",
    "        \"\"\" Calcula en ratio de Sortino\n",
    "        \n",
    "        \"\"\"\n",
    "        \n",
    "        if log:\n",
    "            rets = self.l_return\n",
    "         \n",
    "        else:\n",
    "            rets = self.m_return\n",
    "\n",
    "        semi_var = rets[rets < 0] ** 2\n",
    "        semi_var = semi_var.sum()/len(rets)\n",
    "        sortino = np.sqrt(semi_var)\n",
    "\n",
    "        return rets.mean()/sortino\n",
    "\n",
    "    def sharpe(self, period_ret = 0.2):\n",
    "        \"\"\"\n",
    "        Calculate the annualised Sharpe ratio of a returns stream \n",
    "        based on a number of trading periods, N. N defaults to 252,\n",
    "        which then assumes a stream of daily returns.\n",
    "\n",
    "        The function assumes that the returns are the excess of \n",
    "        those compared to a benchmark.\n",
    "        \"\"\"\n",
    "        N = self.delta.days\n",
    "        returns = self.l_return\n",
    "        excess_ret = returns - period_ret/N\n",
    "        return np.sqrt(N) * excess_ret.mean() / excess_ret.std()\n",
    "    \n",
    "dgb = PairData(\"BTC_DGB\", 3600*4)\n",
    "\n",
    "print dgb.c_volume"
   ]
  },
  {
   "cell_type": "code",
   "execution_count": 33,
   "metadata": {},
   "outputs": [],
   "source": [
    "# cálculo del ratio de Sortino del último mes\n",
    "volumes = []\n",
    "pairs = [x for x in pairs if x.split(\"_\")[0] == \"BTC\"]\n",
    "for pair in pairs:\n",
    "    #print \"\\n\\t\",pair\n",
    "    asset = PairData(pair, 3600*4, 4.28*2)\n",
    "    volume = asset.c_volume\n",
    "    volumes.append([pair, volume])\n",
    "    #print sortino\n",
    "\n",
    "volumes.sort(key = lambda l:l[1], reverse=True)"
   ]
  },
  {
   "cell_type": "code",
   "execution_count": 34,
   "metadata": {},
   "outputs": [
    {
     "name": "stdout",
     "output_type": "stream",
     "text": [
      "[[u'BTC_XRP', 645479.59457882994], [u'BTC_ETH', 517940.85817626998], [u'BTC_BCH', 259859.07800493002], [u'BTC_STR', 255435.18804196999], [u'BTC_LTC', 191898.49865677007], [u'BTC_XMR', 103318.25899023995]]\n"
     ]
    }
   ],
   "source": [
    "print volumes[:6]"
   ]
  },
  {
   "cell_type": "code",
   "execution_count": 35,
   "metadata": {
    "collapsed": true
   },
   "outputs": [],
   "source": [
    "# cálculo del ratio de Sortino del último mes\n",
    "sortinos = []\n",
    "pairs = [x for x in pairs if x.split(\"_\")[0] == \"BTC\"]\n",
    "for pair in pairs:\n",
    "    #print \"\\n\\t\",pair\n",
    "    asset = PairData(pair, 3600*4, 4.28*2)\n",
    "    sortino = asset.sortino(log = True)\n",
    "    sortinos.append([pair, sortino])\n",
    "    #print sortino\n",
    "\n",
    "sortinos.sort(key = lambda l:l[1], reverse=True)\n",
    "\n",
    "# Cálculo del ratio de Sortino del penúltimo mes\n",
    "sortinos2 = []\n",
    "\n",
    "for pair in pairs:\n",
    "    #print \"\\n\\t\",pair\n",
    "    asset = PairData(pair, 3600*4, 4.28*2, \"2017-11-14 00:00:00\")\n",
    "    sortino = asset.sortino(log = True)\n",
    "    sortinos2.append([pair, sortino])\n",
    "    #print sortino\n",
    "\n",
    "sortinos2.sort(key = lambda l:l[1], reverse=True)\n",
    "\n",
    "# Cálculo del ratio de Sortino del penúltimo mes\n",
    "sortinos3 = []\n",
    "\n",
    "for pair in pairs:\n",
    "    #print \"\\n\\t\",pair\n",
    "    asset = PairData(pair, 3600*4, 4.28*2, \"2017-10-14 00:00:00\")\n",
    "    sortino = asset.sortino(log = True)\n",
    "    sortinos3.append([pair, sortino])\n",
    "    #print sortino\n",
    "\n",
    "sortinos3.sort(key = lambda l:l[1], reverse=True)"
   ]
  },
  {
   "cell_type": "code",
   "execution_count": 43,
   "metadata": {},
   "outputs": [
    {
     "name": "stdout",
     "output_type": "stream",
     "text": [
      "Octubre a Noviembre\n",
      "[[u'BTC_STR', 0.18996736555236127], [u'BTC_SC', 0.16927471652832185], [u'BTC_BURST', 0.15335356963507588]]\n",
      "Noviembre a Diciembre\n",
      "[[u'BTC_STR', 0.1960905926315005], [u'BTC_SC', 0.16516678529416567], [u'BTC_BURST', 0.15996807743790623]]\n",
      "Diciembre a Enero\n",
      "[[u'BTC_STR', 0.18996736555236127], [u'BTC_SC', 0.16927471652832185], [u'BTC_BURST', 0.15335356963507588]]\n"
     ]
    }
   ],
   "source": [
    "print \"Octubre a Noviembre\"\n",
    "print sortinos3[:3]\n",
    "print \"Noviembre a Diciembre\"\n",
    "print sortinos2[:3]\n",
    "print \"Diciembre a Enero\"\n",
    "print sortinos[:3]"
   ]
  },
  {
   "cell_type": "code",
   "execution_count": 37,
   "metadata": {},
   "outputs": [],
   "source": [
    "# cálculo del ratio de Sharpe del último mes\n",
    "sharpes = []\n",
    "for pair in pairs:\n",
    "    asset_past = PairData(pair, 3600*4, 4.28*2, \"2017-11-14 00:00:00\")\n",
    "    ret = asset_past.m_return[-1]\n",
    "    asset = PairData(pair, 3600*4, 4.28*2)\n",
    "    sharpe = asset.sharpe(ret)\n",
    "    sharpes.append([pair, sharpe])\n",
    "\n",
    "sharpes.sort(key = lambda l:l[1], reverse=True)\n",
    "\n",
    "# Cálculo del ratio de Sharpe del penúltimo mes\n",
    "sharpes2 = []\n",
    "\n",
    "for pair in pairs:\n",
    "    asset_past = PairData(pair, 3600*4, 4.28*2, \"2017-10-14 00:00:00\")\n",
    "    ret = asset_past.m_return[-1]\n",
    "    asset = PairData(pair, 3600*4, 4.28*2, \"2017-11-14 00:00:00\")\n",
    "    sharpe = asset.sharpe()\n",
    "    sharpes2.append([pair, sharpe])\n",
    "\n",
    "sharpes2.sort(key = lambda l:l[1], reverse=True)\n",
    "\n",
    "# Cálculo del ratio de Sharpe del penúltimo mes\n",
    "sharpes3 = []\n",
    "\n",
    "for pair in pairs:\n",
    "    asset_past = PairData(pair, 3600*4, 4.28*2, \"2017-09-14 00:00:00\")\n",
    "    ret = asset_past.m_return[-1]\n",
    "    asset = PairData(pair, 3600*4, 4.28*2, \"2017-10-14 00:00:00\")\n",
    "    sharpe = asset.sharpe()\n",
    "    sharpes3.append([pair, sharpe])\n",
    "\n",
    "sharpes3.sort(key = lambda l:l[1], reverse=True)"
   ]
  },
  {
   "cell_type": "code",
   "execution_count": 42,
   "metadata": {},
   "outputs": [
    {
     "name": "stdout",
     "output_type": "stream",
     "text": [
      "Octubre y Noviembre\n",
      "[[u'BTC_EMC2', 0.15729527376916327], [u'BTC_NXT', 0.023479674988932761], [u'BTC_STR', -0.075880999224661863]]\n",
      "Noviembre y Diciembre\n",
      "[[u'BTC_STR', 0.45279572024813147], [u'BTC_SC', 0.32720856845234464], [u'BTC_BURST', 0.25713595584531107]]\n",
      "Diciembre y Enero\n",
      "[[u'BTC_VTC', 0.76318594268145801], [u'BTC_XBC', 0.41926137632494292], [u'BTC_BCH', 0.41597933973769302]]\n"
     ]
    }
   ],
   "source": [
    "print \"Octubre y Noviembre\"\n",
    "print sharpes3[:3]\n",
    "print \"Noviembre y Diciembre\"\n",
    "print sharpes2[:3]\n",
    "print \"Diciembre y Enero\"\n",
    "print sharpes[:3]"
   ]
  },
  {
   "cell_type": "code",
   "execution_count": null,
   "metadata": {
    "collapsed": true
   },
   "outputs": [],
   "source": []
  },
  {
   "cell_type": "code",
   "execution_count": 39,
   "metadata": {},
   "outputs": [
    {
     "name": "stdout",
     "output_type": "stream",
     "text": [
      "[[u'BTC_STR', 0.18996736555236127], [u'BTC_SC', 0.16927471652832185], [u'BTC_BURST', 0.15335356963507588], [u'BTC_XRP', 0.14252262782046513], [u'BTC_ZRX', 0.1368647096163062], [u'BTC_DOGE', 0.13672545844392933], [u'BTC_DGB', 0.13214376559913726]]\n"
     ]
    }
   ],
   "source": [
    "sortinos3 = [x for x in sortinos if x[0].split(\"_\")[0] == \"BTC\"]\n",
    "print sortinos3[0:7]"
   ]
  },
  {
   "cell_type": "code",
   "execution_count": 40,
   "metadata": {
    "collapsed": true
   },
   "outputs": [],
   "source": [
    "pairs = [x for x in pairs if x.split(\"_\")[0] == \"BTC\"]"
   ]
  },
  {
   "cell_type": "code",
   "execution_count": 41,
   "metadata": {},
   "outputs": [
    {
     "name": "stdout",
     "output_type": "stream",
     "text": [
      "[[u'BTC_NXT', 40.532260289689546], [u'BTC_BTS', 41.738454386648755], [u'BTC_VTC', 41.875755753143629], [u'BTC_SBD', 42.148668170862223], [u'BTC_BTCD', 43.244597916653454], [u'BTC_EMC2', 44.613689029544055]]\n"
     ]
    }
   ],
   "source": [
    "from indicators import rsi\n",
    "rsi_list = []\n",
    "\n",
    "for pair in pairs:\n",
    "    #print \"\\n\\t\",pair\n",
    "    asset = PairData(pair, 3600*24, weeks = 4.3*6)\n",
    "    RSI1, RSI2 = rsi(asset.df[\"close\"])\n",
    "    rsi_list.append([pair, RSI1[-1]])\n",
    "    #print sortino\n",
    "\n",
    "rsi_list.sort(key = lambda l:l[1], reverse=False)\n",
    "\n",
    "print rsi_list[0:6]"
   ]
  },
  {
   "cell_type": "code",
   "execution_count": null,
   "metadata": {
    "collapsed": true
   },
   "outputs": [],
   "source": []
  },
  {
   "cell_type": "code",
   "execution_count": null,
   "metadata": {
    "collapsed": true
   },
   "outputs": [],
   "source": []
  }
 ],
 "metadata": {
  "anaconda-cloud": {},
  "kernelspec": {
   "display_name": "Python 2",
   "language": "python",
   "name": "python2"
  },
  "language_info": {
   "codemirror_mode": {
    "name": "ipython",
    "version": 2
   },
   "file_extension": ".py",
   "mimetype": "text/x-python",
   "name": "python",
   "nbconvert_exporter": "python",
   "pygments_lexer": "ipython2",
   "version": "2.7.14"
  }
 },
 "nbformat": 4,
 "nbformat_minor": 2
}
