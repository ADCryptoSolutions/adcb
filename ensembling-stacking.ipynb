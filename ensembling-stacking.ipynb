{
 "cells": [
  {
   "cell_type": "code",
   "execution_count": 1,
   "metadata": {
    "collapsed": true
   },
   "outputs": [],
   "source": [
    "import pandas as pd\n",
    "import pylab as plt\n",
    "from tusp import string2ts, ts2string\n",
    "from bot import prepareData,marketReturn\n",
    "import numpy as np\n",
    "import seaborn as sns\n",
    "%matplotlib inline\n",
    "plt.rcParams['figure.figsize'] = 15, 8\n",
    "\n",
    "# trayendo y preparando datos\n",
    "df  = prepareData(pair=\"BTC_XRP\",\n",
    "                  start=string2ts(\"2017-08-01 00:00:00\"),\n",
    "                  end=string2ts(\"2018-04-01 00:00:00\"),\n",
    "                  period=3600*4)\n",
    "per = 0.85\n",
    "\n",
    "from stockstats import StockDataFrame\n",
    "\n",
    "stock = StockDataFrame.retype(df.copy())\n"
   ]
  },
  {
   "cell_type": "code",
   "execution_count": 17,
   "metadata": {},
   "outputs": [
    {
     "name": "stdout",
     "output_type": "stream",
     "text": [
      "Retorno de estrategia ideal: 42647.6566934\n"
     ]
    },
    {
     "data": {
      "text/html": [
       "<div>\n",
       "<style>\n",
       "    .dataframe thead tr:only-child th {\n",
       "        text-align: right;\n",
       "    }\n",
       "\n",
       "    .dataframe thead th {\n",
       "        text-align: left;\n",
       "    }\n",
       "\n",
       "    .dataframe tbody tr th {\n",
       "        vertical-align: top;\n",
       "    }\n",
       "</style>\n",
       "<table border=\"1\" class=\"dataframe\">\n",
       "  <thead>\n",
       "    <tr style=\"text-align: right;\">\n",
       "      <th></th>\n",
       "      <th>cci</th>\n",
       "      <th>close</th>\n",
       "      <th>dma</th>\n",
       "      <th>ideal_w</th>\n",
       "      <th>kdjd</th>\n",
       "      <th>kdjj</th>\n",
       "      <th>kdjk</th>\n",
       "      <th>log_return</th>\n",
       "      <th>macd</th>\n",
       "      <th>macds</th>\n",
       "      <th>price</th>\n",
       "      <th>pricew</th>\n",
       "      <th>rsi</th>\n",
       "      <th>trix</th>\n",
       "      <th>volatility</th>\n",
       "      <th>volumen</th>\n",
       "      <th>vr</th>\n",
       "      <th>wr</th>\n",
       "    </tr>\n",
       "    <tr>\n",
       "      <th>date</th>\n",
       "      <th></th>\n",
       "      <th></th>\n",
       "      <th></th>\n",
       "      <th></th>\n",
       "      <th></th>\n",
       "      <th></th>\n",
       "      <th></th>\n",
       "      <th></th>\n",
       "      <th></th>\n",
       "      <th></th>\n",
       "      <th></th>\n",
       "      <th></th>\n",
       "      <th></th>\n",
       "      <th></th>\n",
       "      <th></th>\n",
       "      <th></th>\n",
       "      <th></th>\n",
       "      <th></th>\n",
       "    </tr>\n",
       "  </thead>\n",
       "  <tbody>\n",
       "    <tr>\n",
       "      <th>2018-02-23 03:00:00</th>\n",
       "      <td>214.267185</td>\n",
       "      <td>0.000095</td>\n",
       "      <td>-0.000009</td>\n",
       "      <td>1.0</td>\n",
       "      <td>53.732931</td>\n",
       "      <td>113.056990</td>\n",
       "      <td>73.507618</td>\n",
       "      <td>0.634113</td>\n",
       "      <td>-0.000002</td>\n",
       "      <td>-0.000003</td>\n",
       "      <td>0.000095</td>\n",
       "      <td>0.000094</td>\n",
       "      <td>50.894320</td>\n",
       "      <td>-0.465825</td>\n",
       "      <td>True</td>\n",
       "      <td>295.864605</td>\n",
       "      <td>40.239586</td>\n",
       "      <td>2.253521</td>\n",
       "    </tr>\n",
       "    <tr>\n",
       "      <th>2018-02-23 07:00:00</th>\n",
       "      <td>128.038925</td>\n",
       "      <td>0.000092</td>\n",
       "      <td>-0.000009</td>\n",
       "      <td>1.0</td>\n",
       "      <td>58.545869</td>\n",
       "      <td>87.423497</td>\n",
       "      <td>68.171745</td>\n",
       "      <td>0.585970</td>\n",
       "      <td>-0.000002</td>\n",
       "      <td>-0.000003</td>\n",
       "      <td>0.000092</td>\n",
       "      <td>0.000094</td>\n",
       "      <td>42.384229</td>\n",
       "      <td>-0.420827</td>\n",
       "      <td>True</td>\n",
       "      <td>213.864737</td>\n",
       "      <td>39.166339</td>\n",
       "      <td>42.500000</td>\n",
       "    </tr>\n",
       "    <tr>\n",
       "      <th>2018-02-23 11:00:00</th>\n",
       "      <td>92.242809</td>\n",
       "      <td>0.000093</td>\n",
       "      <td>-0.000008</td>\n",
       "      <td>0.0</td>\n",
       "      <td>61.726153</td>\n",
       "      <td>80.807852</td>\n",
       "      <td>68.086719</td>\n",
       "      <td>0.598865</td>\n",
       "      <td>-0.000002</td>\n",
       "      <td>-0.000003</td>\n",
       "      <td>0.000093</td>\n",
       "      <td>0.000093</td>\n",
       "      <td>45.035389</td>\n",
       "      <td>-0.375472</td>\n",
       "      <td>False</td>\n",
       "      <td>706.965509</td>\n",
       "      <td>53.269528</td>\n",
       "      <td>32.083333</td>\n",
       "    </tr>\n",
       "  </tbody>\n",
       "</table>\n",
       "</div>"
      ],
      "text/plain": [
       "                            cci     close       dma  ideal_w       kdjd  \\\n",
       "date                                                                      \n",
       "2018-02-23 03:00:00  214.267185  0.000095 -0.000009      1.0  53.732931   \n",
       "2018-02-23 07:00:00  128.038925  0.000092 -0.000009      1.0  58.545869   \n",
       "2018-02-23 11:00:00   92.242809  0.000093 -0.000008      0.0  61.726153   \n",
       "\n",
       "                           kdjj       kdjk  log_return      macd     macds  \\\n",
       "date                                                                         \n",
       "2018-02-23 03:00:00  113.056990  73.507618    0.634113 -0.000002 -0.000003   \n",
       "2018-02-23 07:00:00   87.423497  68.171745    0.585970 -0.000002 -0.000003   \n",
       "2018-02-23 11:00:00   80.807852  68.086719    0.598865 -0.000002 -0.000003   \n",
       "\n",
       "                        price    pricew        rsi      trix  volatility  \\\n",
       "date                                                                       \n",
       "2018-02-23 03:00:00  0.000095  0.000094  50.894320 -0.465825        True   \n",
       "2018-02-23 07:00:00  0.000092  0.000094  42.384229 -0.420827        True   \n",
       "2018-02-23 11:00:00  0.000093  0.000093  45.035389 -0.375472       False   \n",
       "\n",
       "                        volumen         vr         wr  \n",
       "date                                                   \n",
       "2018-02-23 03:00:00  295.864605  40.239586   2.253521  \n",
       "2018-02-23 07:00:00  213.864737  39.166339  42.500000  \n",
       "2018-02-23 11:00:00  706.965509  53.269528  32.083333  "
      ]
     },
     "execution_count": 17,
     "metadata": {},
     "output_type": "execute_result"
    }
   ],
   "source": [
    "from mldata import ml_data\n",
    "from orders import orders\n",
    "from profit import profit\n",
    "from bot import marketReturn\n",
    "\n",
    "df[\"ml_data\"] = ml_data(df[\"close\"],la=10, pl=False)\n",
    "\n",
    "w4 = pd.DataFrame(data={\"w\":df[\"ml_data\"].values,\"price\":df[\"close\"]})\n",
    "w4[\"orders\"] = orders(w4[\"w\"])\n",
    "w4[\"w\"] = w4[\"w\"].shift(1)\n",
    "relReturn, vecReturn4 = profit(w4)\n",
    "print \"Retorno de estrategia ideal: %s\"%(relReturn*100)\n",
    "\n",
    "data = pd.DataFrame(data={\"price\":df[\"close\"],\"pricew\":df[\"weightedAverage\"],\"volumen\":df[\"volume\"],\n",
    "                          \"rsi\":stock[\"rsi_14\"],\"macd\":stock[\"macd\"],\"macds\":stock[\"macds\"],\"cci\":stock[\"cci\"],\n",
    "                          \"wr\":stock[\"wr_14\"],\"ideal_w\":w4[\"w\"],\"volatility\": df[\"volatility\"],\"close\":df[\"close\"],\"kdjk\":stock[\"kdjk\"],\n",
    "                          \"kdjd\":stock[\"kdjd\"],\"kdjj\":stock[\"kdjj\"], \"dma\":stock[\"dma\"], \"trix\":stock[\"trix\"],\n",
    "                          \"vr\":stock[\"vr\"], \"log_return\":marketReturn(df[\"close\"])})\n",
    "\n",
    "data.replace([np.inf, -np.inf], np.nan, inplace=True)\n",
    "data.fillna(method='bfill', inplace=True)\n",
    "\n",
    "train = data[1:int(len(data)*per)]\n",
    "test = data[int(len(data)*per):]\n",
    "\n",
    "train.tail(3)"
   ]
  },
  {
   "cell_type": "code",
   "execution_count": 18,
   "metadata": {
    "collapsed": true
   },
   "outputs": [],
   "source": [
    "from sklearn.linear_model import LogisticRegression\n",
    "from sklearn.neighbors import KNeighborsClassifier\n",
    "from sklearn.ensemble import RandomForestClassifier\n",
    "from sklearn.ensemble import AdaBoostClassifier\n",
    "from xgboost import XGBClassifier\n",
    "from sklearn.metrics import accuracy_score\n",
    "from sklearn.tree import DecisionTreeClassifier\n",
    "from sklearn.neural_network import BernoulliRBM\n",
    "from sklearn.neural_network import MLPClassifier\n",
    "from sklearn.svm import SVC\n",
    "from sklearn.pipeline import Pipeline\n",
    "from sklearn.model_selection import cross_val_score\n",
    "from sklearn.model_selection import GridSearchCV\n",
    "\n",
    "features = [\"log_return\",\"rsi\",\"cci\",\"macds\",\"macd\",\"wr\",\"trix\",\"vr\"]\n",
    "\n",
    "X, y = data[features], data[\"ideal_w\"]\n",
    "X_train, y_train, X_test, y_test = train[features], train[\"ideal_w\"], test[features], test[\"ideal_w\"]"
   ]
  },
  {
   "cell_type": "markdown",
   "metadata": {},
   "source": [
    "## Usando paquete Mlxtend"
   ]
  },
  {
   "cell_type": "code",
   "execution_count": 19,
   "metadata": {},
   "outputs": [
    {
     "name": "stdout",
     "output_type": "stream",
     "text": [
      "Random Forest 0.730593607306\n",
      "XGB 0.730593607306\n",
      "SVC 0.616438356164\n",
      "knn 0.744292237443\n",
      "Ensemble 0.721461187215\n"
     ]
    }
   ],
   "source": [
    "from mlxtend.classifier import EnsembleVoteClassifier\n",
    "\n",
    "\n",
    "clf1 = RandomForestClassifier(n_estimators=45, max_depth=4, min_samples_split=65)\n",
    "clf2 = DecisionTreeClassifier(max_depth=3, min_samples_split=250, min_samples_leaf=145)\n",
    "clf3 = XGBClassifier(n_estimators=9, learning_rate=0.75, gamma=12)\n",
    "clf4 = SVC(probability=True)\n",
    "clf5 = LogisticRegression(C=0.150)\n",
    "clf6 = AdaBoostClassifier(n_estimators=45, learning_rate=0.1)\n",
    "clf7 = KNeighborsClassifier(n_neighbors=218, weights=\"distance\")\n",
    "eclf = EnsembleVoteClassifier(clfs=[clf1, clf3, clf4, clf7], weights=[1, 1, 1, 1], voting='soft')\n",
    "\n",
    "predictions = []\n",
    "\n",
    "for clf, lab in zip([clf1, clf3, clf4, clf7, eclf],\n",
    "              ['Random Forest', 'XGB', 'SVC', \"knn\", 'Ensemble']):\n",
    "    clf.fit(X_train, y_train)\n",
    "    pre = clf.predict(X_test)\n",
    "    predictions.append(pre)\n",
    "    print lab, accuracy_score(test[\"ideal_w\"], pre)\n"
   ]
  },
  {
   "cell_type": "code",
   "execution_count": 20,
   "metadata": {},
   "outputs": [
    {
     "name": "stdout",
     "output_type": "stream",
     "text": [
      "Retorno de stacking_ensembling: -12.3745488568\n"
     ]
    },
    {
     "data": {
      "text/plain": [
       "[<matplotlib.lines.Line2D at 0x12110588>]"
      ]
     },
     "execution_count": 20,
     "metadata": {},
     "output_type": "execute_result"
    },
    {
     "data": {
      "image/png": "[encoded data removed]",
      "text/plain": [
       "<matplotlib.figure.Figure at 0x11a69d68>"
      ]
     },
     "metadata": {},
     "output_type": "display_data"
    }
   ],
   "source": [
    "w10 = pd.DataFrame(data={\"w\":predictions[-1],\"price\":test[\"close\"]})\n",
    "w10[\"orders\"] = orders(w10[\"w\"])\n",
    "w10[\"w\"] = w10[\"w\"].shift(1)\n",
    "relativeReturn10, v10 = profit(w10)\n",
    "\n",
    "print 'Retorno de stacking_ensembling: %s'%(relativeReturn10*100)\n",
    "\n",
    "plt.plot(df.index[int(len(data)*per):],v10*100,label='retorno stacking')"
   ]
  },
  {
   "cell_type": "markdown",
   "metadata": {
    "collapsed": true
   },
   "source": [
    "## Usando paquete vecstack"
   ]
  },
  {
   "cell_type": "code",
   "execution_count": 21,
   "metadata": {
    "collapsed": true
   },
   "outputs": [],
   "source": [
    "from vecstack import stacking\n",
    "\n",
    "models = [clf1,  clf4, clf7]"
   ]
  },
  {
   "cell_type": "markdown",
   "metadata": {},
   "source": [
    "### Creando stacking"
   ]
  },
  {
   "cell_type": "code",
   "execution_count": 22,
   "metadata": {},
   "outputs": [
    {
     "name": "stdout",
     "output_type": "stream",
     "text": [
      "task:         [classification]\n",
      "n_classes:    [2]\n",
      "metric:       [accuracy_score]\n",
      "mode:         [oof_pred_bag]\n",
      "n_models:     [3]\n",
      "\n",
      "model  0:     [RandomForestClassifier]\n",
      "    ----\n",
      "    MEAN:     [0.81018538] + [0.01959245]\n",
      "    FULL:     [0.81017771]\n",
      "\n",
      "model  1:     [SVC]\n",
      "    ----\n",
      "    MEAN:     [0.62439254] + [0.00269838]\n",
      "    FULL:     [0.62439418]\n",
      "\n",
      "model  2:     [KNeighborsClassifier]\n",
      "    ----\n",
      "    MEAN:     [0.78353582] + [0.01159003]\n",
      "    FULL:     [0.78352181]\n",
      "\n"
     ]
    }
   ],
   "source": [
    "S_train, S_test = stacking(models,                     # list of models\n",
    "                           X_train, y_train, X_test,   # data\n",
    "                           regression=False,           # classification task (if you need \n",
    "                                                       #     regression - set to True)\n",
    "                           mode='oof_pred_bag',        # mode: oof for train set, predict test \n",
    "                                                       #     set in each fold and vote\n",
    "                           needs_proba=False,          # predict class labels (if you need \n",
    "                                                       #     probabilities - set to True) \n",
    "                           save_dir=None,              # do not save result and log (to save \n",
    "                                                       #     in current dir - set to '.')\n",
    "                           metric=accuracy_score,      # metric: callable\n",
    "                           n_folds=4,                  # number of folds\n",
    "                           stratified=True,            # stratified split for folds\n",
    "                           shuffle=True,               # shuffle the data\n",
    "                           random_state=0,             # ensure reproducibility\n",
    "                           verbose=1)                  # print all info"
   ]
  },
  {
   "cell_type": "markdown",
   "metadata": {},
   "source": [
    "### Aplicando modelo de 2 nivel"
   ]
  },
  {
   "cell_type": "code",
   "execution_count": 23,
   "metadata": {},
   "outputs": [
    {
     "name": "stdout",
     "output_type": "stream",
     "text": [
      "Final prediction score: [0.75799087]\n"
     ]
    }
   ],
   "source": [
    "# Fit 2nd level model\n",
    "model = clf3.fit(S_train, y_train)\n",
    "\n",
    "# Predict\n",
    "y_pred = model.predict(S_test)\n",
    "\n",
    "# Final prediction score\n",
    "print('Final prediction score: [%.8f]' % accuracy_score(y_test, y_pred))"
   ]
  },
  {
   "cell_type": "code",
   "execution_count": null,
   "metadata": {},
   "outputs": [],
   "source": []
  },
  {
   "cell_type": "code",
   "execution_count": null,
   "metadata": {
    "collapsed": true
   },
   "outputs": [],
   "source": []
  }
 ],
 "metadata": {
  "kernelspec": {
   "display_name": "Python 2",
   "language": "python",
   "name": "python2"
  },
  "language_info": {
   "codemirror_mode": {
    "name": "ipython",
    "version": 2
   },
   "file_extension": ".py",
   "mimetype": "text/x-python",
   "name": "python",
   "nbconvert_exporter": "python",
   "pygments_lexer": "ipython2",
   "version": "2.7.14"
  }
 },
 "nbformat": 4,
 "nbformat_minor": 2
}
