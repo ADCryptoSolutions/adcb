{
 "cells": [
  {
   "cell_type": "markdown",
   "metadata": {},
   "source": [
    "# Trayendo datos de poloniex y convirtiendolos en dataframe"
   ]
  },
  {
   "cell_type": "code",
   "execution_count": 82,
   "metadata": {
    "collapsed": false
   },
   "outputs": [
    {
     "name": "stdout",
     "output_type": "stream",
     "text": [
      "Retorno final del mercado: 3439.21568627\n"
     ]
    },
    {
     "data": {
      "text/html": [
       "<div>\n",
       "<table border=\"1\" class=\"dataframe\">\n",
       "  <thead>\n",
       "    <tr style=\"text-align: right;\">\n",
       "      <th></th>\n",
       "      <th>close</th>\n",
       "      <th>high</th>\n",
       "      <th>low</th>\n",
       "      <th>open</th>\n",
       "      <th>quoteVolume</th>\n",
       "      <th>volume</th>\n",
       "      <th>weightedAverage</th>\n",
       "    </tr>\n",
       "    <tr>\n",
       "      <th>date</th>\n",
       "      <th></th>\n",
       "      <th></th>\n",
       "      <th></th>\n",
       "      <th></th>\n",
       "      <th></th>\n",
       "      <th></th>\n",
       "      <th></th>\n",
       "    </tr>\n",
       "  </thead>\n",
       "  <tbody>\n",
       "    <tr>\n",
       "      <th>2015-05-01 03:00:00</th>\n",
       "      <td>5.100000e-07</td>\n",
       "      <td>5.100000e-07</td>\n",
       "      <td>5.100000e-07</td>\n",
       "      <td>5.100000e-07</td>\n",
       "      <td>0</td>\n",
       "      <td>0.000000</td>\n",
       "      <td>5.100000e-07</td>\n",
       "    </tr>\n",
       "    <tr>\n",
       "      <th>2015-05-01 07:00:00</th>\n",
       "      <td>5.100000e-07</td>\n",
       "      <td>5.100000e-07</td>\n",
       "      <td>5.100000e-07</td>\n",
       "      <td>5.100000e-07</td>\n",
       "      <td>20000</td>\n",
       "      <td>0.010200</td>\n",
       "      <td>5.100000e-07</td>\n",
       "    </tr>\n",
       "    <tr>\n",
       "      <th>2015-05-01 11:00:00</th>\n",
       "      <td>5.100000e-07</td>\n",
       "      <td>5.100000e-07</td>\n",
       "      <td>5.100000e-07</td>\n",
       "      <td>5.100000e-07</td>\n",
       "      <td>6915.07358264</td>\n",
       "      <td>0.003527</td>\n",
       "      <td>5.100000e-07</td>\n",
       "    </tr>\n",
       "    <tr>\n",
       "      <th>2015-05-01 15:00:00</th>\n",
       "      <td>5.100000e-07</td>\n",
       "      <td>5.100000e-07</td>\n",
       "      <td>5.100000e-07</td>\n",
       "      <td>5.100000e-07</td>\n",
       "      <td>0</td>\n",
       "      <td>0.000000</td>\n",
       "      <td>5.100000e-07</td>\n",
       "    </tr>\n",
       "    <tr>\n",
       "      <th>2015-05-01 19:00:00</th>\n",
       "      <td>5.100000e-07</td>\n",
       "      <td>5.200000e-07</td>\n",
       "      <td>5.100000e-07</td>\n",
       "      <td>5.200000e-07</td>\n",
       "      <td>989.05892713</td>\n",
       "      <td>0.000508</td>\n",
       "      <td>5.100000e-07</td>\n",
       "    </tr>\n",
       "  </tbody>\n",
       "</table>\n",
       "</div>"
      ],
      "text/plain": [
       "                            close          high           low          open  \\\n",
       "date                                                                          \n",
       "2015-05-01 03:00:00  5.100000e-07  5.100000e-07  5.100000e-07  5.100000e-07   \n",
       "2015-05-01 07:00:00  5.100000e-07  5.100000e-07  5.100000e-07  5.100000e-07   \n",
       "2015-05-01 11:00:00  5.100000e-07  5.100000e-07  5.100000e-07  5.100000e-07   \n",
       "2015-05-01 15:00:00  5.100000e-07  5.100000e-07  5.100000e-07  5.100000e-07   \n",
       "2015-05-01 19:00:00  5.100000e-07  5.200000e-07  5.100000e-07  5.200000e-07   \n",
       "\n",
       "                       quoteVolume    volume  weightedAverage  \n",
       "date                                                           \n",
       "2015-05-01 03:00:00              0  0.000000     5.100000e-07  \n",
       "2015-05-01 07:00:00          20000  0.010200     5.100000e-07  \n",
       "2015-05-01 11:00:00  6915.07358264  0.003527     5.100000e-07  \n",
       "2015-05-01 15:00:00              0  0.000000     5.100000e-07  \n",
       "2015-05-01 19:00:00   989.05892713  0.000508     5.100000e-07  "
      ]
     },
     "execution_count": 82,
     "metadata": {},
     "output_type": "execute_result"
    }
   ],
   "source": [
    "import pandas as pd\n",
    "import pylab as plt\n",
    "from tusp import string2ts, ts2string\n",
    "from bot import prepareData,marketReturn\n",
    "import numpy as np\n",
    "%matplotlib inline\n",
    "plt.rcParams['figure.figsize'] = 15, 8\n",
    "\n",
    "# trayendo y preparando datos\n",
    "df  = prepareData(pair=\"BTC_DGB\",\n",
    "                  start=string2ts(\"201-05-01 00:00:00\"),\n",
    "                  end=string2ts(\"2017-09-01 00:00:00\"),\n",
    "                  period=3600*4)\n",
    "\"\"\"\n",
    "# calculando el retorno del mercado hasta el 4 quitil y del ultimo quintil\n",
    "df_train = df.loc[\"2014-09-10 00:00:00\":\"2017-06-01 00:00:00\",:]\n",
    "df_test = df.loc[\"2017-06-01 00:00:00\":\"2017-09-01 00:00:00\",:]\n",
    "\"\"\"\n",
    "per = 0.9\n",
    "cum_return1 = marketReturn(df[:int(len(df)*per)][\"close\"])\n",
    "cum_return2 = marketReturn(df[int(len(df)*per):][\"close\"]) \n",
    "#cum_return1 = marketReturn(df_train)\n",
    "#cum_return2 = marketReturn(df_test) \n",
    "\n",
    "marketReturn = cum_return1[-1]*100 \n",
    "marketReturn2 = cum_return2[-1]*100\n",
    "\n",
    "print \"Retorno final del mercado: %s\"%(marketReturn)\n",
    "df.head()"
   ]
  },
  {
   "cell_type": "markdown",
   "metadata": {},
   "source": [
    "# Creando estrategias, columna con RSI_14 y sus respectivos vectores de peso"
   ]
  },
  {
   "cell_type": "code",
   "execution_count": 83,
   "metadata": {
    "collapsed": false
   },
   "outputs": [
    {
     "name": "stdout",
     "output_type": "stream",
     "text": [
      "Retorno del mercacdo: 3439.21568627\n",
      "Retorno de SMA13 VS EMA5: 3.16412613851\n",
      "Retorno de Precio VS SMA20: -85.9373231077\n",
      "Retorno de Precio VS EMA5: -95.9355466221\n"
     ]
    },
    {
     "data": {
      "image/png": "[encoded data removed]",
      "text/plain": [
       "<matplotlib.figure.Figure at 0x7f3d2a20ee50>"
      ]
     },
     "metadata": {},
     "output_type": "display_data"
    }
   ],
   "source": [
    "from strategy2 import EMAvsSMA,pricevsEMA, pricevsSMA\n",
    "from profit import profit\n",
    "\n",
    "#EMA_5vsSMA_13\n",
    "w = EMAvsSMA(df['weightedAverage'],13,5)\n",
    "wTrain = w[:int(len(df)*per)]\n",
    "wTest = w[int(len(df)*per):]\n",
    "relativeReturn,v = profit(wTrain)\n",
    "relativeReturnTest,vTest = profit(wTest)\n",
    "\n",
    "#Precio vs SMA_20\n",
    "w3 = pricevsSMA(df['weightedAverage'],20)\n",
    "w3Train = w3[:int(len(df)*per)]\n",
    "w3Test = w3[int(len(df)*per):]\n",
    "relativeReturn3,v3 = profit(w3Train)\n",
    "relativeReturn3Test,v3Test = profit(w3Test)\n",
    "\n",
    "#Precio vs EMA_5\n",
    "# 23.6\n",
    "w2 = pricevsEMA(df['weightedAverage'])\n",
    "w2Train = w2[:int(len(df)*per)]\n",
    "w2Test = w2[int(len(df)*per):]\n",
    "relativeReturn2,v2 = profit(w2Train)\n",
    "relativeReturn2Test,v2Test = profit(w2Test)\n",
    "\n",
    "print 'Retorno del mercacdo: %s'%(marketReturn)\n",
    "print 'Retorno de SMA13 VS EMA5: %s'%(relativeReturn*100)\n",
    "print 'Retorno de Precio VS SMA20: %s'%(relativeReturn3*100)\n",
    "print 'Retorno de Precio VS EMA5: %s'%(relativeReturn2*100)\n",
    "\n",
    "plt.plot(df.index[:int(len(df)*per)],cum_return1*100,'g', label='retorno mercado')\n",
    "plt.plot(df.index[:int(len(df)*per)],v*100,'y',label='retorno EMA_5vsSMA_13')\n",
    "plt.plot(df.index[:int(len(df)*per)],v3*100,'b',label='retorno SMA_20')\n",
    "plt.plot(df.index[:int(len(df)*per)],v2*100,'r',label='retorno EMA_5')\n",
    "\n",
    "plt.legend(loc='best')\n",
    "plt.grid()\n"
   ]
  },
  {
   "cell_type": "markdown",
   "metadata": {},
   "source": [
    "## RSI via stockstacks"
   ]
  },
  {
   "cell_type": "code",
   "execution_count": 84,
   "metadata": {
    "collapsed": false
   },
   "outputs": [],
   "source": [
    "from stockstats import StockDataFrame\n",
    "\n",
    "stock = StockDataFrame.retype(df.copy())\n",
    "stock[\"rsi_14\"];\n",
    "stock[\"macd\"];\n",
    "stock[\"macds\"];\n",
    "stock[\"cci\"];\n",
    "stock[\"wr_14\"];"
   ]
  },
  {
   "cell_type": "markdown",
   "metadata": {},
   "source": [
    "# Preparando DataFrame para ML"
   ]
  },
  {
   "cell_type": "markdown",
   "metadata": {},
   "source": [
    "## Creando estrategia ideal en base a maximos y minimos"
   ]
  },
  {
   "cell_type": "code",
   "execution_count": 85,
   "metadata": {
    "collapsed": false
   },
   "outputs": [
    {
     "name": "stdout",
     "output_type": "stream",
     "text": [
      "Retorno de estrategia ideal: 5.76589030979e+22\n",
      "4610 513\n"
     ]
    },
    {
     "data": {
      "image/png": "[encoded data removed]",
      "text/plain": [
       "<matplotlib.figure.Figure at 0x7f3d2a450890>"
      ]
     },
     "metadata": {},
     "output_type": "display_data"
    }
   ],
   "source": [
    "from mldata import ml_data\n",
    "from orders import orders\n",
    "\n",
    "df[\"ml_data\"] = ml_data(df[\"close\"])\n",
    "\n",
    "w4 = pd.DataFrame(data={\"w\":df[\"ml_data\"].values,\"price\":df[\"close\"]})\n",
    "w4[\"orders\"] = orders(w4[\"w\"])\n",
    "w4[\"w\"] = w4[\"w\"].shift(1)\n",
    "relReturn, vecReturn4 = profit(w4)\n",
    "print \"Retorno de estrategia ideal: %s\"%(relReturn*100)\n",
    "\n",
    "data = pd.DataFrame(data={\"price\":df[\"close\"],\"pricew\":df[\"weightedAverage\"],\"volumen\":df[\"volume\"],\"rsi\":stock[\"rsi_14\"],\"macd\":stock[\"macd\"],\"macds\":stock[\"macds\"],\"cci\":stock[\"cci\"],\"wr\":stock[\"wr_14\"] ,\"sma13ema5\":w[\"w\"],\"price_sma20\":w3[\"w\"],\"price_ema5\":w2[\"w\"],\"ideal_w\":w4[\"w\"],\"close\":df[\"close\"]})\n",
    "\n",
    "# separando datos para crear y evaluar el modelo de machine learning\n",
    "train = data[1:int(len(data)*per)]\n",
    "test = data[int(len(data)*per):]\n",
    "#train = data.loc[\"2014-09-10 00:00:00\":\"2017-06-01 00:00:00\",:][1:]\n",
    "#test = data.loc[\"2017-06-01 00:00:00\":\"2017-09-01 00:00:00\",:]\n",
    "print len(train),len(test)"
   ]
  },
  {
   "cell_type": "markdown",
   "metadata": {},
   "source": [
    "# Creando modelo de regresion logistica utilizando sticklearn"
   ]
  },
  {
   "cell_type": "code",
   "execution_count": 86,
   "metadata": {
    "collapsed": false
   },
   "outputs": [
    {
     "ename": "ValueError",
     "evalue": "Input contains NaN, infinity or a value too large for dtype('float64').",
     "output_type": "error",
     "traceback": [
      "\u001b[0;31m---------------------------------------------------------------------------\u001b[0m",
      "\u001b[0;31mValueError\u001b[0m                                Traceback (most recent call last)",
      "\u001b[0;32m<ipython-input-86-92553c59ee16>\u001b[0m in \u001b[0;36m<module>\u001b[0;34m()\u001b[0m\n\u001b[1;32m     11\u001b[0m \u001b[0;34m\u001b[0m\u001b[0m\n\u001b[1;32m     12\u001b[0m \u001b[0;31m# entrenando modelos\u001b[0m\u001b[0;34m\u001b[0m\u001b[0;34m\u001b[0m\u001b[0m\n\u001b[0;32m---> 13\u001b[0;31m \u001b[0mlogreg\u001b[0m\u001b[0;34m.\u001b[0m\u001b[0mfit\u001b[0m\u001b[0;34m(\u001b[0m\u001b[0mtrain\u001b[0m\u001b[0;34m[\u001b[0m\u001b[0mfeatures\u001b[0m\u001b[0;34m]\u001b[0m\u001b[0;34m,\u001b[0m\u001b[0mtrain\u001b[0m\u001b[0;34m[\u001b[0m\u001b[0;34m\"ideal_w\"\u001b[0m\u001b[0;34m]\u001b[0m\u001b[0;34m)\u001b[0m\u001b[0;34m\u001b[0m\u001b[0m\n\u001b[0m",
      "\u001b[0;32m/home/daniel/anaconda2/lib/python2.7/site-packages/sklearn/linear_model/logistic.pyc\u001b[0m in \u001b[0;36mfit\u001b[0;34m(self, X, y, sample_weight)\u001b[0m\n\u001b[1;32m   1171\u001b[0m \u001b[0;34m\u001b[0m\u001b[0m\n\u001b[1;32m   1172\u001b[0m         X, y = check_X_y(X, y, accept_sparse='csr', dtype=np.float64,\n\u001b[0;32m-> 1173\u001b[0;31m                          order=\"C\")\n\u001b[0m\u001b[1;32m   1174\u001b[0m         \u001b[0mcheck_classification_targets\u001b[0m\u001b[0;34m(\u001b[0m\u001b[0my\u001b[0m\u001b[0;34m)\u001b[0m\u001b[0;34m\u001b[0m\u001b[0m\n\u001b[1;32m   1175\u001b[0m         \u001b[0mself\u001b[0m\u001b[0;34m.\u001b[0m\u001b[0mclasses_\u001b[0m \u001b[0;34m=\u001b[0m \u001b[0mnp\u001b[0m\u001b[0;34m.\u001b[0m\u001b[0munique\u001b[0m\u001b[0;34m(\u001b[0m\u001b[0my\u001b[0m\u001b[0;34m)\u001b[0m\u001b[0;34m\u001b[0m\u001b[0m\n",
      "\u001b[0;32m/home/daniel/anaconda2/lib/python2.7/site-packages/sklearn/utils/validation.pyc\u001b[0m in \u001b[0;36mcheck_X_y\u001b[0;34m(X, y, accept_sparse, dtype, order, copy, force_all_finite, ensure_2d, allow_nd, multi_output, ensure_min_samples, ensure_min_features, y_numeric, warn_on_dtype, estimator)\u001b[0m\n\u001b[1;32m    519\u001b[0m     X = check_array(X, accept_sparse, dtype, order, copy, force_all_finite,\n\u001b[1;32m    520\u001b[0m                     \u001b[0mensure_2d\u001b[0m\u001b[0;34m,\u001b[0m \u001b[0mallow_nd\u001b[0m\u001b[0;34m,\u001b[0m \u001b[0mensure_min_samples\u001b[0m\u001b[0;34m,\u001b[0m\u001b[0;34m\u001b[0m\u001b[0m\n\u001b[0;32m--> 521\u001b[0;31m                     ensure_min_features, warn_on_dtype, estimator)\n\u001b[0m\u001b[1;32m    522\u001b[0m     \u001b[0;32mif\u001b[0m \u001b[0mmulti_output\u001b[0m\u001b[0;34m:\u001b[0m\u001b[0;34m\u001b[0m\u001b[0m\n\u001b[1;32m    523\u001b[0m         y = check_array(y, 'csr', force_all_finite=True, ensure_2d=False,\n",
      "\u001b[0;32m/home/daniel/anaconda2/lib/python2.7/site-packages/sklearn/utils/validation.pyc\u001b[0m in \u001b[0;36mcheck_array\u001b[0;34m(array, accept_sparse, dtype, order, copy, force_all_finite, ensure_2d, allow_nd, ensure_min_samples, ensure_min_features, warn_on_dtype, estimator)\u001b[0m\n\u001b[1;32m    405\u001b[0m                              % (array.ndim, estimator_name))\n\u001b[1;32m    406\u001b[0m         \u001b[0;32mif\u001b[0m \u001b[0mforce_all_finite\u001b[0m\u001b[0;34m:\u001b[0m\u001b[0;34m\u001b[0m\u001b[0m\n\u001b[0;32m--> 407\u001b[0;31m             \u001b[0m_assert_all_finite\u001b[0m\u001b[0;34m(\u001b[0m\u001b[0marray\u001b[0m\u001b[0;34m)\u001b[0m\u001b[0;34m\u001b[0m\u001b[0m\n\u001b[0m\u001b[1;32m    408\u001b[0m \u001b[0;34m\u001b[0m\u001b[0m\n\u001b[1;32m    409\u001b[0m     \u001b[0mshape_repr\u001b[0m \u001b[0;34m=\u001b[0m \u001b[0m_shape_repr\u001b[0m\u001b[0;34m(\u001b[0m\u001b[0marray\u001b[0m\u001b[0;34m.\u001b[0m\u001b[0mshape\u001b[0m\u001b[0;34m)\u001b[0m\u001b[0;34m\u001b[0m\u001b[0m\n",
      "\u001b[0;32m/home/daniel/anaconda2/lib/python2.7/site-packages/sklearn/utils/validation.pyc\u001b[0m in \u001b[0;36m_assert_all_finite\u001b[0;34m(X)\u001b[0m\n\u001b[1;32m     56\u001b[0m             and not np.isfinite(X).all()):\n\u001b[1;32m     57\u001b[0m         raise ValueError(\"Input contains NaN, infinity\"\n\u001b[0;32m---> 58\u001b[0;31m                          \" or a value too large for %r.\" % X.dtype)\n\u001b[0m\u001b[1;32m     59\u001b[0m \u001b[0;34m\u001b[0m\u001b[0m\n\u001b[1;32m     60\u001b[0m \u001b[0;34m\u001b[0m\u001b[0m\n",
      "\u001b[0;31mValueError\u001b[0m: Input contains NaN, infinity or a value too large for dtype('float64')."
     ]
    }
   ],
   "source": [
    "from sklearn.linear_model import LogisticRegression\n",
    "from sklearn.ensemble import RandomForestClassifier\n",
    "from sklearn.neighbors import KNeighborsClassifier\n",
    "from sklearn.naive_bayes import GaussianNB\n",
    "\n",
    "# \"price\",\"volumen\",\"rsi\",\"macd\",\"macds\",\"sma13ema5\",\"price_sma20\",\"price_ema5\",\"ideal_w\",\"cci\",\"diff\",\"wr\"\n",
    "features = [\"price\",\"rsi\",\"cci\"]\n",
    "\n",
    "# regresion logistica\n",
    "logreg = LogisticRegression()\n",
    "\n",
    "# entrenando modelos\n",
    "logreg.fit(train[features],train[\"ideal_w\"])"
   ]
  },
  {
   "cell_type": "code",
   "execution_count": null,
   "metadata": {
    "collapsed": false
   },
   "outputs": [],
   "source": [
    "# random forests\n",
    "random_forest = RandomForestClassifier(n_estimators=10)\n",
    "\n",
    "random_forest.fit(train[features],train[\"ideal_w\"])"
   ]
  },
  {
   "cell_type": "code",
   "execution_count": null,
   "metadata": {
    "collapsed": false
   },
   "outputs": [],
   "source": [
    "# knn\n",
    "knn = KNeighborsClassifier(n_neighbors = 30)\n",
    "\n",
    "knn.fit(train[features],train[\"ideal_w\"])"
   ]
  },
  {
   "cell_type": "markdown",
   "metadata": {},
   "source": [
    "## probando modelo en otros datos"
   ]
  },
  {
   "cell_type": "code",
   "execution_count": null,
   "metadata": {
    "collapsed": false,
    "scrolled": true
   },
   "outputs": [],
   "source": [
    "# regresion logistica\n",
    "w_pred = logreg.predict(test[features])\n",
    "\n",
    "w5 = pd.DataFrame(data={\"w\":w_pred,\"price\":test[\"close\"]})\n",
    "w5[\"orders\"] = orders(w5[\"w\"])\n",
    "w5[\"w\"] = w5[\"w\"].shift(1)\n",
    "relativeReturn5, v5 = profit(w5)\n",
    "\n",
    "# random forest\n",
    "w_pred2 = random_forest.predict(test[features])\n",
    "\n",
    "w6 = pd.DataFrame(data={\"w\":w_pred2,\"price\":test[\"close\"]})\n",
    "w6[\"orders\"] = orders(w6[\"w\"])\n",
    "w6[\"w\"] = w6[\"w\"].shift(1)\n",
    "relativeReturn6, v6 = profit(w6)\n",
    "\n",
    "# knn\n",
    "w_pred3 = knn.predict(test[features])\n",
    "\n",
    "w7 = pd.DataFrame(data={\"w\":w_pred3,\"price\":test[\"close\"]})\n",
    "w7[\"orders\"] = orders(w7[\"w\"])\n",
    "w7[\"w\"] = w7[\"w\"].shift(1)\n",
    "relativeReturn7, v7 = profit(w7)\n",
    "\n",
    "print 'Retorno del mercacdo: %s'%(marketReturn2)\n",
    "print 'Retorno de SMA13 VS EMA5: %s'%(relativeReturnTest*100)\n",
    "print 'Retorno de Precio VS SMA20: %s'%(relativeReturn3Test*100)\n",
    "print 'Retorno de Precio VS EMA5: %s'%(relativeReturn2Test*100)\n",
    "print 'Retorno de ML_logreg: %s'%(relativeReturn5*100)\n",
    "print 'Retorno de ML_randfor: %s'%(relativeReturn6*100)\n",
    "print 'Retorno de ML_knn: %s'%(relativeReturn7*100)\n",
    "\n",
    "plt.plot(df.index[int(len(data)*per):],cum_return2*100,'g', label='retorno mercado')\n",
    "plt.plot(df.index[int(len(data)*per):],vTest*100,'y',label='retorno EMA_5vsSMA_13')\n",
    "plt.plot(df.index[int(len(data)*per):],v3Test*100,'b',label='retorno SMA_20')\n",
    "plt.plot(df.index[int(len(data)*per):],v2Test*100,'r',label='retorno EMA_5')\n",
    "plt.plot(df.index[int(len(data)*per):],v5*100,label='retorno ML_logreg')\n",
    "plt.plot(df.index[int(len(data)*per):],v6*100,label='retorno ML_randfor')\n",
    "plt.plot(df.index[int(len(data)*per):],v7*100,label='retorno ML_knn')\n",
    "\n",
    "plt.legend(loc='best')\n",
    "plt.grid()\n"
   ]
  },
  {
   "cell_type": "code",
   "execution_count": null,
   "metadata": {
    "collapsed": false
   },
   "outputs": [],
   "source": [
    "from strategy import ml_logreg\n",
    "\n",
    "# Caracteristicas sobre las que se entrenara el modelo\n",
    "feature_dic = {\"rsi\":stock[\"rsi_14\"],\"cci\":stock[\"cci\"],\"price\":df[\"close\"]}\n",
    "\n",
    "# Creando vector de pesos utilizando estrategia de ML de regresión logística\n",
    "w_logreg = ml_logreg(df[\"close\"],per=0.9,**feature_dic)\n",
    "\n",
    "# Calculando retorno\n",
    "relativeReturn6, v6 = profit(w_logreg)\n",
    "\n",
    "print 'Retorno de ML_strategy: %s'%(relativeReturn6*100)"
   ]
  },
  {
   "cell_type": "code",
   "execution_count": null,
   "metadata": {
    "collapsed": false
   },
   "outputs": [],
   "source": [
    "from indicators import rsi\n",
    "\n",
    "RSI1, RSI2 = rsi(df[\"close\"])\n",
    "\n",
    "RSI1.head()\n",
    "\n",
    "plt.subplot(211)\n",
    "#plt.plot(df.index[1:],df['close'][1:],'r', label='precio')\n",
    "plt.legend(loc='best')\n",
    "df[\"close\"].plot()\n",
    "plt.grid()\n",
    "\n",
    "plt.subplot(212)\n",
    "RSI1.plot()\n",
    "RSI2.plot()\n",
    "plt.grid()\n",
    "print len(RSI1),len(df[\"close\"])"
   ]
  },
  {
   "cell_type": "code",
   "execution_count": null,
   "metadata": {
    "collapsed": true
   },
   "outputs": [],
   "source": []
  }
 ],
 "metadata": {
  "anaconda-cloud": {},
  "kernelspec": {
   "display_name": "Python 2",
   "language": "python",
   "name": "python2"
  },
  "language_info": {
   "codemirror_mode": {
    "name": "ipython",
    "version": 2
   },
   "file_extension": ".py",
   "mimetype": "text/x-python",
   "name": "python",
   "nbconvert_exporter": "python",
   "pygments_lexer": "ipython2",
   "version": "2.7.13"
  }
 },
 "nbformat": 4,
 "nbformat_minor": 2
}
