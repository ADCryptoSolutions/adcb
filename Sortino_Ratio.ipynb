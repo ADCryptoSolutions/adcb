{
 "cells": [
  {
   "cell_type": "code",
   "execution_count": 15,
   "metadata": {
    "collapsed": true
   },
   "outputs": [],
   "source": [
    "from poloniex import Poloniex\n",
    "\n",
    "polo = Poloniex()"
   ]
  },
  {
   "cell_type": "code",
   "execution_count": 16,
   "metadata": {
    "collapsed": false
   },
   "outputs": [
    {
     "name": "stdout",
     "output_type": "stream",
     "text": [
      "[u'USDT_REP', u'BTC_CVC', u'BTC_XVC', u'BTC_PINK', u'BTC_SYS', u'BTC_EMC2', u'BTC_RADS', u'BTC_SC', u'BTC_MAID', u'BTC_BCH', u'BTC_GNT', u'BTC_BCN', u'BTC_REP', u'BTC_BCY', u'BTC_GNO', u'XMR_NXT', u'USDT_ZEC', u'BTC_FCT', u'BTC_GAS', u'USDT_ETH', u'USDT_BTC', u'BTC_LBC', u'BTC_DCR', u'USDT_ETC', u'ETH_OMG', u'BTC_AMP', u'BTC_XPM', u'BTC_NXT', u'BTC_VTC', u'ETH_STEEM', u'XMR_BLK', u'BTC_PASC', u'XMR_ZEC', u'BTC_GRC', u'BTC_NXC', u'BTC_BTCD', u'BTC_LTC', u'BTC_DASH', u'BTC_STORJ', u'ETH_ZEC', u'BTC_ZEC', u'BTC_BURST', u'ETH_ZRX', u'BTC_BELA', u'BTC_STEEM', u'BTC_ETC', u'BTC_ETH', u'BTC_HUC', u'BTC_STRAT', u'BTC_LSK', u'BTC_EXP', u'BTC_CLAM', u'ETH_REP', u'XMR_DASH', u'ETH_CVC', u'USDT_BCH', u'BTC_ZRX', u'USDT_DASH', u'BTC_BLK', u'BTC_XRP', u'USDT_NXT', u'BTC_NEOS', u'BTC_OMG', u'BTC_BTS', u'BTC_DOGE', u'ETH_GNT', u'BTC_SBD', u'ETH_GNO', u'BTC_XCP', u'USDT_LTC', u'BTC_BTM', u'USDT_XMR', u'ETH_LSK', u'BTC_OMNI', u'BTC_NAV', u'BTC_FLDC', u'ETH_BCH', u'BTC_XBC', u'BTC_DGB', u'XMR_BTCD', u'BTC_VRC', u'BTC_RIC', u'XMR_MAID', u'BTC_STR', u'BTC_POT', u'BTC_XMR', u'BTC_VIA', u'BTC_XEM', u'BTC_NMC', u'ETH_ETC', u'XMR_LTC', u'BTC_ARDR', u'ETH_GAS', u'BTC_FLO', u'USDT_XRP', u'BTC_GAME', u'BTC_PPC', u'XMR_BCN', u'USDT_STR']\n"
     ]
    }
   ],
   "source": [
    "markets = polo.returnTicker()\n",
    "pairs = []\n",
    "for name, thinks in markets.items():\n",
    "    pairs.append(name)\n",
    "print pairs"
   ]
  },
  {
   "cell_type": "code",
   "execution_count": 17,
   "metadata": {
    "collapsed": false
   },
   "outputs": [
    {
     "name": "stdout",
     "output_type": "stream",
     "text": [
      "1.14991106609\n"
     ]
    }
   ],
   "source": [
    "# funciones necesarias para el manejo del tiempo\n",
    "from datetime import datetime, timedelta\n",
    "from time import sleep\n",
    "from tusp import string2ts\n",
    "from bot import prepareData\n",
    "import numpy as np\n",
    "import pylab as pl\n",
    "%matplotlib inline\n",
    "\n",
    "class PairData:\n",
    "    \n",
    "    def __init__(self, pair, period, weeks = 4.3*3):\n",
    "        \n",
    "        self.pair = pair\n",
    "        self.period = period\n",
    "        \n",
    "        tf = datetime.now()\n",
    "        self.tf = tf\n",
    "        end = string2ts(tf.strftime('%Y-%m-%d %H:%M:%S'))\n",
    "        self.end = end\n",
    "        delta = timedelta(weeks = weeks)\n",
    "        self.delta = delta\n",
    "        to = tf-delta\n",
    "        self.to = to\n",
    "        start = string2ts(to.strftime('%Y-%m-%d %H:%M:%S'))\n",
    "        self.start = start\n",
    "        \n",
    "        df = prepareData(pair=pair, start=start, end=end, period=int(period))\n",
    "        \n",
    "        self.df = df\n",
    "        self.market_return()\n",
    "    \n",
    "    def market_return(self):\n",
    "        \"\"\"Calcula el retorno del mercado vía log_retornos\n",
    "        \"\"\"\n",
    "        \n",
    "        serie = self.df[\"close\"]\n",
    "\n",
    "        # calculando los log retornos\n",
    "        log_return = np.log(serie).diff().fillna(0)\n",
    "\n",
    "        # calculando log retorno acumulado\n",
    "        cum_logr = log_return.cumsum()\n",
    "        cum_r = np.exp(cum_logr) - 1\n",
    "        \n",
    "        self.l_return = log_return\n",
    "        self.m_return = cum_r\n",
    "        \n",
    "    \n",
    "    def sortino(self, log = False):\n",
    "        \"\"\" Calcula en ratio de Sortino\n",
    "        \n",
    "        \"\"\"\n",
    "        \n",
    "        if log:\n",
    "            rets = self.l_return\n",
    "         \n",
    "        else:\n",
    "            rets = self.m_return\n",
    "\n",
    "        semi_var = rets[rets < 0] ** 2\n",
    "        semi_var = semi_var.sum()/len(rets)\n",
    "        sortino = np.sqrt(semi_var)\n",
    "\n",
    "        return rets.mean()/sortino\n",
    "\n",
    "\n",
    "dgb = PairData(\"BTC_BCH\", 3600*4)\n",
    "\n",
    "print dgb.sortino(log = False)"
   ]
  },
  {
   "cell_type": "code",
   "execution_count": 18,
   "metadata": {
    "collapsed": false
   },
   "outputs": [
    {
     "name": "stdout",
     "output_type": "stream",
     "text": [
      "[[u'USDT_STR', 223.71060102091565], [u'USDT_BTC', 167.72654057038713], [u'BTC_STR', 86.548687199541263], [u'BTC_VTC', 51.890999208440888], [u'USDT_LTC', 49.610112312316915], [u'USDT_XRP', 33.52070884845871]]\n"
     ]
    }
   ],
   "source": [
    "sortinos = []\n",
    "\n",
    "for pair in pairs:\n",
    "    #print \"\\n\\t\",pair\n",
    "    asset = PairData(pair, 3600*4)\n",
    "    sortino = asset.sortino(log = True)\n",
    "    sortinos.append([pair, sortino])\n",
    "    #print sortino\n",
    "\n",
    "sortinos.sort(key = lambda l:l[1], reverse=True)\n",
    "\n",
    "print sortinos[0:6]"
   ]
  },
  {
   "cell_type": "code",
   "execution_count": 24,
   "metadata": {
    "collapsed": false
   },
   "outputs": [
    {
     "name": "stdout",
     "output_type": "stream",
     "text": [
      "[[u'USDT_BTC', 0.25872859095969225], [u'USDT_XRP', 0.25493014179341333], [u'USDT_BCH', 0.2332206359890126], [u'USDT_DASH', 0.21681434725587648], [u'USDT_XMR', 0.21677723161247411], [u'USDT_STR', 0.2034685076398802]]\n"
     ]
    }
   ],
   "source": [
    "sortinos = []\n",
    "\n",
    "for pair in pairs:\n",
    "    #print \"\\n\\t\",pair\n",
    "    asset = PairData(pair, 3600*24, weeks = 4.3*6)\n",
    "    sortino = asset.sortino(log = True)\n",
    "    sortinos.append([pair, sortino])\n",
    "    #print sortino\n",
    "\n",
    "sortinos.sort(key = lambda l:l[1], reverse=True)\n",
    "\n",
    "print sortinos[0:6]"
   ]
  },
  {
   "cell_type": "code",
   "execution_count": null,
   "metadata": {
    "collapsed": true
   },
   "outputs": [],
   "source": []
  }
 ],
 "metadata": {
  "anaconda-cloud": {},
  "kernelspec": {
   "display_name": "Python [default]",
   "language": "python",
   "name": "python2"
  },
  "language_info": {
   "codemirror_mode": {
    "name": "ipython",
    "version": 2
   },
   "file_extension": ".py",
   "mimetype": "text/x-python",
   "name": "python",
   "nbconvert_exporter": "python",
   "pygments_lexer": "ipython2",
   "version": "2.7.12"
  }
 },
 "nbformat": 4,
 "nbformat_minor": 2
}
