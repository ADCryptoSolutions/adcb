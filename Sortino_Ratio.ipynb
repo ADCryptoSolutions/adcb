{
 "cells": [
  {
   "cell_type": "code",
   "execution_count": 1,
   "metadata": {
    "collapsed": true
   },
   "outputs": [],
   "source": [
    "from poloniex import Poloniex\n",
    "\n",
    "polo = Poloniex()"
   ]
  },
  {
   "cell_type": "code",
   "execution_count": 2,
   "metadata": {
    "collapsed": true
   },
   "outputs": [],
   "source": [
    "markets = polo.returnTicker()\n",
    "pairs = []\n",
    "for name, thinks in markets.items():\n",
    "    pairs.append(name)"
   ]
  },
  {
   "cell_type": "code",
   "execution_count": 6,
   "metadata": {},
   "outputs": [
    {
     "name": "stdout",
     "output_type": "stream",
     "text": [
      "69376.2018248\n"
     ]
    }
   ],
   "source": [
    "# funciones necesarias para el manejo del tiempo\n",
    "from datetime import datetime, timedelta\n",
    "from time import sleep\n",
    "from tusp import string2ts\n",
    "from bot import prepareData\n",
    "import numpy as np\n",
    "import pylab as pl\n",
    "%matplotlib inline\n",
    "\n",
    "class PairData:\n",
    "    \n",
    "    def __init__(self, pair, period, weeks = 4.3*3, backto = None):\n",
    "            \n",
    "        self.pair = pair\n",
    "        self.period = period\n",
    "        delta = timedelta(weeks = weeks)\n",
    "        self.delta = delta\n",
    "        start = \"\"\n",
    "        end = \"\"\n",
    "\n",
    "        # Sí el tiempo final es diferente al actual...\n",
    "        if backto != None:\n",
    "            to = datetime.strptime(backto, \"%Y-%m-%d %H:%M:%S\")\n",
    "            self.to = to\n",
    "            start = string2ts(to.strftime('%Y-%m-%d %H:%M:%S'))\n",
    "            \n",
    "            tf = to + delta\n",
    "            self.tf = tf\n",
    "            end = string2ts(tf.strftime('%Y-%m-%d %H:%M:%S'))\n",
    "            \n",
    "        else:\n",
    "            tf = datetime.now()\n",
    "            self.tf = tf\n",
    "            end = string2ts(tf.strftime('%Y-%m-%d %H:%M:%S'))\n",
    "            \n",
    "            to = tf-delta\n",
    "            self.to = to\n",
    "            start = string2ts(to.strftime('%Y-%m-%d %H:%M:%S'))\n",
    "                              \n",
    "\n",
    "        self.start = start\n",
    "        self.end = end\n",
    "        df = prepareData(pair=pair, start=start, end=end, period=int(period))\n",
    "        \n",
    "        self.df = df\n",
    "        self.market_return()\n",
    "        self.cum_volume()\n",
    "    \n",
    "    def market_return(self):\n",
    "        \"\"\"Calcula el retorno del mercado vía log_retornos\n",
    "        \"\"\"\n",
    "        \n",
    "        serie = self.df[\"close\"]\n",
    "\n",
    "        # calculando los log retornos\n",
    "        log_return = np.log(serie).diff().fillna(0)\n",
    "\n",
    "        # calculando log retorno acumulado\n",
    "        cum_logr = log_return.cumsum()\n",
    "        cum_r = np.exp(cum_logr) - 1\n",
    "        \n",
    "        self.l_return = log_return\n",
    "        self.m_return = cum_r\n",
    "        \n",
    "    def cum_volume(self):\n",
    "        \"\"\"Calcula el volumen acumulado del mercado\n",
    "        \"\"\"\n",
    "        serie = self.df[\"volume\"]\n",
    "        self.c_volume = serie.cumsum()[-1]\n",
    "        \n",
    "    def sortino(self, log = False):\n",
    "        \"\"\" Calcula en ratio de Sortino\n",
    "        \n",
    "        \"\"\"\n",
    "        \n",
    "        if log:\n",
    "            rets = self.l_return\n",
    "         \n",
    "        else:\n",
    "            rets = self.m_return\n",
    "\n",
    "        semi_var = rets[rets < 0] ** 2\n",
    "        semi_var = semi_var.sum()/len(rets)\n",
    "        sortino = np.sqrt(semi_var)\n",
    "\n",
    "        return rets.mean()/sortino\n",
    "\n",
    "    def sharpe(self, period_ret = 0.2):\n",
    "        \"\"\"\n",
    "        Calculate the annualised Sharpe ratio of a returns stream \n",
    "        based on a number of trading periods, N. N defaults to 252,\n",
    "        which then assumes a stream of daily returns.\n",
    "\n",
    "        The function assumes that the returns are the excess of \n",
    "        those compared to a benchmark.\n",
    "        \"\"\"\n",
    "        N = self.delta.days\n",
    "        returns = self.l_return\n",
    "        excess_ret = returns - period_ret/N\n",
    "        return np.sqrt(N) * excess_ret.mean() / excess_ret.std()\n",
    "    \n",
    "dgb = PairData(\"BTC_DGB\", 3600*4)\n",
    "\n",
    "print dgb.c_volume"
   ]
  },
  {
   "cell_type": "code",
   "execution_count": 14,
   "metadata": {},
   "outputs": [],
   "source": [
    "# cálculo del ratio de Sortino del último mes\n",
    "volumes = []\n",
    "pairs = [x for x in pairs if x.split(\"_\")[0] == \"BTC\"]\n",
    "for pair in pairs:\n",
    "    #print \"\\n\\t\",pair\n",
    "    asset = PairData(pair, 3600*4, 4.28)\n",
    "    volume = asset.c_volume\n",
    "    volumes.append([pair, volume])\n",
    "    #print sortino\n",
    "\n",
    "volumes.sort(key = lambda l:l[1], reverse=True)"
   ]
  },
  {
   "cell_type": "code",
   "execution_count": 16,
   "metadata": {},
   "outputs": [
    {
     "name": "stdout",
     "output_type": "stream",
     "text": [
      "[[u'BTC_XRP', 495529.69412624009], [u'BTC_ETH', 271784.43474094005], [u'BTC_STR', 156668.32426760995], [u'BTC_BCH', 130337.04435231998], [u'BTC_LTC', 74643.355729889969], [u'BTC_XEM', 59523.939117570015]]\n"
     ]
    }
   ],
   "source": [
    "print volumes[:6]"
   ]
  },
  {
   "cell_type": "code",
   "execution_count": 44,
   "metadata": {
    "collapsed": true
   },
   "outputs": [],
   "source": [
    "# cálculo del ratio de Sortino del último mes\n",
    "sortinos = []\n",
    "pairs = [x for x in pairs if x.split(\"_\")[0] == \"BTC\"]\n",
    "for pair in pairs:\n",
    "    #print \"\\n\\t\",pair\n",
    "    asset = PairData(pair, 3600*4, 4.28)\n",
    "    sortino = asset.sortino(log = True)\n",
    "    sortinos.append([pair, sortino])\n",
    "    #print sortino\n",
    "\n",
    "sortinos.sort(key = lambda l:l[1], reverse=True)\n",
    "\n",
    "# Cálculo del ratio de Sortino del penúltimo mes\n",
    "sortinos2 = []\n",
    "\n",
    "for pair in pairs:\n",
    "    #print \"\\n\\t\",pair\n",
    "    asset = PairData(pair, 3600*4, 4.28, \"2017-11-14 00:00:00\")\n",
    "    sortino = asset.sortino(log = True)\n",
    "    sortinos2.append([pair, sortino])\n",
    "    #print sortino\n",
    "\n",
    "sortinos2.sort(key = lambda l:l[1], reverse=True)\n",
    "\n",
    "# Cálculo del ratio de Sortino del penúltimo mes\n",
    "sortinos3 = []\n",
    "\n",
    "for pair in pairs:\n",
    "    #print \"\\n\\t\",pair\n",
    "    asset = PairData(pair, 3600*4, 4.28, \"2017-10-14 00:00:00\")\n",
    "    sortino = asset.sortino(log = True)\n",
    "    sortinos3.append([pair, sortino])\n",
    "    #print sortino\n",
    "\n",
    "sortinos3.sort(key = lambda l:l[1], reverse=True)"
   ]
  },
  {
   "cell_type": "code",
   "execution_count": 50,
   "metadata": {},
   "outputs": [
    {
     "name": "stdout",
     "output_type": "stream",
     "text": [
      "Octubre a Noviembre\n",
      "[[u'BTC_BCH', 0.22451410688015308], [u'BTC_VTC', 0.1870550227321274], [u'BTC_DASH', 0.093656264314634044], [u'BTC_XBC', 0.093219531216916479], [u'BTC_POT', 0.086388410427155365], [u'BTC_XCP', 0.078599806651906523]]\n",
      "Noviembre a Diciembre\n",
      "[[u'BTC_NXT', 0.26422621625796877], [u'BTC_EMC2', 0.23854823526497479], [u'BTC_LTC', 0.16497360354142646], [u'BTC_STR', 0.12273930740126378], [u'BTC_ARDR', 0.10830570372657844], [u'BTC_SBD', 0.093234841773830082]]\n",
      "Diciembre a Enero\n",
      "[[u'BTC_ETH', 0.2968386047989543], [u'BTC_ZRX', 0.26198780560861623], [u'BTC_SC', 0.21605898190507009], [u'BTC_XRP', 0.1849220905214137], [u'BTC_STR', 0.18220982102811212], [u'BTC_PASC', 0.17484072513955945]]\n"
     ]
    }
   ],
   "source": [
    "print \"Octubre a Noviembre\"\n",
    "print sortinos3[:6]\n",
    "print \"Noviembre a Diciembre\"\n",
    "print sortinos2[:6]\n",
    "print \"Diciembre a Enero\"\n",
    "print sortinos[:6]"
   ]
  },
  {
   "cell_type": "code",
   "execution_count": 32,
   "metadata": {},
   "outputs": [
    {
     "name": "stderr",
     "output_type": "stream",
     "text": [
      "C:\\Users\\Daniel.LAPTOP-OBVONK0N\\Anaconda2\\lib\\site-packages\\ipykernel_launcher.py:55: RuntimeWarning: divide by zero encountered in log\n"
     ]
    }
   ],
   "source": [
    "# cálculo del ratio de Sharpe del último mes\n",
    "sharpes = []\n",
    "for pair in pairs:\n",
    "    asset_past = PairData(pair, 3600*4, 4.28, \"2017-11-14 00:00:00\")\n",
    "    ret = asset_past.m_return[-1]\n",
    "    asset = PairData(pair, 3600*4, 4.28)\n",
    "    sharpe = asset.sharpe(ret)\n",
    "    sharpes.append([pair, sharpe])\n",
    "\n",
    "sharpes.sort(key = lambda l:l[1], reverse=True)\n",
    "\n",
    "# Cálculo del ratio de Sharpe del penúltimo mes\n",
    "sharpes2 = []\n",
    "\n",
    "for pair in pairs:\n",
    "    asset_past = PairData(pair, 3600*4, 4.28, \"2017-10-14 00:00:00\")\n",
    "    ret = asset_past.m_return[-1]\n",
    "    asset = PairData(pair, 3600*4, 4.28, \"2017-11-14 00:00:00\")\n",
    "    sharpe = asset.sharpe()\n",
    "    sharpes2.append([pair, sharpe])\n",
    "\n",
    "sharpes2.sort(key = lambda l:l[1], reverse=True)\n",
    "\n",
    "# Cálculo del ratio de Sharpe del penúltimo mes\n",
    "sharpes3 = []\n",
    "\n",
    "for pair in pairs:\n",
    "    asset_past = PairData(pair, 3600*4, 4.28, \"2017-09-14 00:00:00\")\n",
    "    ret = asset_past.m_return[-1]\n",
    "    asset = PairData(pair, 3600*4, 4.28, \"2017-10-14 00:00:00\")\n",
    "    sharpe = asset.sharpe()\n",
    "    sharpes3.append([pair, sharpe])\n",
    "\n",
    "sharpes3.sort(key = lambda l:l[1], reverse=True)"
   ]
  },
  {
   "cell_type": "code",
   "execution_count": 51,
   "metadata": {},
   "outputs": [
    {
     "name": "stdout",
     "output_type": "stream",
     "text": [
      "Octubre a Noviembre\n",
      "[[u'BTC_VTC', 0.022409234745069333], [u'BTC_BCH', -0.0099032533503816637], [u'BTC_XBC', -0.3079693882455472], [u'BTC_STR', -0.35762187643243576], [u'BTC_POT', -0.36027701757483549], [u'BTC_XVC', -0.41861861148476942]]\n",
      "Noviembre a Diciembre\n",
      "[[u'BTC_EMC2', 0.31511756276026581], [u'BTC_NXT', 0.12549707050650685], [u'BTC_SBD', -0.1440042967538569], [u'BTC_BTM', -0.28932475436845062], [u'BTC_RIC', -0.32467172845924591], [u'BTC_STR', -0.35449899340094249]]\n",
      "Diciembre a Enero\n",
      "[[u'BTC_XBC', 2.828188941482245], [u'BTC_BTCD', 2.5938002021163626], [u'BTC_BCH', 2.3499693654578735], [u'BTC_GAS', 2.295426558259563], [u'BTC_GAME', 2.2057114007360785], [u'BTC_ZEC', 2.1989075064991264]]\n"
     ]
    }
   ],
   "source": [
    "print \"Octubre a Noviembre\"\n",
    "print sharpes3[:6]\n",
    "print \"Noviembre a Diciembre\"\n",
    "print sharpes2[:6]\n",
    "print \"Diciembre a Enero\"\n",
    "print sharpes[:6]"
   ]
  },
  {
   "cell_type": "code",
   "execution_count": null,
   "metadata": {
    "collapsed": true
   },
   "outputs": [],
   "source": []
  },
  {
   "cell_type": "code",
   "execution_count": 19,
   "metadata": {},
   "outputs": [
    {
     "name": "stdout",
     "output_type": "stream",
     "text": [
      "[[u'BTC_ETH', 0.30196883204988501], [u'BTC_ZRX', 0.26532056873400023], [u'BTC_SC', 0.2214773012516347], [u'BTC_XRP', 0.19425596317204893], [u'BTC_STR', 0.18607695235720123], [u'BTC_STEEM', 0.181236878630986], [u'BTC_BCY', 0.17820544291233495]]\n"
     ]
    }
   ],
   "source": [
    "sortinos3 = [x for x in sortinos if x[0].split(\"_\")[0] == \"BTC\"]\n",
    "print sortinos3[0:7]"
   ]
  },
  {
   "cell_type": "code",
   "execution_count": 20,
   "metadata": {
    "collapsed": true
   },
   "outputs": [],
   "source": [
    "pairs = [x for x in pairs if x.split(\"_\")[0] == \"BTC\"]"
   ]
  },
  {
   "cell_type": "code",
   "execution_count": 21,
   "metadata": {},
   "outputs": [
    {
     "name": "stdout",
     "output_type": "stream",
     "text": [
      "[[u'BTC_VTC', 37.974411292336271], [u'BTC_NXT', 38.866925910832393], [u'BTC_SBD', 41.359837682122276], [u'BTC_BTCD', 41.664773024097094], [u'BTC_BTS', 41.796096416295697], [u'BTC_POT', 42.259544183424119]]\n"
     ]
    }
   ],
   "source": [
    "from indicators import rsi\n",
    "rsi_list = []\n",
    "\n",
    "for pair in pairs:\n",
    "    #print \"\\n\\t\",pair\n",
    "    asset = PairData(pair, 3600*24, weeks = 4.3*6)\n",
    "    RSI1, RSI2 = rsi(asset.df[\"close\"])\n",
    "    rsi_list.append([pair, RSI1[-1]])\n",
    "    #print sortino\n",
    "\n",
    "rsi_list.sort(key = lambda l:l[1], reverse=False)\n",
    "\n",
    "print rsi_list[0:6]"
   ]
  },
  {
   "cell_type": "code",
   "execution_count": null,
   "metadata": {
    "collapsed": true
   },
   "outputs": [],
   "source": []
  },
  {
   "cell_type": "code",
   "execution_count": null,
   "metadata": {
    "collapsed": true
   },
   "outputs": [],
   "source": []
  }
 ],
 "metadata": {
  "anaconda-cloud": {},
  "kernelspec": {
   "display_name": "Python 2",
   "language": "python",
   "name": "python2"
  },
  "language_info": {
   "codemirror_mode": {
    "name": "ipython",
    "version": 2
   },
   "file_extension": ".py",
   "mimetype": "text/x-python",
   "name": "python",
   "nbconvert_exporter": "python",
   "pygments_lexer": "ipython2",
   "version": "2.7.14"
  }
 },
 "nbformat": 4,
 "nbformat_minor": 2
}
