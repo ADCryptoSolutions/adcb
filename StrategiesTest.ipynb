{
 "cells": [
  {
   "cell_type": "code",
   "execution_count": 1,
   "metadata": {},
   "outputs": [
    {
     "name": "stderr",
     "output_type": "stream",
     "text": [
      "C:\\Users\\Daniel.LAPTOP-OBVONK0N\\Anaconda2\\lib\\site-packages\\pandas\\core\\indexing.py:189: SettingWithCopyWarning: \n",
      "A value is trying to be set on a copy of a slice from a DataFrame\n",
      "\n",
      "See the caveats in the documentation: http://pandas.pydata.org/pandas-docs/stable/indexing.html#indexing-view-versus-copy\n",
      "  self._setitem_with_indexer(indexer, value)\n",
      "C:\\Users\\Daniel.LAPTOP-OBVONK0N\\Anaconda2\\lib\\site-packages\\stockstats.py:387: FutureWarning: Currently, 'apply' passes the values as ndarrays to the applied function. In the future, this will change to passing it as Series objects. You need to specify 'raw=True' to keep the current behaviour, and you can pass 'raw=False' to silence this warning\n",
      "  lambda x: np.fabs(x - x.mean()).mean())\n"
     ]
    },
    {
     "name": "stdout",
     "output_type": "stream",
     "text": [
      "                        price      prob     w\n",
      "date                                         \n",
      "2017-12-17 23:00:00  0.037610  0.670232  True\n",
      "2017-12-18 03:00:00  0.038562  0.615990  True\n",
      "2017-12-18 07:00:00  0.038900  0.915193  True\n",
      "2017-12-18 11:00:00  0.041084  0.928401  True\n",
      "2017-12-18 15:00:00  0.041560  0.961082  True\n",
      "precision_score:0.772602739726\n",
      "f1_score:0.761133603239\n",
      "\n",
      "\tBTC_ETH\n",
      "\n",
      "Retorno del mercacdo: 68.9049968851\n",
      "Retorno de price vs EMA: 84.5752734074\n",
      "Retorno de price vs EMA2: 84.8308931076\n",
      "Retorno de ml_mlpc: 712.082354275\n"
     ]
    }
   ],
   "source": [
    "import pandas as pd\n",
    "import pylab as plt\n",
    "from tusp import string2ts, ts2string\n",
    "from bot import prepareData,marketReturn,ml_init_time,run_strategy, makeVolatility\n",
    "import numpy as np\n",
    "import json\n",
    "%matplotlib inline\n",
    "plt.rcParams['figure.figsize'] = 15, 8\n",
    "\n",
    "pair=\"BTC_ETH\"\n",
    "pair2 = \"BTC_XMR\"\n",
    "pair3 = \"BTC_XRP\"\n",
    "pair4 = \"BTC_STR\"\n",
    "\n",
    "start=string2ts(\"2017-12-18 00:00:00\")\n",
    "end=string2ts(\"2018-04-18 00:00:00\")\n",
    "period=3600*4\n",
    "\n",
    "# trayendo y preparando datos\n",
    "df  = prepareData(pair=pair,\n",
    "                  start=start,\n",
    "                  end=end,\n",
    "                  period=period)\n",
    "\n",
    "# trayendo y preparando datos\n",
    "df2 = prepareData(pair=pair2,\n",
    "                  start=start,\n",
    "                  end=end,\n",
    "                  period=period)\n",
    "\n",
    "# trayendo y preparando datos\n",
    "df3  = prepareData(pair=pair3,\n",
    "                  start=start,\n",
    "                  end=end,\n",
    "                  period=period)\n",
    "\n",
    "# trayendo y preparando datos\n",
    "df4  = prepareData(pair=pair4,\n",
    "                  start=start,\n",
    "                  end=end,\n",
    "                  period=period)\n",
    "\n",
    "\n",
    "per = 0.75\n",
    "cum_return1 = marketReturn(df[\"close\"])\n",
    "#cum_return1 = marketReturn(df_train)\n",
    "#cum_return2 = marketReturn(df_test) \n",
    "\n",
    "marketRet = marketReturn(df[\"close\"])[-1]*100 \n",
    "\n",
    "# calculando volatilidad en función del tamaño de las velas\n",
    "df[\"volatility\"] = makeVolatility(df,c=1.7)\n",
    "\n",
    "from strategy2 import pricevsEMA,pricevsEMA2, pricevsSMA, SMAvsSMA, EMAvsSMA2\n",
    "from profit import profit,profit2\n",
    "\n",
    "#EMA_5vsSMA_13\n",
    "#w = SMAvsSMA(df['close'])\n",
    "#relativeReturn,v = profit(w)\n",
    "\n",
    "#EMA_5vsSMA_13\n",
    "#w9 = EMAvsSMA(df['close'])\n",
    "#relativeReturn9,v9 = profit(w9)\n",
    "\n",
    "#Precio vs EMA\n",
    "w3 = pricevsEMA2(df['close'], df[\"volatility\"])\n",
    "relativeReturn3,v3 = profit(w3)\n",
    "\n",
    "# EMA vs SMA\n",
    "# 23.6\n",
    "#w2 = EMAvsSMA2(df['close'], df[\"volatility\"])\n",
    "w2 = pricevsEMA(df['close'])\n",
    "relativeReturn2,v2 = profit(w2)\n",
    "\n",
    "#ml_logreg \n",
    "# recalculando el tiempo inicial en virtud del entrenamiento del\n",
    "# algoritmo \n",
    "start2 = ml_init_time(end,start,per)\n",
    "# cargando y preparando datos\n",
    "df12 = prepareData(pair=pair, start=start2, end=end, period=period)\n",
    "#w4, t = run_strategy(\"ml_logreg\",df12,pair,True,per)\n",
    "#relativeReturn4,v4 = profit(w4)\n",
    "#w5, t = run_strategy(\"ml_randfor\",df2,pair,True,per)\n",
    "#relativeReturn5,v5 = profit(w5)\n",
    "#w6, t = run_strategy(\"ml_knn\",df12,pair,True,per)\n",
    "#relativeReturn6,v6 = profit(w6)\n",
    "\n",
    "w7, t = run_strategy(\"ml_mlpc\",df12,pair,True,per)\n",
    "relativeReturn7,v7 = profit2(w7)\n",
    "\n",
    "#w8, t = run_strategy(\"ml_bm\",df12,pair,True,per)\n",
    "#relativeReturn8,v8 = profit(w8)\n",
    "\n",
    "returns1 = pd.DataFrame(index=df.index)\n",
    "\n",
    "#returns1[\"knn\"] = v6*100\n",
    "#returns1[\"sma2\"] = v2*100\n",
    "\n",
    "returns1.fillna(method='bfill', inplace=True)\n",
    "# Guardando los datos como lista de diccionarios en un archivo de texto\n",
    "# esto permite acceder a ellos y trabajar como data frame offline\n",
    "\n",
    " \n",
    "    \n",
    "print \"\\n\\t%s\\n\"%pair\n",
    "print 'Retorno del mercacdo: %s'%(marketRet)\n",
    "print 'Retorno de price vs EMA: %s'%(relativeReturn2*100)\n",
    "print 'Retorno de price vs EMA2: %s'%(relativeReturn3*100)\n",
    "#print 'Retorno de ml_logreg: %s'%(relativeReturn4*100)\n",
    "#print 'Retorno de ml_knn: %s'%(v6[-1]*100)\n",
    "print 'Retorno de ml_mlpc: %s'%(relativeReturn7*100)\n",
    "#print 'Retorno de ml_bm: %s'%(v8[-1]*100)"
   ]
  },
  {
   "cell_type": "code",
   "execution_count": 2,
   "metadata": {},
   "outputs": [
    {
     "ename": "NameError",
     "evalue": "name 'v4' is not defined",
     "output_type": "error",
     "traceback": [
      "\u001b[1;31m---------------------------------------------------------------------------\u001b[0m",
      "\u001b[1;31mNameError\u001b[0m                                 Traceback (most recent call last)",
      "\u001b[1;32m<ipython-input-2-c9f05834a131>\u001b[0m in \u001b[0;36m<module>\u001b[1;34m()\u001b[0m\n\u001b[0;32m      3\u001b[0m \u001b[0mplt\u001b[0m\u001b[1;33m.\u001b[0m\u001b[0mplot\u001b[0m\u001b[1;33m(\u001b[0m\u001b[0mdf\u001b[0m\u001b[1;33m.\u001b[0m\u001b[0mindex\u001b[0m\u001b[1;33m[\u001b[0m\u001b[1;33m:\u001b[0m\u001b[1;33m]\u001b[0m\u001b[1;33m,\u001b[0m\u001b[0mv2\u001b[0m\u001b[1;33m*\u001b[0m\u001b[1;36m100\u001b[0m\u001b[1;33m,\u001b[0m \u001b[0mlabel\u001b[0m\u001b[1;33m=\u001b[0m\u001b[1;34m'retorno pricevsEMA'\u001b[0m\u001b[1;33m)\u001b[0m\u001b[1;33m\u001b[0m\u001b[0m\n\u001b[0;32m      4\u001b[0m \u001b[1;31m#plt.plot(df.index[:],v3*100, label='retorno pricevsEMA2')\u001b[0m\u001b[1;33m\u001b[0m\u001b[1;33m\u001b[0m\u001b[0m\n\u001b[1;32m----> 5\u001b[1;33m \u001b[0mplt\u001b[0m\u001b[1;33m.\u001b[0m\u001b[0mplot\u001b[0m\u001b[1;33m(\u001b[0m\u001b[0mdf12\u001b[0m\u001b[1;33m.\u001b[0m\u001b[0mindex\u001b[0m\u001b[1;33m[\u001b[0m\u001b[0mint\u001b[0m\u001b[1;33m(\u001b[0m\u001b[0mlen\u001b[0m\u001b[1;33m(\u001b[0m\u001b[0mdf12\u001b[0m\u001b[1;33m)\u001b[0m\u001b[1;33m*\u001b[0m\u001b[0mper\u001b[0m\u001b[1;33m)\u001b[0m\u001b[1;33m:\u001b[0m\u001b[1;33m]\u001b[0m\u001b[1;33m,\u001b[0m\u001b[0mv4\u001b[0m\u001b[1;33m*\u001b[0m\u001b[1;36m100\u001b[0m\u001b[1;33m,\u001b[0m\u001b[0mlabel\u001b[0m\u001b[1;33m=\u001b[0m\u001b[1;34m'retorno ML_logreg'\u001b[0m\u001b[1;33m)\u001b[0m\u001b[1;33m\u001b[0m\u001b[0m\n\u001b[0m\u001b[0;32m      6\u001b[0m \u001b[1;31m#plt.plot(df2.index[int(len(df2)*per):],v5*100,label='retorno ML_randfor')\u001b[0m\u001b[1;33m\u001b[0m\u001b[1;33m\u001b[0m\u001b[0m\n\u001b[0;32m      7\u001b[0m \u001b[1;31m#plt.plot(df12.index[int(len(df12)*per):],v6*100,label='retorno ML_knn')\u001b[0m\u001b[1;33m\u001b[0m\u001b[1;33m\u001b[0m\u001b[0m\n",
      "\u001b[1;31mNameError\u001b[0m: name 'v4' is not defined"
     ]
    },
    {
     "data": {
      "image/png": "[encoded data removed]",
      "text/plain": [
       "<Figure size 1080x576 with 1 Axes>"
      ]
     },
     "metadata": {},
     "output_type": "display_data"
    }
   ],
   "source": [
    "plt.plot(df.index[:],cum_return1*100,'g', label='retorno mercado')\n",
    "#plt.plot(df.index[:],v*100,'y',label='retorno EMAvsSMA')\n",
    "plt.plot(df.index[:],v2*100, label='retorno pricevsEMA')\n",
    "#plt.plot(df.index[:],v3*100, label='retorno pricevsEMA2')\n",
    "plt.plot(df12.index[int(len(df12)*per):],v4*100,label='retorno ML_logreg')\n",
    "#plt.plot(df2.index[int(len(df2)*per):],v5*100,label='retorno ML_randfor')\n",
    "#plt.plot(df12.index[int(len(df12)*per):],v6*100,label='retorno ML_knn')\n",
    "plt.plot(df12.index[int(len(df12)*per):],v7*100,label='retorno ML_mlpc')\n",
    "plt.plot(df12.index[int(len(df12)*per):],v8*100,label='retorno ML_bm')\n",
    "plt.legend(loc='best')\n",
    "plt.grid()\n",
    "\n",
    "print len(df12)*per\n",
    "print len(df12.index[int(len(df12)*per):]), len(v4), len(v2), len(df.index), len(df12.index), per"
   ]
  },
  {
   "cell_type": "code",
   "execution_count": null,
   "metadata": {},
   "outputs": [],
   "source": [
    "v7.head(15)"
   ]
  },
  {
   "cell_type": "code",
   "execution_count": null,
   "metadata": {},
   "outputs": [],
   "source": [
    "w7.head()"
   ]
  },
  {
   "cell_type": "code",
   "execution_count": null,
   "metadata": {},
   "outputs": [],
   "source": [
    "v7.head(15)"
   ]
  },
  {
   "cell_type": "code",
   "execution_count": null,
   "metadata": {},
   "outputs": [],
   "source": [
    "v44 = v4*100\n",
    "v44.plot()\n",
    "plt.grid()\n",
    "print v44[-1]"
   ]
  },
  {
   "cell_type": "code",
   "execution_count": null,
   "metadata": {},
   "outputs": [],
   "source": [
    "w2 = EMAvsSMA2(df2['close'], df2[\"volatility\"])\n",
    "relativeReturn2,v2 = profit(w2)\n",
    "\n",
    "marketRet = marketReturn(df2[\"close\"])[-1]*100 \n",
    "\n",
    "# cargando y preparando datos\n",
    "df22 = prepareData(pair=pair2, start=start2, end=end, period=period)\n",
    "w4, t = run_strategy(\"ml_logreg\",df22,pair2,True,per)\n",
    "relativeReturn4,v4 = profit(w4)\n",
    "#w5, t = run_strategy(\"ml_randfor\",df2,pair,True,per)\n",
    "#relativeReturn5,v5 = profit(w5)\n",
    "w6, t = run_strategy(\"ml_knn\",df22,pair2,True,per)\n",
    "relativeReturn6,v6 = profit(w6)\n",
    "\n",
    "w7, t = run_strategy(\"ml_mlpc\",df22,pair2,True,per)\n",
    "relativeReturn7,v7 = profit(w7)\n",
    "\n",
    "w8, t = run_strategy(\"ml_bm\",df22,pair2,True,per)\n",
    "relativeReturn8,v8 = profit(w8)\n",
    "\n",
    "returns2 = pd.DataFrame(index=df.index)\n",
    "returns2[\"knn\"] = v6*100\n",
    "returns2[\"sma2\"] = v2*100\n",
    "\n",
    "\n",
    "print \"\\n\\t%s\\n\"%pair2\n",
    "print 'Retorno del mercacdo: %s'%(marketRet)\n",
    "print 'Retorno de EMA vs SMA2: %s'%(relativeReturn2*100)\n",
    "print 'Retorno de ml_logreg: %s'%(relativeReturn4*100)\n",
    "print 'Retorno de ml_knn: %s'%(relativeReturn6*100)\n",
    "print 'Retorno de ml_mlpc: %s'%(relativeReturn7*100)\n",
    "print 'Retorno de ml_bm: %s'%(relativeReturn8*100)\n"
   ]
  },
  {
   "cell_type": "code",
   "execution_count": null,
   "metadata": {},
   "outputs": [],
   "source": [
    "w2 = EMAvsSMA2(df3['close'], df3[\"volatility\"])\n",
    "relativeReturn2,v2 = profit(w2)\n",
    "\n",
    "marketRet = marketReturn(df3[\"close\"])[-1]*100 \n",
    "\n",
    "\n",
    "# cargando y preparando datos\n",
    "df23 = prepareData(pair=pair3, start=start2, end=end, period=period)\n",
    "w4, t = run_strategy(\"ml_logreg\",df23,pair3,True,per)\n",
    "relativeReturn4,v4 = profit(w4)\n",
    "#w5, t = run_strategy(\"ml_randfor\",df2,pair,True,per)\n",
    "#relativeReturn5,v5 = profit(w5)\n",
    "w6, t = run_strategy(\"ml_knn\",df23,pair3,True,per)\n",
    "relativeReturn6,v6 = profit(w6)\n",
    "\n",
    "w7, t = run_strategy(\"ml_mlpc\",df23,pair3,True,per)\n",
    "relativeReturn7,v7 = profit(w7)\n",
    "\n",
    "w8, t = run_strategy(\"ml_bm\",df23,pair3,True,per)\n",
    "relativeReturn8,v8 = profit(w8)\n",
    "\n",
    "returns3 = pd.DataFrame(index=df.index)\n",
    "returns3[\"knn\"] = v6*100\n",
    "returns3[\"sma2\"] = v2*100\n",
    "\n",
    "print \"\\n\\t%s\\n\"%pair3\n",
    "print 'Retorno del mercacdo: %s'%(marketRet)\n",
    "print 'Retorno de EMA vs SMA2: %s'%(relativeReturn2*100)\n",
    "print 'Retorno de ml_logreg: %s'%(relativeReturn4*100)\n",
    "print 'Retorno de ml_knn: %s'%(relativeReturn6*100)\n",
    "print 'Retorno de ml_mlpc: %s'%(relativeReturn7*100)\n",
    "print 'Retorno de ml_bm: %s'%(relativeReturn8*100)"
   ]
  },
  {
   "cell_type": "code",
   "execution_count": null,
   "metadata": {},
   "outputs": [],
   "source": [
    "w2 = EMAvsSMA2(df4['close'], df4[\"volatility\"])\n",
    "relativeReturn2,v2 = profit(w2)\n",
    "\n",
    "marketRet = marketReturn(df4[\"close\"])[-1]*100 \n",
    "\n",
    "# cargando y preparando datos\n",
    "df24 = prepareData(pair=pair4, start=start2, end=end, period=period)\n",
    "w4, t = run_strategy(\"ml_logreg\",df24,pair4,True,per)\n",
    "relativeReturn4,v4 = profit(w4)\n",
    "#w5, t = run_strategy(\"ml_randfor\",df2,pair,True,per)\n",
    "#relativeReturn5,v5 = profit(w5)\n",
    "w6, t = run_strategy(\"ml_knn\",df24,pair4,True,per)\n",
    "relativeReturn6,v6 = profit(w6)\n",
    "\n",
    "w7, t = run_strategy(\"ml_mlpc\",df24,pair4,True,per)\n",
    "relativeReturn7,v7 = profit(w7)\n",
    "\n",
    "w8, t = run_strategy(\"ml_bm\",df24,pair4,True,per)\n",
    "relativeReturn8,v8 = profit(w8)\n",
    "\n",
    "returns4 = pd.DataFrame(index=df.index)\n",
    "returns4[\"knn\"] = v6*100\n",
    "returns4[\"sma2\"] = v2*100\n",
    "\n",
    "\n",
    "print \"\\n\\t%s\\n\"%pair4\n",
    "print 'Retorno del mercacdo: %s'%(marketRet)\n",
    "print 'Retorno de EMA vs SMA2: %s'%(relativeReturn2*100)\n",
    "print 'Retorno de ml_logreg: %s'%(relativeReturn4*100)\n",
    "print 'Retorno de ml_knn: %s'%(relativeReturn6*100)\n",
    "print 'Retorno de ml_mlpc: %s'%(relativeReturn7*100)\n",
    "print 'Retorno de ml_bm: %s'%(relativeReturn8*100)"
   ]
  },
  {
   "cell_type": "code",
   "execution_count": null,
   "metadata": {
    "collapsed": true
   },
   "outputs": [],
   "source": [
    "writer = pd.ExcelWriter('2w_returns.xlsx')\n",
    "returns1.to_excel(writer,'%s'%pair)\n",
    "returns2.to_excel(writer,'%s'%pair2)\n",
    "returns3.to_excel(writer,'%s'%pair3)\n",
    "returns4.to_excel(writer,'%s'%pair4)\n",
    "writer.save()"
   ]
  },
  {
   "cell_type": "code",
   "execution_count": null,
   "metadata": {},
   "outputs": [],
   "source": [
    "orders = len(w4[w4[\"orders\"] != \"WAIT\"])\n",
    "print orders\n",
    "print (relativeReturn4 - orders*0.0025)*100"
   ]
  },
  {
   "cell_type": "code",
   "execution_count": null,
   "metadata": {},
   "outputs": [],
   "source": [
    "from poloniex import Poloniex\n",
    "\n",
    "polo = Poloniex()\n",
    "\n",
    "markets = polo.returnTicker()\n",
    "pairs = []\n",
    "for name, thinks in markets.items():\n",
    "    pairs.append(name)\n",
    "pairs = [x for x in pairs if x.split(\"_\")[0] == \"BTC\"]\n",
    "print pairs"
   ]
  },
  {
   "cell_type": "code",
   "execution_count": null,
   "metadata": {
    "collapsed": true
   },
   "outputs": [],
   "source": [
    "markets_returns = []\n",
    "EMAvsSMA2_returns = []\n",
    "logreg_returns = []\n",
    "knn_returns = []\n",
    "mlpc_returns = []\n",
    "bm_returns = []\n",
    "\n",
    "for pair in pairs:\n",
    "\n",
    "    df4  = prepareData(pair=pair,\n",
    "                      start=start,\n",
    "                      end=end,\n",
    "                      period=period)\n",
    "    \n",
    "    w2 = EMAvsSMA2(df4['close'], df4[\"volatility\"])\n",
    "    relativeReturn2,v2 = profit(w2)\n",
    "\n",
    "    marketRet = marketReturn(df4[\"close\"])[-1]*100 \n",
    "\n",
    "    #ml_logreg \n",
    "    # recalculando el tiempo inicial en virtud del entrenamiento del\n",
    "    # algoritmo \n",
    "    start2 = ml_init_time(end,start,per)\n",
    "    # cargando y preparando datos\n",
    "    try:\n",
    "        df24 = prepareData(pair=pair, start=start2, end=end, period=period)\n",
    "    except:\n",
    "        continue\n",
    "    w4, t = run_strategy(\"ml_logreg\",df24,pair,True,per)\n",
    "    relativeReturn4,v4 = profit(w4)\n",
    "    #w5, t = run_strategy(\"ml_randfor\",df2,pair,True,per)\n",
    "    #relativeReturn5,v5 = profit(w5)\n",
    "    w6, t = run_strategy(\"ml_knn\",df24,pair,True,per)\n",
    "    relativeReturn6,v6 = profit(w6)\n",
    "\n",
    "    w7, t = run_strategy(\"ml_mlpc\",df24,pair,True,per)\n",
    "    relativeReturn7,v7 = profit(w7)\n",
    "    #w5, t = run_strategy(\"ml_randfor\",df2,pair,True,per)\n",
    "    #relativeReturn5,v5 = profit(w5)\n",
    "    w8, t = run_strategy(\"ml_bm\",df24,pair,True,per)\n",
    "    relativeReturn8,v8 = profit(w8)\n",
    "\n",
    "    returns4 = pd.DataFrame(index=df.index)\n",
    "    returns4[\"knn\"] = v6*100\n",
    "    returns4[\"sma2\"] = v2*100\n",
    "\n",
    "    markets_returns.append([pair, round(marketRet,2), round(marketRet,2)])\n",
    "    EMAvsSMA2_returns.append([pair, round(relativeReturn2*100,2), round(relativeReturn2*100-marketRet,2)])\n",
    "    logreg_returns.append([pair, round(relativeReturn4*100,2), round(relativeReturn4*100-marketRet,2)])\n",
    "    knn_returns.append([pair, round(relativeReturn6*100,2), round(relativeReturn6*100-marketRet)])\n",
    "    mlpc_returns.append([pair, round(relativeReturn7*100,2), round(relativeReturn7*100-marketRet)])\n",
    "    bm_returns.append([pair, round(relativeReturn8*100,2), round(relativeReturn8*100-marketRet)])\n",
    "    \"\"\"\n",
    "    print \"\\n\\t%s\\n\"%pair\n",
    "    print 'Retorno del mercacdo: %s'%(round(marketRet,2))\n",
    "    #print 'Retorno de SMA vs SMA: %s'%(relativeReturn*100)\n",
    "    #print 'Retorno de EMA vs SMA: %s'%(relativeReturn9*100)\n",
    "    #print 'Retorno de Precio vs SMA20: %s'%(relativeReturn3*100)\n",
    "    print 'Retorno de EMA vs SMA2: %s'%(round(relativeReturn2*100,2))\n",
    "    print 'Retorno de ml_logreg: %s'%(round(relativeReturn4*100,2))\n",
    "    #print 'Retorno de ml_randfor: %s'%(relativeReturn5*100)\n",
    "    print 'Retorno de ml_knn: %s'%(round(relativeReturn6*100,2))\"\"\""
   ]
  },
  {
   "cell_type": "code",
   "execution_count": null,
   "metadata": {
    "collapsed": true,
    "scrolled": true
   },
   "outputs": [],
   "source": [
    "strat = [markets_returns, EMAvsSMA2_returns, logreg_returns, knn_returns, mlpc_returns, bm_returns]\n",
    "print \"Mejores pares según retorno\"\n",
    "for st in strat:\n",
    "    st.sort(key = lambda l:l[1], reverse=False)\n",
    "    print \"\\n\",st[0:5],\"\\n\""
   ]
  },
  {
   "cell_type": "code",
   "execution_count": null,
   "metadata": {
    "collapsed": true
   },
   "outputs": [],
   "source": [
    "print \"Mejores estrategias vs retorno del mercado\"\n",
    "for st in strat:\n",
    "    st.sort(key = lambda l:l[2], reverse=False)\n",
    "    print \"\\n\",st[0:6],\"\\n\""
   ]
  },
  {
   "cell_type": "markdown",
   "metadata": {
    "collapsed": true
   },
   "source": [
    "# Dependencia del profit con el porcentaje de  datos test/train"
   ]
  },
  {
   "cell_type": "code",
   "execution_count": null,
   "metadata": {
    "collapsed": true
   },
   "outputs": [],
   "source": [
    "pers = np.arange(0.20, 0.95, 0.005)\n",
    "log_reg = []\n",
    "knn =  []\n",
    "\n",
    "for per in pers:\n",
    "    # recalculando el tiempo inicial en virtud del entrenamiento del\n",
    "    # algoritmo \n",
    "    start2 = ml_init_time(end,start,per)\n",
    "    # cargando y preparando datos\n",
    "    df12 = prepareData(pair=\"BTC_XRP\", start=start2, end=end, period=period)\n",
    "\n",
    "    w4, t = run_strategy(\"ml_logreg\",df12,pair,True,per)\n",
    "    relativeReturn4,v4 = profit(w4)\n",
    "    log_reg.append(relativeReturn4*100)\n",
    "\n",
    "    w6, t = run_strategy(\"ml_knn\",df12,pair,True,per)\n",
    "    relativeReturn6,v6 = profit(w6)\n",
    "    knn.append(relativeReturn6*100)\n",
    "\n",
    "print len(pers), len(log_reg)\n",
    "plt.plot(pers,log_reg,label='ML_logreg')\n",
    "plt.plot(pers,knn,label='ML_knn')\n",
    "plt.legend(loc='best')\n",
    "plt.grid()"
   ]
  },
  {
   "cell_type": "code",
   "execution_count": null,
   "metadata": {
    "collapsed": true
   },
   "outputs": [],
   "source": [
    "pers = np.arange(0.20, 0.95, 0.005)\n",
    "train = []\n",
    "log_reg = []\n",
    "knn =  []\n",
    "\n",
    "for per in pers:\n",
    "    # recalculando el tiempo inicial en virtud del entrenamiento del\n",
    "    # algoritmo \n",
    "    start2 = ml_init_time(end,start,per)\n",
    "    # cargando y preparando datos\n",
    "    df12 = prepareData(pair=\"BTC_XRP\", start=start2, end=end, period=period)\n",
    "    \n",
    "    train.append(len(df12[1:int(len(df12)*per)]))\n",
    "\n",
    "    w4, t = run_strategy(\"ml_logreg\",df12,pair,True,per)\n",
    "    relativeReturn4,v4 = profit(w4)\n",
    "    log_reg.append(relativeReturn4*100)\n",
    "\n",
    "    w6, t = run_strategy(\"ml_knn\",df12,pair,True,per)\n",
    "    relativeReturn6,v6 = profit(w6)\n",
    "    knn.append(relativeReturn6*100)\n",
    "\n",
    "print len(pers), len(log_reg)\n",
    "plt.plot(train,log_reg,label='ML_logreg')\n",
    "plt.plot(train,knn,label='ML_knn')\n",
    "plt.legend(loc='best')\n",
    "plt.grid()"
   ]
  },
  {
   "cell_type": "code",
   "execution_count": null,
   "metadata": {
    "collapsed": true
   },
   "outputs": [],
   "source": []
  }
 ],
 "metadata": {
  "anaconda-cloud": {},
  "kernelspec": {
   "display_name": "Python 2",
   "language": "python",
   "name": "python2"
  },
  "language_info": {
   "codemirror_mode": {
    "name": "ipython",
    "version": 2
   },
   "file_extension": ".py",
   "mimetype": "text/x-python",
   "name": "python",
   "nbconvert_exporter": "python",
   "pygments_lexer": "ipython2",
   "version": "2.7.14"
  }
 },
 "nbformat": 4,
 "nbformat_minor": 2
}
