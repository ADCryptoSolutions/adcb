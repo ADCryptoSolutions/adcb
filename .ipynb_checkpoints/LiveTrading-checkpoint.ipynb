{
 "cells": [
  {
   "cell_type": "code",
   "execution_count": 3,
   "metadata": {
    "collapsed": false
   },
   "outputs": [
    {
     "name": "stdout",
     "output_type": "stream",
     "text": [
      "{u'last': u'0.05391675', u'quoteVolume': u'56493.11162503', u'high24hr': u'0.05657216', u'isFrozen': u'0', u'highestBid': u'0.05388309', u'percentChange': u'-0.04033693', u'low24hr': u'0.05327689', u'lowestAsk': u'0.05391675', u'id': 148, u'baseVolume': u'3089.72770916'}\n",
      "{u'last': u'0.05391675', u'quoteVolume': u'56493.11162503', u'high24hr': u'0.05657216', u'isFrozen': u'0', u'highestBid': u'0.05391675', u'percentChange': u'-0.04033693', u'low24hr': u'0.05327689', u'lowestAsk': u'0.05393700', u'id': 148, u'baseVolume': u'3089.72770916'}\n",
      "{u'last': u'0.05391675', u'quoteVolume': u'56493.11162503', u'high24hr': u'0.05657216', u'isFrozen': u'0', u'highestBid': u'0.05391675', u'percentChange': u'-0.04033830', u'low24hr': u'0.05327689', u'lowestAsk': u'0.05392500', u'id': 148, u'baseVolume': u'3089.72770916'}\n",
      "{u'last': u'0.05392430', u'quoteVolume': u'56493.11162503', u'high24hr': u'0.05657216', u'isFrozen': u'0', u'highestBid': u'0.05391675', u'percentChange': u'-0.04122288', u'low24hr': u'0.05327689', u'lowestAsk': u'0.05393850', u'id': 148, u'baseVolume': u'3089.72770916'}\n",
      "{u'last': u'0.05393847', u'quoteVolume': u'56493.11162503', u'high24hr': u'0.05657216', u'isFrozen': u'0', u'highestBid': u'0.05388004', u'percentChange': u'-0.04194547', u'low24hr': u'0.05327689', u'lowestAsk': u'0.05393844', u'id': 148, u'baseVolume': u'3089.72770916'}\n"
     ]
    },
    {
     "ename": "KeyboardInterrupt",
     "evalue": "",
     "output_type": "error",
     "traceback": [
      "\u001b[0;31m---------------------------------------------------------------------------\u001b[0m",
      "\u001b[0;31mKeyboardInterrupt\u001b[0m                         Traceback (most recent call last)",
      "\u001b[0;32m<ipython-input-3-b577a3cbc050>\u001b[0m in \u001b[0;36m<module>\u001b[0;34m()\u001b[0m\n\u001b[1;32m      5\u001b[0m \u001b[0;32mwhile\u001b[0m \u001b[0mTrue\u001b[0m\u001b[0;34m:\u001b[0m\u001b[0;34m\u001b[0m\u001b[0m\n\u001b[1;32m      6\u001b[0m     \u001b[0;32mprint\u001b[0m \u001b[0mpolo\u001b[0m\u001b[0;34m.\u001b[0m\u001b[0mreturnTicker\u001b[0m\u001b[0;34m(\u001b[0m\u001b[0;34m)\u001b[0m\u001b[0;34m[\u001b[0m\u001b[0;34m'BTC_ETH'\u001b[0m\u001b[0;34m]\u001b[0m\u001b[0;34m\u001b[0m\u001b[0m\n\u001b[0;32m----> 7\u001b[0;31m     \u001b[0mtime\u001b[0m\u001b[0;34m.\u001b[0m\u001b[0msleep\u001b[0m\u001b[0;34m(\u001b[0m\u001b[0;36m10\u001b[0m\u001b[0;34m)\u001b[0m\u001b[0;34m\u001b[0m\u001b[0m\n\u001b[0m\u001b[1;32m      8\u001b[0m \u001b[0;34m\u001b[0m\u001b[0m\n",
      "\u001b[0;31mKeyboardInterrupt\u001b[0m: "
     ]
    }
   ],
   "source": [
    "import pandas as pd\n",
    "import pylab as plt\n",
    "from tusp import string2ts, ts2string\n",
    "from bot import prepareData,marketReturn\n",
    "import numpy as np\n",
    "import time\n",
    "from poloniex import Poloniex\n",
    "\n",
    "%matplotlib inline\n",
    "plt.rcParams['figure.figsize'] = 15, 8\n",
    "\n",
    "# trayendo y preparando datos\n",
    "df  = prepareData(pair=\"BTC_XRP\",\n",
    "                  start=string2ts(\"2015-09-10 00:00:00\"),\n",
    "                  end=string2ts(\"2017-09-01 00:00:00\"),\n",
    "                  period=3600*2)\n",
    "\n",
    "polo = Poloniex()\n",
    "while True:\n",
    "    print polo.returnTicker()['BTC_ETH']\n",
    "    time.sleep(10)\n",
    "\n"
   ]
  },
  {
   "cell_type": "code",
   "execution_count": null,
   "metadata": {
    "collapsed": true
   },
   "outputs": [],
   "source": []
  }
 ],
 "metadata": {
  "kernelspec": {
   "display_name": "Python 2",
   "language": "python",
   "name": "python2"
  },
  "language_info": {
   "codemirror_mode": {
    "name": "ipython",
    "version": 2
   },
   "file_extension": ".py",
   "mimetype": "text/x-python",
   "name": "python",
   "nbconvert_exporter": "python",
   "pygments_lexer": "ipython2",
   "version": "2.7.13"
  }
 },
 "nbformat": 4,
 "nbformat_minor": 2
}
