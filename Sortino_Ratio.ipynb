{
 "cells": [
  {
   "cell_type": "code",
   "execution_count": 1,
   "metadata": {
    "collapsed": true
   },
   "outputs": [],
   "source": [
    "from poloniex import Poloniex\n",
    "\n",
    "polo = Poloniex()"
   ]
  },
  {
   "cell_type": "code",
   "execution_count": 2,
   "metadata": {
    "collapsed": false
   },
   "outputs": [
    {
     "name": "stdout",
     "output_type": "stream",
     "text": [
      "[u'USDT_REP', u'BTC_CVC', u'BTC_XVC', u'BTC_PINK', u'BTC_SYS', u'BTC_EMC2', u'BTC_RADS', u'BTC_SC', u'BTC_MAID', u'BTC_BCH', u'BTC_GNT', u'BTC_BCN', u'BTC_REP', u'BTC_BCY', u'BTC_GNO', u'XMR_NXT', u'USDT_ZEC', u'BTC_FCT', u'BTC_GAS', u'USDT_ETH', u'USDT_BTC', u'BTC_LBC', u'BTC_DCR', u'USDT_ETC', u'ETH_OMG', u'BTC_AMP', u'BTC_XPM', u'BTC_NXT', u'BTC_VTC', u'ETH_STEEM', u'XMR_BLK', u'BTC_PASC', u'XMR_ZEC', u'BTC_GRC', u'BTC_NXC', u'BTC_BTCD', u'BTC_LTC', u'BTC_DASH', u'BTC_STORJ', u'ETH_ZEC', u'BTC_ZEC', u'BTC_BURST', u'ETH_ZRX', u'BTC_BELA', u'BTC_STEEM', u'BTC_ETC', u'BTC_ETH', u'BTC_HUC', u'BTC_STRAT', u'BTC_LSK', u'BTC_EXP', u'BTC_CLAM', u'ETH_REP', u'XMR_DASH', u'ETH_CVC', u'USDT_BCH', u'BTC_ZRX', u'USDT_DASH', u'BTC_BLK', u'BTC_XRP', u'USDT_NXT', u'BTC_NEOS', u'BTC_OMG', u'BTC_BTS', u'BTC_DOGE', u'ETH_GNT', u'BTC_SBD', u'ETH_GNO', u'BTC_XCP', u'USDT_LTC', u'BTC_BTM', u'USDT_XMR', u'ETH_LSK', u'BTC_OMNI', u'BTC_NAV', u'BTC_FLDC', u'ETH_BCH', u'BTC_XBC', u'BTC_DGB', u'XMR_BTCD', u'BTC_VRC', u'BTC_RIC', u'XMR_MAID', u'BTC_STR', u'BTC_POT', u'BTC_XMR', u'BTC_VIA', u'BTC_XEM', u'BTC_NMC', u'ETH_ETC', u'XMR_LTC', u'BTC_ARDR', u'ETH_GAS', u'BTC_FLO', u'USDT_XRP', u'BTC_GAME', u'BTC_PPC', u'XMR_BCN', u'USDT_STR']\n"
     ]
    }
   ],
   "source": [
    "markets = polo.returnTicker()\n",
    "pairs = []\n",
    "for name, thinks in markets.items():\n",
    "    pairs.append(name)\n",
    "print pairs"
   ]
  },
  {
   "cell_type": "code",
   "execution_count": 3,
   "metadata": {
    "collapsed": false
   },
   "outputs": [
    {
     "name": "stdout",
     "output_type": "stream",
     "text": [
      "0.0267068599563\n"
     ]
    }
   ],
   "source": [
    "# funciones necesarias para el manejo del tiempo\n",
    "from datetime import datetime, timedelta\n",
    "from time import sleep\n",
    "from tusp import string2ts\n",
    "from bot import prepareData\n",
    "import numpy as np\n",
    "import pylab as pl\n",
    "%matplotlib inline\n",
    "\n",
    "class PairData:\n",
    "    \n",
    "    def __init__(self, pair, period, weeks = 4.3*3, backto = None):\n",
    "            \n",
    "        self.pair = pair\n",
    "        self.period = period\n",
    "        delta = timedelta(weeks = weeks)\n",
    "        self.delta = delta\n",
    "        start = \"\"\n",
    "        end = \"\"\n",
    "\n",
    "        # Sí el tiempo final es diferente al actual...\n",
    "        if backto != None:\n",
    "            to = datetime.strptime(backto, \"%Y-%m-%d %H:%M:%S\")\n",
    "            self.to = to\n",
    "            start = string2ts(to.strftime('%Y-%m-%d %H:%M:%S'))\n",
    "            \n",
    "            tf = to + delta\n",
    "            self.tf = tf\n",
    "            end = string2ts(tf.strftime('%Y-%m-%d %H:%M:%S'))\n",
    "            \n",
    "        else:\n",
    "            tf = datetime.now()\n",
    "            self.tf = tf\n",
    "            end = string2ts(tf.strftime('%Y-%m-%d %H:%M:%S'))\n",
    "            \n",
    "            to = tf-delta\n",
    "            self.to = to\n",
    "            start = string2ts(to.strftime('%Y-%m-%d %H:%M:%S'))\n",
    "                              \n",
    "\n",
    "        self.start = start\n",
    "        self.end = end\n",
    "        df = prepareData(pair=pair, start=start, end=end, period=int(period))\n",
    "        \n",
    "        self.df = df\n",
    "        self.market_return()\n",
    "    \n",
    "    def market_return(self):\n",
    "        \"\"\"Calcula el retorno del mercado vía log_retornos\n",
    "        \"\"\"\n",
    "        \n",
    "        serie = self.df[\"close\"]\n",
    "\n",
    "        # calculando los log retornos\n",
    "        log_return = np.log(serie).diff().fillna(0)\n",
    "\n",
    "        # calculando log retorno acumulado\n",
    "        cum_logr = log_return.cumsum()\n",
    "        cum_r = np.exp(cum_logr) - 1\n",
    "        \n",
    "        self.l_return = log_return\n",
    "        self.m_return = cum_r\n",
    "        \n",
    "    \n",
    "    def sortino(self, log = False):\n",
    "        \"\"\" Calcula en ratio de Sortino\n",
    "        \n",
    "        \"\"\"\n",
    "        \n",
    "        if log:\n",
    "            rets = self.l_return\n",
    "         \n",
    "        else:\n",
    "            rets = self.m_return\n",
    "\n",
    "        semi_var = rets[rets < 0] ** 2\n",
    "        semi_var = semi_var.sum()/len(rets)\n",
    "        sortino = np.sqrt(semi_var)\n",
    "\n",
    "        return rets.mean()/sortino\n",
    "\n",
    "    def sharpe(self, period_ret = 0.2):\n",
    "        \"\"\"\n",
    "        Calculate the annualised Sharpe ratio of a returns stream \n",
    "        based on a number of trading periods, N. N defaults to 252,\n",
    "        which then assumes a stream of daily returns.\n",
    "\n",
    "        The function assumes that the returns are the excess of \n",
    "        those compared to a benchmark.\n",
    "        \"\"\"\n",
    "        N = self.delta.days\n",
    "        returns = self.l_return\n",
    "        excess_ret = returns - period_ret/N\n",
    "        return np.sqrt(N) * excess_ret.mean() / excess_ret.std()\n",
    "    \n",
    "dgb = PairData(\"BTC_DGB\", 3600*4)\n",
    "\n",
    "print dgb.sharpe()"
   ]
  },
  {
   "cell_type": "code",
   "execution_count": 4,
   "metadata": {
    "collapsed": false
   },
   "outputs": [],
   "source": [
    "# cálculo del ratio de Sortino del último mes\n",
    "sortinos = []\n",
    "pairs = [x for x in pairs if x.split(\"_\")[0] == \"BTC\"]\n",
    "for pair in pairs:\n",
    "    #print \"\\n\\t\",pair\n",
    "    asset = PairData(pair, 3600*4, 4.28)\n",
    "    sortino = asset.sortino(log = True)\n",
    "    sortinos.append([pair, sortino])\n",
    "    #print sortino\n",
    "\n",
    "sortinos.sort(key = lambda l:l[1], reverse=True)\n",
    "\n",
    "# Cálculo del ratio de Sortino del penúltimo mes\n",
    "sortinos2 = []\n",
    "\n",
    "for pair in pairs:\n",
    "    #print \"\\n\\t\",pair\n",
    "    asset = PairData(pair, 3600*4, 4.28, \"2017-11-14 00:00:00\")\n",
    "    sortino = asset.sortino(log = True)\n",
    "    sortinos2.append([pair, sortino])\n",
    "    #print sortino\n",
    "\n",
    "sortinos2.sort(key = lambda l:l[1], reverse=True)"
   ]
  },
  {
   "cell_type": "code",
   "execution_count": 11,
   "metadata": {
    "collapsed": false
   },
   "outputs": [
    {
     "name": "stdout",
     "output_type": "stream",
     "text": [
      "[[u'BTC_EMC2', 0.28035405904741401], [u'BTC_NXT', 0.26237411369725355], [u'BTC_LTC', 0.17117442743364195], [u'BTC_ARDR', 0.11860477781855779], [u'BTC_STR', 0.11682605144268603], [u'BTC_BTM', 0.098805415838810376]]\n",
      "[[u'BTC_ETH', 0.34513166415658014], [u'BTC_ZRX', 0.31228800413249852], [u'BTC_SC', 0.30111378630533414], [u'BTC_LSK', 0.27272984468029321], [u'BTC_DGB', 0.26019765687048141], [u'BTC_EXP', 0.26009616324237617]]\n"
     ]
    }
   ],
   "source": [
    "print sortinos2[0:6]\n",
    "print sortinos[0:6]"
   ]
  },
  {
   "cell_type": "code",
   "execution_count": 6,
   "metadata": {
    "collapsed": true
   },
   "outputs": [],
   "source": [
    "# cálculo del ratio de Sharpe del último mes\n",
    "sharpes = []\n",
    "for pair in pairs:\n",
    "    asset = PairData(pair, 3600*4, 4.28)\n",
    "    sharpe = asset.sharpe()\n",
    "    sharpes.append([pair, sharpe])\n",
    "\n",
    "sharpes.sort(key = lambda l:l[1], reverse=True)\n",
    "\n",
    "# Cálculo del ratio de Sharpe del penúltimo mes\n",
    "sharpes2 = []\n",
    "\n",
    "for pair in pairs:\n",
    "    asset = PairData(pair, 3600*4, 4.28, \"2017-11-14 00:00:00\")\n",
    "    sharpe = asset.sharpe()\n",
    "    sharpes2.append([pair, sharpe])\n",
    "\n",
    "sharpes2.sort(key = lambda l:l[1], reverse=True)"
   ]
  },
  {
   "cell_type": "code",
   "execution_count": 12,
   "metadata": {
    "collapsed": false
   },
   "outputs": [
    {
     "name": "stdout",
     "output_type": "stream",
     "text": [
      "[[u'BTC_EMC2', 0.43910293222779245], [u'BTC_NXT', 0.11950063662106654], [u'BTC_SBD', -0.13729856100399526], [u'BTC_BTM', -0.2133393262771488], [u'BTC_RIC', -0.30655369136881516], [u'BTC_STR', -0.37693093775951048]]\n",
      "[[u'BTC_ZRX', 0.38377186959331044], [u'BTC_SC', 0.36497520060184585], [u'BTC_DGB', 0.20974538996147826], [u'BTC_BURST', 0.18334593179941652], [u'BTC_EXP', 0.12011743291926279], [u'BTC_STR', 0.11681258084026287]]\n"
     ]
    }
   ],
   "source": [
    "print sharpes2[:6]\n",
    "print sharpes[:6]"
   ]
  },
  {
   "cell_type": "code",
   "execution_count": 8,
   "metadata": {
    "collapsed": false
   },
   "outputs": [
    {
     "name": "stdout",
     "output_type": "stream",
     "text": [
      "[[u'BTC_ETH', 0.34513166415658014], [u'BTC_ZRX', 0.31228800413249852], [u'BTC_SC', 0.30111378630533414], [u'BTC_LSK', 0.27272984468029321], [u'BTC_DGB', 0.26019765687048141], [u'BTC_EXP', 0.26009616324237617], [u'BTC_STR', 0.25947813911609841]]\n"
     ]
    }
   ],
   "source": [
    "sortinos3 = [x for x in sortinos if x[0].split(\"_\")[0] == \"BTC\"]\n",
    "print sortinos3[0:7]"
   ]
  },
  {
   "cell_type": "code",
   "execution_count": 9,
   "metadata": {
    "collapsed": true
   },
   "outputs": [],
   "source": [
    "pairs = [x for x in pairs if x.split(\"_\")[0] == \"BTC\"]"
   ]
  },
  {
   "cell_type": "code",
   "execution_count": 10,
   "metadata": {
    "collapsed": false
   },
   "outputs": [
    {
     "name": "stderr",
     "output_type": "stream",
     "text": [
      "indicators.py:29: FutureWarning: pd.ewm_mean is deprecated for Series and will be removed in a future version, replace with \n",
      "\tSeries.ewm(ignore_na=False,min_periods=0,adjust=True,com=14).mean()\n",
      "  roll_up1 = pd.stats.moments.ewma(up, window_length)\n",
      "indicators.py:30: FutureWarning: pd.ewm_mean is deprecated for Series and will be removed in a future version, replace with \n",
      "\tSeries.ewm(ignore_na=False,min_periods=0,adjust=True,com=14).mean()\n",
      "  roll_down1 = pd.stats.moments.ewma(down.abs(), window_length)\n",
      "indicators.py:42: FutureWarning: pd.rolling_mean is deprecated for Series and will be removed in a future version, replace with \n",
      "\tSeries.rolling(window=14,center=False).mean()\n",
      "  roll_up2 = pd.rolling_mean(up, window_length)\n",
      "indicators.py:43: FutureWarning: pd.rolling_mean is deprecated for Series and will be removed in a future version, replace with \n",
      "\tSeries.rolling(window=14,center=False).mean()\n",
      "  roll_down2 = pd.rolling_mean(down.abs(), window_length)\n"
     ]
    },
    {
     "name": "stdout",
     "output_type": "stream",
     "text": [
      "[[u'BTC_NXT', 40.831961929833916], [u'BTC_VTC', 43.258218582987595], [u'BTC_BTCD', 45.055708110755212], [u'BTC_EMC2', 46.42618972039508], [u'BTC_SBD', 46.644154446367047], [u'BTC_BTS', 46.906073361612272]]\n"
     ]
    }
   ],
   "source": [
    "from indicators import rsi\n",
    "rsi_list = []\n",
    "\n",
    "for pair in pairs:\n",
    "    #print \"\\n\\t\",pair\n",
    "    asset = PairData(pair, 3600*24, weeks = 4.3*6)\n",
    "    RSI1, RSI2 = rsi(asset.df[\"close\"])\n",
    "    rsi_list.append([pair, RSI1[-1]])\n",
    "    #print sortino\n",
    "\n",
    "rsi_list.sort(key = lambda l:l[1], reverse=False)\n",
    "\n",
    "print rsi_list[0:6]"
   ]
  },
  {
   "cell_type": "code",
   "execution_count": null,
   "metadata": {
    "collapsed": false
   },
   "outputs": [],
   "source": []
  },
  {
   "cell_type": "code",
   "execution_count": null,
   "metadata": {
    "collapsed": true
   },
   "outputs": [],
   "source": []
  }
 ],
 "metadata": {
  "anaconda-cloud": {},
  "kernelspec": {
   "display_name": "Python [default]",
   "language": "python",
   "name": "python2"
  },
  "language_info": {
   "codemirror_mode": {
    "name": "ipython",
    "version": 2
   },
   "file_extension": ".py",
   "mimetype": "text/x-python",
   "name": "python",
   "nbconvert_exporter": "python",
   "pygments_lexer": "ipython2",
   "version": "2.7.12"
  }
 },
 "nbformat": 4,
 "nbformat_minor": 2
}
