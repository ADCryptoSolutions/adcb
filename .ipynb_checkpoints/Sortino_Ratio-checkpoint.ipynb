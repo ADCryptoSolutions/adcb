{
 "cells": [
  {
   "cell_type": "code",
   "execution_count": 1,
   "metadata": {
    "collapsed": true
   },
   "outputs": [],
   "source": [
    "from poloniex import Poloniex\n",
    "\n",
    "polo = Poloniex()"
   ]
  },
  {
   "cell_type": "code",
   "execution_count": 20,
   "metadata": {
    "collapsed": false
   },
   "outputs": [
    {
     "data": {
      "text/plain": [
       "69"
      ]
     },
     "execution_count": 20,
     "metadata": {},
     "output_type": "execute_result"
    }
   ],
   "source": [
    "currencies = polo.returnCurrencies()\n",
    "coins = []\n",
    "for name, thinks in currencies.items():\n",
    "    if thinks[\"delisted\"] == 0:\n",
    "        coins.append(name)\n",
    "len(coins)"
   ]
  },
  {
   "cell_type": "code",
   "execution_count": 21,
   "metadata": {
    "collapsed": false
   },
   "outputs": [],
   "source": [
    "class CoinData:\n",
    "    # funciones necesarias para el manejo del tiempo\n",
    "    from datetime import datetime, timedelta\n",
    "    from time import sleep\n",
    "    from tusp import string2ts\n",
    "    \n",
    "    \n",
    "    def __init__(self, coin_name, ml):\n",
    "        \n",
    "        self.name = coin_name\n",
    "        self.ml = ml\n",
    "        \n",
    "        len_data = 0\n",
    "        if ml:\n",
    "            len_data = 7000\n",
    "        else:\n",
    "            len_data = 40\n",
    "        \n",
    "        tf = datetime.now()\n",
    "        \n",
    "        "
   ]
  },
  {
   "cell_type": "code",
   "execution_count": null,
   "metadata": {
    "collapsed": true
   },
   "outputs": [],
   "source": []
  }
 ],
 "metadata": {
  "anaconda-cloud": {},
  "kernelspec": {
   "display_name": "Python [default]",
   "language": "python",
   "name": "python2"
  },
  "language_info": {
   "codemirror_mode": {
    "name": "ipython",
    "version": 2
   },
   "file_extension": ".py",
   "mimetype": "text/x-python",
   "name": "python",
   "nbconvert_exporter": "python",
   "pygments_lexer": "ipython2",
   "version": "2.7.12"
  }
 },
 "nbformat": 4,
 "nbformat_minor": 2
}
