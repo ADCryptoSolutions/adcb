{
 "cells": [
  {
   "cell_type": "code",
   "execution_count": 7,
   "metadata": {
    "collapsed": true
   },
   "outputs": [],
   "source": [
    "from liveBot import *\n",
    "%matplotlib inline\n"
   ]
  },
  {
   "cell_type": "code",
   "execution_count": 63,
   "metadata": {},
   "outputs": [],
   "source": [
    "class LiveBot:\n",
    "\n",
    "    # funciones necesarias para el manejo del tiempo\n",
    "    from datetime import datetime, timedelta\n",
    "    from time import sleep\n",
    "\n",
    "    def __init__(self, pair, period, strategy, weight=1):\n",
    "            \n",
    "        self.pair = pair\n",
    "        self.period = period\n",
    "        self.strategy = strategy\n",
    "        self.weight = weight\n",
    "        # en estrategía de ML, porcentaje de datos que se utilizaran \n",
    "        # en el conjunto de datos de entrenamiento\n",
    "        self.per = 0.95\n",
    "        # en esta lista deben guardarse los nombres de todas las estrategias\n",
    "        # de machine learning en strategy, para discriminar en base a estas\n",
    "        # la cantindad de datos a traer \n",
    "        self.ml_strategies = [\"ml_logreg\", \"ml_randfor\", \"ml_knn\"]\n",
    "        self.ml_strategy = False\n",
    "        self.have_coin = False\n",
    "        self.delta = timedelta(seconds = self.period)    \n",
    "        # máximo delay aceptado entre el tiempo actual y el del último dato\n",
    "        self.delta2 = timedelta(seconds = 200)\n",
    "        # desfase para en la mayoría de los casos no entrar al while\n",
    "        self.delta3 = timedelta(seconds = 90)\n",
    "        \n",
    "        print \"Creado live Bot con las siguientes características:\\n\"\n",
    "        print \"\\tpair: {0}, period: {1}, strategy: {2}, weight: {3}\\n\".format(self.pair, self.period,\n",
    "                                                                             self.strategy, self.weight)\n",
    "     \n",
    "    def prepareData(self):\n",
    "        \"\"\"Trae el dataframe y el objeto poloniex correspondiente\"\"\"\n",
    "        # definiendo end como la hora local actual\n",
    "        self.tf = datetime.now()\n",
    "        # convirtiendola a formato unix time (es equivalente a UTC)\n",
    "        self.end = string2ts(self.tf.strftime('%Y-%m-%d %H:%M:%S'))\n",
    "        #start = end \n",
    "\n",
    "        # definiendo el tiempo inicial de la consulta \n",
    "        self.to = self.tf-delta*self.len_data\n",
    "        self.start = string2ts(self.to.strftime('%Y-%m-%d %H:%M:%S'))\n",
    "\n",
    "        # trayendo y preparando datos\n",
    "        self.df, self.polo = prepareLiveData(pair=self.pair, start=self.start, end=self.end, period=int(self.period))\n",
    "    \n",
    "    def startBot(self):\n",
    "        \"\"\"Trae los datos (dataFrame y objeto polo) siempre y cuando el delay entre el tiempo actual\n",
    "        y el últimio dato en el dataFrame no sea mayor a 200 segundos (delta2).\n",
    "        \"\"\"\n",
    "        self.len_data = 0\n",
    "        # dinero inicial con el que empieza el paperBot\n",
    "        balance = []\n",
    "        # definiendo el tiempo inicial de la consulta \n",
    "\n",
    "        if self.strategy in self.ml_strategies:\n",
    "            # para estrategias de machine learning se tomarán los últimos\n",
    "            # 7000 datos\n",
    "            self.len_data = 7000\n",
    "            self.ml_strategy = True\n",
    "        else: \n",
    "            # para estrategias diferentes a las de ML se toman los últimos\n",
    "            # 50 datos\n",
    "            self.len_data = 40\n",
    "\n",
    "            \n",
    "def timeSincronizator(self):\n",
    "    \"\"\"Sincroniza el tiempo del bot\"\"\"\n",
    "    prepareData()\n",
    "    tt = self.df.index[-1]\n",
    "    de = self.tf - tt\n",
    "\n",
    "    # sincronizando tiempo del bot\n",
    "    if de > self.delta2:\n",
    "        # mientras la diferencia entre el la hora del último precio de cierre y\n",
    "        # y la hora actual sea mayor a 120s\n",
    "        while de > self.delta2:\n",
    "            prepareData()\n",
    "            tt = df.index[-1]\n",
    "            de = self.tf - tt\n",
    "            sys.stdout.write(\"\\rSincronizando bot (delay máximo aceptado 200s, actual %ss). Esperando cierre de las %s. Último dato de cierre a las %s\"%(str((de).seconds), str(tt+self.delta), str(tt)))\n",
    "            sys.stdout.flush()\n",
    "            sleep(5)"
   ]
  },
  {
   "cell_type": "code",
   "execution_count": 64,
   "metadata": {},
   "outputs": [
    {
     "ename": "NameError",
     "evalue": "global name 'timedelta' is not defined",
     "output_type": "error",
     "traceback": [
      "\u001b[1;31m---------------------------------------------------------------------------\u001b[0m",
      "\u001b[1;31mNameError\u001b[0m                                 Traceback (most recent call last)",
      "\u001b[1;32m<ipython-input-64-db137387f5b9>\u001b[0m in \u001b[0;36m<module>\u001b[1;34m()\u001b[0m\n\u001b[1;32m----> 1\u001b[1;33m \u001b[0mfirstBot\u001b[0m \u001b[1;33m=\u001b[0m \u001b[0mLiveBot\u001b[0m\u001b[1;33m(\u001b[0m\u001b[1;34m\"BTC_DGB\"\u001b[0m\u001b[1;33m,\u001b[0m \u001b[1;34m\"300\"\u001b[0m\u001b[1;33m,\u001b[0m \u001b[1;34m\"ml_knn\"\u001b[0m\u001b[1;33m)\u001b[0m\u001b[1;33m\u001b[0m\u001b[0m\n\u001b[0m\u001b[0;32m      2\u001b[0m \u001b[0mfirstBot\u001b[0m\u001b[1;33m.\u001b[0m\u001b[0mdelta\u001b[0m\u001b[1;33m\u001b[0m\u001b[0m\n",
      "\u001b[1;32m<ipython-input-63-5c74bdefcd64>\u001b[0m in \u001b[0;36m__init__\u001b[1;34m(self, pair, period, strategy, weight)\u001b[0m\n\u001b[0;32m     20\u001b[0m         \u001b[0mself\u001b[0m\u001b[1;33m.\u001b[0m\u001b[0mml_strategy\u001b[0m \u001b[1;33m=\u001b[0m \u001b[0mFalse\u001b[0m\u001b[1;33m\u001b[0m\u001b[0m\n\u001b[0;32m     21\u001b[0m         \u001b[0mself\u001b[0m\u001b[1;33m.\u001b[0m\u001b[0mhave_coin\u001b[0m \u001b[1;33m=\u001b[0m \u001b[0mFalse\u001b[0m\u001b[1;33m\u001b[0m\u001b[0m\n\u001b[1;32m---> 22\u001b[1;33m         \u001b[0mself\u001b[0m\u001b[1;33m.\u001b[0m\u001b[0mdelta\u001b[0m \u001b[1;33m=\u001b[0m \u001b[0mtimedelta\u001b[0m\u001b[1;33m(\u001b[0m\u001b[0mseconds\u001b[0m \u001b[1;33m=\u001b[0m \u001b[0mself\u001b[0m\u001b[1;33m.\u001b[0m\u001b[0mperiod\u001b[0m\u001b[1;33m)\u001b[0m\u001b[1;33m\u001b[0m\u001b[0m\n\u001b[0m\u001b[0;32m     23\u001b[0m         \u001b[1;31m# máximo delay aceptado entre el tiempo actual y el del último dato\u001b[0m\u001b[1;33m\u001b[0m\u001b[1;33m\u001b[0m\u001b[0m\n\u001b[0;32m     24\u001b[0m         \u001b[0mself\u001b[0m\u001b[1;33m.\u001b[0m\u001b[0mdelta2\u001b[0m \u001b[1;33m=\u001b[0m \u001b[0mtimedelta\u001b[0m\u001b[1;33m(\u001b[0m\u001b[0mseconds\u001b[0m \u001b[1;33m=\u001b[0m \u001b[1;36m200\u001b[0m\u001b[1;33m)\u001b[0m\u001b[1;33m\u001b[0m\u001b[0m\n",
      "\u001b[1;31mNameError\u001b[0m: global name 'timedelta' is not defined"
     ]
    }
   ],
   "source": [
    "firstBot = LiveBot(\"BTC_DGB\", \"300\", \"ml_knn\")\n",
    "firstBot.delta"
   ]
  },
  {
   "cell_type": "code",
   "execution_count": 37,
   "metadata": {
    "collapsed": true
   },
   "outputs": [],
   "source": [
    "class MultiLiveBot():\n",
    "    \n",
    "    def __init__(self):\n",
    "        \"\"\"Clase que administra el funcionamiento de varios bots a la vez\n",
    "        bots = lista de python con los bots a administrar \n",
    "        \"\"\"\n",
    "        self.bot_loader()\n",
    "        self.n_bots = len(self.bots)\n",
    "    \n",
    "    def bot_loader(self):\n",
    "        \"\"\"Carga los datos para crear los bots desde el archivo\n",
    "        multi_bot.inp, cuyo formato por línea es:\n",
    "        par, %, estrategia, periodo\n",
    "        \"\"\"\n",
    "        bots = []\n",
    "        \n",
    "        # abriendo archivo como lista\n",
    "        multi_file = open(\"multi_bot.inp\").readlines()\n",
    "        \n",
    "        for line in multi_file:\n",
    "            if line.strip(\"\\n\").strip(\" \") != \"\":\n",
    "                pair = line.split(\",\")[0].strip(\" \")\n",
    "                weight = line.split(\",\")[1].strip(\" \")\n",
    "                strategy = line.split(\",\")[2].strip(\" \")\n",
    "                period = line.split(\",\")[3].strip(\"\\n\").strip(\" \")\n",
    "                bots.append({\"pair\":pair, \"weight\":weight, \"strategy\":strategy, \"period\":period})\n",
    "        \n",
    "        self.bots = bots\n",
    "        \n",
    "        # Lista con todos los pares del MultiBot\n",
    "        pairs = []\n",
    "        for bot in bots:\n",
    "            pairs.append(bot[\"pair\"])\n",
    "        \n",
    "        self.pairs = pairs\n",
    "    \n",
    "    def fundTrackerConstructor(self):\n",
    "        \"\"\"Crea archivo fundTracker con su header.\"\"\"\n",
    "        \n",
    "        bots = \"\"\n",
    "        for pair in self.pairs:\n",
    "            bots += pair+\",\"\n",
    "            \n",
    "        with open(\"fundTracker.inp\",\"w\") as tracker_file:\n",
    "            tracker_file.write(\"Fecha,\"+bots.strip(\",\")+\"\\n\")\n",
    "        \n",
    "    def fundTracker(self, fecha, balances):\n",
    "        \"\"\"Escribe la distribución de los fondos administrados por\n",
    "        cada bot en el archivo fundTracker.inp, cuyo formato por linea es:\n",
    "        Fecha, balance par_1, balance par_2, ..., balance par_n\n",
    "        \n",
    "        :param fecha: Fecha de la linea de balance a escribir\n",
    "        :type fecha: string con formato YYYY-mm-dd hh:mm:ss\n",
    "        \n",
    "        :param balances: contiene el balance actual en cada par\n",
    "        :type balances: lista de python. Los fondos en la lista deben\n",
    "        seguir el orden de self.pairs\"\"\"\n",
    "        \n",
    "        # Se agrega linea al final del archivo con el último dato de los balances\n",
    "        with open(\"fundTracker.inp\",\"a\") as tracker_file:\n",
    "            tracker_file.write(fecha+\",\"+\",\".join(balances)+\"\\n\")\n",
    "            \n",
    "    \n",
    "    def fundTrackerReader(self):\n",
    "        \"\"\"Lee los fondos administrados por cada bot. Esto es,\n",
    "        lee el archivo fundTracker.inp\"\"\"\n",
    "        \n",
    "        # Se abre el archivo fundTracker.inp como lista \n",
    "        tracker_file = open(\"fundTracker.inp\").readlines()\n",
    "        \n",
    "        # Agregamos todo menos el header\n",
    "        tracker_file = tracker_file[1:]\n",
    "        \n",
    "        \n",
    "        return tracker_file\n",
    "            "
   ]
  },
  {
   "cell_type": "code",
   "execution_count": 38,
   "metadata": {},
   "outputs": [],
   "source": [
    "administrador = MultiLiveBot()\n",
    "administrador.fundTrackerConstructor()\n",
    "administrador.fundTracker(\"2018-01-29 17:09:00\",[\"0.14\",\"0.56\",\"0.76\"])"
   ]
  },
  {
   "cell_type": "code",
   "execution_count": 10,
   "metadata": {},
   "outputs": [
    {
     "data": {
      "text/plain": [
       "[{'pair': 'BTC_DGB', 'period': '300', 'strategy': 'ml_knn', 'weight': '0.4'},\n",
       " {'pair': 'BTC_BCH',\n",
       "  'period': '300',\n",
       "  'strategy': 'ml_logreg',\n",
       "  'weight': '0.4'},\n",
       " {'pair': 'BTC_ETH', 'period': '300', 'strategy': 'ml_knn', 'weight': '0.2'}]"
      ]
     },
     "execution_count": 10,
     "metadata": {},
     "output_type": "execute_result"
    }
   ],
   "source": [
    "administrador.bots"
   ]
  },
  {
   "cell_type": "code",
   "execution_count": 43,
   "metadata": {},
   "outputs": [
    {
     "name": "stdout",
     "output_type": "stream",
     "text": [
      "['BTC_DGB', 'BTC_BCH', 'BTC_ETH']\n",
      "['2018-01-29 17:09:00,0.14,0.56,0.76\\n']\n"
     ]
    }
   ],
   "source": [
    "a = open(\"fundTracker.inp\").readlines()\n",
    "print administrador.pairs\n",
    "print a[1:]"
   ]
  },
  {
   "cell_type": "code",
   "execution_count": 34,
   "metadata": {},
   "outputs": [
    {
     "data": {
      "text/plain": [
       "['BTC_DGB', 'BTC_BCH', 'BTC_ETH']"
      ]
     },
     "execution_count": 34,
     "metadata": {},
     "output_type": "execute_result"
    }
   ],
   "source": [
    "administrador.pairs"
   ]
  },
  {
   "cell_type": "code",
   "execution_count": null,
   "metadata": {
    "collapsed": true
   },
   "outputs": [],
   "source": []
  }
 ],
 "metadata": {
  "kernelspec": {
   "display_name": "Python 2",
   "language": "python",
   "name": "python2"
  },
  "language_info": {
   "codemirror_mode": {
    "name": "ipython",
    "version": 2
   },
   "file_extension": ".py",
   "mimetype": "text/x-python",
   "name": "python",
   "nbconvert_exporter": "python",
   "pygments_lexer": "ipython2",
   "version": "2.7.14"
  }
 },
 "nbformat": 4,
 "nbformat_minor": 2
}
