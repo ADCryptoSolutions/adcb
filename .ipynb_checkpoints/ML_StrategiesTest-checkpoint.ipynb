{
 "cells": [
  {
   "cell_type": "code",
   "execution_count": 3,
   "metadata": {
    "scrolled": false
   },
   "outputs": [
    {
     "name": "stdout",
     "output_type": "stream",
     "text": [
      "Running ml_logreg\n",
      "Running ml_knn\n",
      "Running ml_randfor\n",
      "Running ml_xgb\n",
      "Running ml_period\n"
     ]
    },
    {
     "ename": "AttributeError",
     "evalue": "'float' object has no attribute 'exp'",
     "output_type": "error",
     "traceback": [
      "\u001b[1;31m---------------------------------------------------------------------------\u001b[0m",
      "\u001b[1;31mAttributeError\u001b[0m                            Traceback (most recent call last)",
      "\u001b[1;32m<ipython-input-3-534b6d8b30d9>\u001b[0m in \u001b[0;36m<module>\u001b[1;34m()\u001b[0m\n\u001b[0;32m     45\u001b[0m     \u001b[1;32mprint\u001b[0m \u001b[1;34m\"Running\"\u001b[0m\u001b[1;33m,\u001b[0m\u001b[0mstrategy\u001b[0m\u001b[1;33m\u001b[0m\u001b[0m\n\u001b[0;32m     46\u001b[0m     \u001b[0mw\u001b[0m\u001b[1;33m,\u001b[0m \u001b[0mt\u001b[0m \u001b[1;33m=\u001b[0m \u001b[0mrun_strategy\u001b[0m\u001b[1;33m(\u001b[0m\u001b[0mstrategy\u001b[0m\u001b[1;33m,\u001b[0m \u001b[0mdf12\u001b[0m\u001b[1;33m,\u001b[0m \u001b[0mpair\u001b[0m\u001b[1;33m,\u001b[0m \u001b[0mTrue\u001b[0m\u001b[1;33m,\u001b[0m \u001b[0mper\u001b[0m\u001b[1;33m)\u001b[0m\u001b[1;33m\u001b[0m\u001b[0m\n\u001b[1;32m---> 47\u001b[1;33m     \u001b[0mrelativeReturn\u001b[0m\u001b[1;33m,\u001b[0m\u001b[0mv\u001b[0m \u001b[1;33m=\u001b[0m \u001b[0mprofit\u001b[0m\u001b[1;33m(\u001b[0m\u001b[0mw\u001b[0m\u001b[1;33m)\u001b[0m\u001b[1;33m\u001b[0m\u001b[0m\n\u001b[0m\u001b[0;32m     48\u001b[0m \u001b[1;33m\u001b[0m\u001b[0m\n\u001b[0;32m     49\u001b[0m     \u001b[0mlist_profit\u001b[0m\u001b[1;33m.\u001b[0m\u001b[0mappend\u001b[0m\u001b[1;33m(\u001b[0m\u001b[0mrelativeReturn\u001b[0m\u001b[1;33m)\u001b[0m\u001b[1;33m\u001b[0m\u001b[0m\n",
      "\u001b[1;32mC:\\Users\\Daniel.LAPTOP-OBVONK0N\\Documents\\GitHub\\adcb\\profit.pyc\u001b[0m in \u001b[0;36mprofit\u001b[1;34m(w)\u001b[0m\n\u001b[0;32m     10\u001b[0m   \u001b[0mlogReturn\u001b[0m \u001b[1;33m=\u001b[0m \u001b[0mnp\u001b[0m\u001b[1;33m.\u001b[0m\u001b[0mlog\u001b[0m\u001b[1;33m(\u001b[0m\u001b[0mw\u001b[0m\u001b[1;33m[\u001b[0m\u001b[1;34m\"price\"\u001b[0m\u001b[1;33m]\u001b[0m\u001b[1;33m)\u001b[0m\u001b[1;33m.\u001b[0m\u001b[0mdiff\u001b[0m\u001b[1;33m(\u001b[0m\u001b[1;33m)\u001b[0m\u001b[1;33m.\u001b[0m\u001b[0mfillna\u001b[0m\u001b[1;33m(\u001b[0m\u001b[1;36m0\u001b[0m\u001b[1;33m)\u001b[0m\u001b[1;33m\u001b[0m\u001b[0m\n\u001b[0;32m     11\u001b[0m   \u001b[0mvecLogReturn\u001b[0m \u001b[1;33m=\u001b[0m \u001b[1;33m(\u001b[0m\u001b[0mlogReturn\u001b[0m\u001b[1;33m*\u001b[0m\u001b[0mw\u001b[0m\u001b[1;33m[\u001b[0m\u001b[1;34m\"w\"\u001b[0m\u001b[1;33m]\u001b[0m\u001b[1;33m)\u001b[0m\u001b[1;33m.\u001b[0m\u001b[0mcumsum\u001b[0m\u001b[1;33m(\u001b[0m\u001b[1;33m)\u001b[0m\u001b[1;33m\u001b[0m\u001b[0m\n\u001b[1;32m---> 12\u001b[1;33m   \u001b[0mvecReturn\u001b[0m \u001b[1;33m=\u001b[0m \u001b[0mnp\u001b[0m\u001b[1;33m.\u001b[0m\u001b[0mexp\u001b[0m\u001b[1;33m(\u001b[0m\u001b[0mvecLogReturn\u001b[0m\u001b[1;33m)\u001b[0m\u001b[1;33m-\u001b[0m\u001b[1;36m1\u001b[0m\u001b[1;33m\u001b[0m\u001b[0m\n\u001b[0m\u001b[0;32m     13\u001b[0m   \u001b[1;31m#relativeReturn = np.exp(np.dot(w[\"w\"],logReturn)) - 1\u001b[0m\u001b[1;33m\u001b[0m\u001b[1;33m\u001b[0m\u001b[0m\n\u001b[0;32m     14\u001b[0m   \u001b[0mw\u001b[0m\u001b[1;33m[\u001b[0m\u001b[1;34m\"return\"\u001b[0m\u001b[1;33m]\u001b[0m \u001b[1;33m=\u001b[0m \u001b[0mvecReturn\u001b[0m\u001b[1;33m\u001b[0m\u001b[0m\n",
      "\u001b[1;31mAttributeError\u001b[0m: 'float' object has no attribute 'exp'"
     ]
    }
   ],
   "source": [
    "import pandas as pd\n",
    "import pylab as plt\n",
    "from tusp import string2ts, ts2string\n",
    "from bot import prepareData,marketReturn,ml_init_time,run_strategy, makeVolatility\n",
    "import numpy as np\n",
    "import json\n",
    "%matplotlib inline\n",
    "plt.rcParams['figure.figsize'] = 15, 8\n",
    "\n",
    "pair=\"BTC_ETH\"\n",
    "\n",
    "\n",
    "start=string2ts(\"2018-04-08 00:00:00\")\n",
    "end=string2ts(\"2018-04-18 00:00:00\")\n",
    "period=3600/4\n",
    "\n",
    "# trayendo y preparando datos\n",
    "df  = prepareData(pair=pair,\n",
    "                  start=start,\n",
    "                  end=end,\n",
    "                  period=period)\n",
    "\n",
    "per = 0.85\n",
    "cum_return1 = marketReturn(df[\"close\"]) \n",
    "\n",
    "marketRet = marketReturn(df[\"close\"])[-1]*100 \n",
    "\n",
    "# calculando volatilidad en función del tamaño de las velas\n",
    "df[\"volatility\"] = makeVolatility(df,c=1.7)\n",
    "\n",
    "from profit import profit,profit2\n",
    "\n",
    "start2 = ml_init_time(end,start,per)\n",
    "\n",
    "df12 = prepareData(pair=pair, start=start2, end=end, period=period)\n",
    "\n",
    "# \"ml_stacking\",\n",
    "# \"ml_randfor\", \"ml_xgb\",\n",
    "strategies = [\"ml_logreg\", \"ml_knn\", \"ml_period\"]\n",
    "\n",
    "list_profit = []\n",
    "list_v = []\n",
    "\n",
    "for strategy in strategies:\n",
    "    \n",
    "    print \"Running\",strategy\n",
    "    w, t = run_strategy(strategy, df12, pair, True, per)\n",
    "    relativeReturn,v = profit(w)\n",
    "    \n",
    "    list_profit.append(relativeReturn)\n",
    "    list_v.append(v)\n",
    "\n",
    "    \n",
    "print \"\\n\\t%s\\n\"%pair\n",
    "print 'Retorno del mercacdo: %s'%(marketRet)\n",
    "for i, strategy in enumerate(strategies):\n",
    "    print \"Retorno\", strategy, list_profit[i]*100\n",
    "\n",
    "plt.plot(df.index[:],cum_return1*100,'g', label='retorno mercado')\n",
    "for i, strategy in enumerate(strategies):\n",
    "    \n",
    "    plt.plot(df12.index[int(len(df12)*per):],list_v[i]*100,label='retorno '+strategy)\n",
    "\n",
    "plt.legend(loc='best')\n",
    "plt.grid()"
   ]
  },
  {
   "cell_type": "code",
   "execution_count": null,
   "metadata": {},
   "outputs": [],
   "source": [
    "print start2"
   ]
  },
  {
   "cell_type": "code",
   "execution_count": null,
   "metadata": {
    "collapsed": true
   },
   "outputs": [],
   "source": []
  }
 ],
 "metadata": {
  "kernelspec": {
   "display_name": "Python 2",
   "language": "python",
   "name": "python2"
  },
  "language_info": {
   "codemirror_mode": {
    "name": "ipython",
    "version": 2
   },
   "file_extension": ".py",
   "mimetype": "text/x-python",
   "name": "python",
   "nbconvert_exporter": "python",
   "pygments_lexer": "ipython2",
   "version": "2.7.14"
  }
 },
 "nbformat": 4,
 "nbformat_minor": 2
}
