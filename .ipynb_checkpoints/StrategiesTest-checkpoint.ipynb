{
 "cells": [
  {
   "cell_type": "code",
   "execution_count": 1,
   "metadata": {},
   "outputs": [
    {
     "name": "stdout",
     "output_type": "stream",
     "text": [
      "1496293200\n"
     ]
    },
    {
     "ename": "NameError",
     "evalue": "name 'SMAvsSMA' is not defined",
     "output_type": "error",
     "traceback": [
      "\u001b[1;31m---------------------------------------------------------------------------\u001b[0m",
      "\u001b[1;31mNameError\u001b[0m                                 Traceback (most recent call last)",
      "\u001b[1;32m<ipython-input-1-0e207594c2ac>\u001b[0m in \u001b[0;36m<module>\u001b[1;34m()\u001b[0m\n\u001b[0;32m     28\u001b[0m \u001b[1;33m\u001b[0m\u001b[0m\n\u001b[0;32m     29\u001b[0m \u001b[1;31m#EMA_5vsSMA_13\u001b[0m\u001b[1;33m\u001b[0m\u001b[1;33m\u001b[0m\u001b[0m\n\u001b[1;32m---> 30\u001b[1;33m \u001b[0mw\u001b[0m \u001b[1;33m=\u001b[0m \u001b[0mSMAvsSMA\u001b[0m\u001b[1;33m(\u001b[0m\u001b[0mdf\u001b[0m\u001b[1;33m[\u001b[0m\u001b[1;34m'close'\u001b[0m\u001b[1;33m]\u001b[0m\u001b[1;33m)\u001b[0m\u001b[1;33m\u001b[0m\u001b[0m\n\u001b[0m\u001b[0;32m     31\u001b[0m \u001b[0mrelativeReturn\u001b[0m\u001b[1;33m,\u001b[0m\u001b[0mv\u001b[0m \u001b[1;33m=\u001b[0m \u001b[0mprofit\u001b[0m\u001b[1;33m(\u001b[0m\u001b[0mw\u001b[0m\u001b[1;33m)\u001b[0m\u001b[1;33m\u001b[0m\u001b[0m\n\u001b[0;32m     32\u001b[0m \u001b[1;33m\u001b[0m\u001b[0m\n",
      "\u001b[1;31mNameError\u001b[0m: name 'SMAvsSMA' is not defined"
     ]
    }
   ],
   "source": [
    "import pandas as pd\n",
    "import pylab as plt\n",
    "from tusp import string2ts, ts2string\n",
    "from bot import prepareData,marketReturn,ml_init_time,run_strategy\n",
    "import numpy as np\n",
    "%matplotlib inline\n",
    "plt.rcParams['figure.figsize'] = 15, 8\n",
    "\n",
    "pair=\"USDT_BTC\"\n",
    "start=string2ts(\"2017-06-01 00:00:00\")\n",
    "end=string2ts(\"2017-09-03 23:59:59\")\n",
    "period=3600*24\n",
    "\n",
    "# trayendo y preparando datos\n",
    "df  = prepareData(pair=pair,\n",
    "                  start=start,\n",
    "                  end=end,\n",
    "                  period=period)\n",
    "per = 0.92\n",
    "cum_return1 = marketReturn(df[\"close\"])\n",
    "#cum_return1 = marketReturn(df_train)\n",
    "#cum_return2 = marketReturn(df_test) \n",
    "\n",
    "marketReturn = cum_return1[-1]*100 \n",
    "\n",
    "from strategy2 import EMAvsSMA,pricevsEMA, pricevsSMA, SMAvsSMA\n",
    "from profit import profit,profit2\n",
    "\n",
    "#EMA_5vsSMA_13\n",
    "w = SMAvsSMA(df['close'])\n",
    "relativeReturn,v = profit(w)\n",
    "\n",
    "#Precio vs SMA_20\n",
    "w3 = pricevsSMA(df['close'])\n",
    "relativeReturn3,v3 = profit(w3)\n",
    "\n",
    "#Precio vs EMA_5\n",
    "# 23.6\n",
    "w2 = pricevsEMA(df['close'])\n",
    "relativeReturn2,v2 = profit(w2)\n",
    "\n",
    "#ml_logreg \n",
    "# recalculando el tiempo inicial en virtud del entrenamiento del\n",
    "# algoritmo \n",
    "start = ml_init_time(end,start,per)\n",
    "# cargando y preparando datos\n",
    "df2 = prepareData(pair=pair, start=start, end=end, period=period)\n",
    "#w4, t = run_strategy(\"ml_logreg\",df2,pair,True,per)\n",
    "#relativeReturn4,v4 = profit(w4)\n",
    "w5, t = run_strategy(\"ml_randfor\",df2,pair,True,per)\n",
    "relativeReturn5,v5 = profit(w5)\n",
    "#w6, t = run_strategy(\"ml_knn\",df2,pair,True,per)\n",
    "#relativeReturn6,v6 = profit(w6)\n",
    "print 'Retorno del mercacdo: %s'%(marketReturn)\n",
    "print 'Retorno de EMA vs SMA: %s'%(relativeReturn*100)\n",
    "print 'Retorno de Precio vs SMA20: %s'%(relativeReturn3*100)\n",
    "print 'Retorno de Precio vs EMA5: %s'%(relativeReturn2*100)\n",
    "#print 'Retorno de ml_logreg: %s'%(relativeReturn4*100)\n",
    "print 'Retorno de ml_randfor: %s'%(relativeReturn5*100)\n",
    "#print 'Retorno de ml_knn: %s'%(relativeReturn6*100)"
   ]
  },
  {
   "cell_type": "code",
   "execution_count": null,
   "metadata": {},
   "outputs": [],
   "source": [
    "plt.plot(df.index[:],cum_return1*100,'g', label='retorno mercado')\n",
    "plt.plot(df.index[:],v*100,'y',label='retorno EMAvsSMA')\n",
    "plt.plot(df.index[:],v3*100,'b',label='retorno SMA_20')\n",
    "plt.plot(df.index[:],v2*100,'r',label='retorno EMA_5')\n",
    "#plt.plot(df2.index[int(len(df2)*per):],v4*100,label='retorno ML_logreg')\n",
    "plt.plot(df2.index[int(len(df2)*per):],v5*100,label='retorno ML_randfor')\n",
    "#plt.plot(df2.index[int(len(df2)*per):],v6*100,label='retorno ML_knn')\n",
    "\n",
    "plt.legend(loc='best')\n",
    "plt.grid()\n",
    "\n",
    "print len(df2.index[int(len(df2)*per):]), len(v4), len(v2), len(df.index)"
   ]
  },
  {
   "cell_type": "code",
   "execution_count": null,
   "metadata": {},
   "outputs": [],
   "source": [
    "\n"
   ]
  },
  {
   "cell_type": "code",
   "execution_count": null,
   "metadata": {
    "collapsed": true
   },
   "outputs": [],
   "source": []
  }
 ],
 "metadata": {
  "anaconda-cloud": {},
  "kernelspec": {
   "display_name": "Python 2",
   "language": "python",
   "name": "python2"
  },
  "language_info": {
   "codemirror_mode": {
    "name": "ipython",
    "version": 2
   },
   "file_extension": ".py",
   "mimetype": "text/x-python",
   "name": "python",
   "nbconvert_exporter": "python",
   "pygments_lexer": "ipython2",
   "version": "2.7.14"
  }
 },
 "nbformat": 4,
 "nbformat_minor": 2
}
