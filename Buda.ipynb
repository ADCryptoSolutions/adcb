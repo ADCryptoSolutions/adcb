{
 "cells": [
  {
   "cell_type": "code",
   "execution_count": 1,
   "metadata": {
    "collapsed": true
   },
   "outputs": [],
   "source": [
    "# importar módulo del cliente\n",
    "import surbtc\n",
    "\n",
    "# crear cliente\n",
    "Client = surbtc.Client()"
   ]
  },
  {
   "cell_type": "code",
   "execution_count": 2,
   "metadata": {},
   "outputs": [
    {
     "name": "stdout",
     "output_type": "stream",
     "text": [
      "{u'max_bid': [u'320512.0', u'CLP'], u'market_id': u'ETH-CLP', u'last_price': [u'332000.0', u'CLP'], u'min_ask': [u'331859.55', u'CLP'], u'volume': [u'12.658348841', u'ETH'], u'price_variation_7d': u'-0.123', u'price_variation_24h': u'0.016'}\n"
     ]
    }
   ],
   "source": [
    "print(Client.getTicker('ETH-CLP'))"
   ]
  },
  {
   "cell_type": "code",
   "execution_count": 4,
   "metadata": {},
   "outputs": [
    {
     "name": "stdout",
     "output_type": "stream",
     "text": [
      "{u'max_bid': [u'320512.0', u'CLP'], u'market_id': u'ETH-CLP', u'last_price': [u'332000.0', u'CLP'], u'min_ask': [u'331859.55', u'CLP'], u'volume': [u'12.658348841', u'ETH'], u'price_variation_7d': u'-0.123', u'price_variation_24h': u'0.016'}\n"
     ]
    }
   ],
   "source": [
    "Market = Client.getMarket('ETH-CLP')\n",
    "print(Market.getTicker())"
   ]
  },
  {
   "cell_type": "code",
   "execution_count": 5,
   "metadata": {},
   "outputs": [
    {
     "name": "stdout",
     "output_type": "stream",
     "text": [
      "Help on instance of Client in module surbtc.Client:\n",
      "\n",
      "class Client\n",
      " |  Methods defined here:\n",
      " |  \n",
      " |  __init__(self, api_key=None, api_secret=None, test=False)\n",
      " |  \n",
      " |  cancelOrder(self, id)\n",
      " |  \n",
      " |  consume(self, url, data=None, method=None)\n",
      " |  \n",
      " |  createAddress(self, currency)\n",
      " |  \n",
      " |  createOrder(self, market, type, amount, limit=None, price_type='limit')\n",
      " |  \n",
      " |  createUrl(self, recurso, params=None)\n",
      " |  \n",
      " |  deposit(self, currency, amount)\n",
      " |  \n",
      " |  getAddress(self, currency, id)\n",
      " |  \n",
      " |  getAddresses(self, currency)\n",
      " |  \n",
      " |  getBalance(self, currency=None)\n",
      " |  \n",
      " |  getBook(self, market)\n",
      " |  \n",
      " |  getCurrency(self, currency)\n",
      " |  \n",
      " |  getHistory(self, currency, type)\n",
      " |  \n",
      " |  getMarket(self, market)\n",
      " |  \n",
      " |  getMarkets(self)\n",
      " |  \n",
      " |  getOrder(self, id)\n",
      " |  \n",
      " |  getOrders(self, market, state=None, minimun_exchanged=None, page=1, per=None)\n",
      " |  \n",
      " |  getTicker(self, market='')\n",
      " |  \n",
      " |  getTrades(self, market, timestamp=None)\n",
      " |  \n",
      " |  withdrawal(self, currency, target_address, amount=None)\n",
      " |  \n",
      " |  ----------------------------------------------------------------------\n",
      " |  Data and other attributes defined here:\n",
      " |  \n",
      " |  api_key = None\n",
      " |  \n",
      " |  api_secret = None\n",
      " |  \n",
      " |  default_per = 300\n",
      " |  \n",
      " |  response = None\n",
      "\n"
     ]
    }
   ],
   "source": [
    "help(Client)"
   ]
  },
  {
   "cell_type": "code",
   "execution_count": null,
   "metadata": {
    "collapsed": true
   },
   "outputs": [],
   "source": []
  }
 ],
 "metadata": {
  "kernelspec": {
   "display_name": "Python 2",
   "language": "python",
   "name": "python2"
  },
  "language_info": {
   "codemirror_mode": {
    "name": "ipython",
    "version": 2
   },
   "file_extension": ".py",
   "mimetype": "text/x-python",
   "name": "python",
   "nbconvert_exporter": "python",
   "pygments_lexer": "ipython2",
   "version": "2.7.14"
  }
 },
 "nbformat": 4,
 "nbformat_minor": 2
}
