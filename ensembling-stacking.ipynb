{
 "cells": [
  {
   "cell_type": "code",
   "execution_count": 1,
   "metadata": {},
   "outputs": [
    {
     "name": "stderr",
     "output_type": "stream",
     "text": [
      "C:\\Users\\Daniel.LAPTOP-OBVONK0N\\Anaconda2\\lib\\site-packages\\pandas\\core\\indexing.py:179: SettingWithCopyWarning: \n",
      "A value is trying to be set on a copy of a slice from a DataFrame\n",
      "\n",
      "See the caveats in the documentation: http://pandas.pydata.org/pandas-docs/stable/indexing.html#indexing-view-versus-copy\n",
      "  self._setitem_with_indexer(indexer, value)\n"
     ]
    }
   ],
   "source": [
    "import pandas as pd\n",
    "import pylab as plt\n",
    "from tusp import string2ts, ts2string\n",
    "from bot import prepareData,marketReturn\n",
    "import numpy as np\n",
    "import seaborn as sns\n",
    "%matplotlib inline\n",
    "plt.rcParams['figure.figsize'] = 15, 8\n",
    "\n",
    "# trayendo y preparando datos\n",
    "df  = prepareData(pair=\"BTC_XRP\",\n",
    "                  start=string2ts(\"2017-07-01 00:00:00\"),\n",
    "                  end=string2ts(\"2018-03-01 00:00:00\"),\n",
    "                  period=3600*4)\n",
    "per = 0.85\n",
    "\n",
    "from stockstats import StockDataFrame\n",
    "\n",
    "stock = StockDataFrame.retype(df.copy())\n",
    "stock[\"rsi_14\"];\n",
    "stock[\"macd\"];\n",
    "stock[\"macds\"];\n",
    "stock[\"cci\"];\n",
    "stock[\"wr_14\"];"
   ]
  },
  {
   "cell_type": "code",
   "execution_count": 2,
   "metadata": {},
   "outputs": [
    {
     "name": "stdout",
     "output_type": "stream",
     "text": [
      "Retorno de estrategia ideal: 42405.599523\n"
     ]
    },
    {
     "data": {
      "text/html": [
       "<div>\n",
       "<style>\n",
       "    .dataframe thead tr:only-child th {\n",
       "        text-align: right;\n",
       "    }\n",
       "\n",
       "    .dataframe thead th {\n",
       "        text-align: left;\n",
       "    }\n",
       "\n",
       "    .dataframe tbody tr th {\n",
       "        vertical-align: top;\n",
       "    }\n",
       "</style>\n",
       "<table border=\"1\" class=\"dataframe\">\n",
       "  <thead>\n",
       "    <tr style=\"text-align: right;\">\n",
       "      <th></th>\n",
       "      <th>cci</th>\n",
       "      <th>close</th>\n",
       "      <th>dma</th>\n",
       "      <th>ideal_w</th>\n",
       "      <th>kdjd</th>\n",
       "      <th>kdjj</th>\n",
       "      <th>kdjk</th>\n",
       "      <th>macd</th>\n",
       "      <th>macds</th>\n",
       "      <th>price</th>\n",
       "      <th>pricew</th>\n",
       "      <th>rsi</th>\n",
       "      <th>trix</th>\n",
       "      <th>volatility</th>\n",
       "      <th>volumen</th>\n",
       "      <th>vr</th>\n",
       "      <th>wr</th>\n",
       "    </tr>\n",
       "    <tr>\n",
       "      <th>date</th>\n",
       "      <th></th>\n",
       "      <th></th>\n",
       "      <th></th>\n",
       "      <th></th>\n",
       "      <th></th>\n",
       "      <th></th>\n",
       "      <th></th>\n",
       "      <th></th>\n",
       "      <th></th>\n",
       "      <th></th>\n",
       "      <th></th>\n",
       "      <th></th>\n",
       "      <th></th>\n",
       "      <th></th>\n",
       "      <th></th>\n",
       "      <th></th>\n",
       "      <th></th>\n",
       "    </tr>\n",
       "  </thead>\n",
       "  <tbody>\n",
       "    <tr>\n",
       "      <th>2018-01-23 03:00:00</th>\n",
       "      <td>54.807124</td>\n",
       "      <td>0.000120</td>\n",
       "      <td>-0.000004</td>\n",
       "      <td>1.0</td>\n",
       "      <td>54.630383</td>\n",
       "      <td>80.512011</td>\n",
       "      <td>63.257593</td>\n",
       "      <td>-0.000002</td>\n",
       "      <td>-0.000002</td>\n",
       "      <td>0.000120</td>\n",
       "      <td>0.000120</td>\n",
       "      <td>47.554950</td>\n",
       "      <td>-0.312800</td>\n",
       "      <td>False</td>\n",
       "      <td>558.331852</td>\n",
       "      <td>35.501154</td>\n",
       "      <td>34.161491</td>\n",
       "    </tr>\n",
       "    <tr>\n",
       "      <th>2018-01-23 07:00:00</th>\n",
       "      <td>176.899243</td>\n",
       "      <td>0.000125</td>\n",
       "      <td>-0.000003</td>\n",
       "      <td>1.0</td>\n",
       "      <td>59.638420</td>\n",
       "      <td>89.686640</td>\n",
       "      <td>69.654493</td>\n",
       "      <td>-0.000001</td>\n",
       "      <td>-0.000002</td>\n",
       "      <td>0.000125</td>\n",
       "      <td>0.000124</td>\n",
       "      <td>54.137682</td>\n",
       "      <td>-0.273059</td>\n",
       "      <td>True</td>\n",
       "      <td>1068.716270</td>\n",
       "      <td>45.374908</td>\n",
       "      <td>17.551705</td>\n",
       "    </tr>\n",
       "    <tr>\n",
       "      <th>2018-01-23 11:00:00</th>\n",
       "      <td>130.454900</td>\n",
       "      <td>0.000122</td>\n",
       "      <td>-0.000002</td>\n",
       "      <td>1.0</td>\n",
       "      <td>62.429823</td>\n",
       "      <td>79.178240</td>\n",
       "      <td>68.012629</td>\n",
       "      <td>-0.000001</td>\n",
       "      <td>-0.000002</td>\n",
       "      <td>0.000122</td>\n",
       "      <td>0.000124</td>\n",
       "      <td>50.023513</td>\n",
       "      <td>-0.233881</td>\n",
       "      <td>False</td>\n",
       "      <td>720.570287</td>\n",
       "      <td>38.468249</td>\n",
       "      <td>35.271101</td>\n",
       "    </tr>\n",
       "  </tbody>\n",
       "</table>\n",
       "</div>"
      ],
      "text/plain": [
       "                            cci     close       dma  ideal_w       kdjd  \\\n",
       "date                                                                      \n",
       "2018-01-23 03:00:00   54.807124  0.000120 -0.000004      1.0  54.630383   \n",
       "2018-01-23 07:00:00  176.899243  0.000125 -0.000003      1.0  59.638420   \n",
       "2018-01-23 11:00:00  130.454900  0.000122 -0.000002      1.0  62.429823   \n",
       "\n",
       "                          kdjj       kdjk      macd     macds     price  \\\n",
       "date                                                                      \n",
       "2018-01-23 03:00:00  80.512011  63.257593 -0.000002 -0.000002  0.000120   \n",
       "2018-01-23 07:00:00  89.686640  69.654493 -0.000001 -0.000002  0.000125   \n",
       "2018-01-23 11:00:00  79.178240  68.012629 -0.000001 -0.000002  0.000122   \n",
       "\n",
       "                       pricew        rsi      trix  volatility      volumen  \\\n",
       "date                                                                          \n",
       "2018-01-23 03:00:00  0.000120  47.554950 -0.312800       False   558.331852   \n",
       "2018-01-23 07:00:00  0.000124  54.137682 -0.273059        True  1068.716270   \n",
       "2018-01-23 11:00:00  0.000124  50.023513 -0.233881       False   720.570287   \n",
       "\n",
       "                            vr         wr  \n",
       "date                                       \n",
       "2018-01-23 03:00:00  35.501154  34.161491  \n",
       "2018-01-23 07:00:00  45.374908  17.551705  \n",
       "2018-01-23 11:00:00  38.468249  35.271101  "
      ]
     },
     "execution_count": 2,
     "metadata": {},
     "output_type": "execute_result"
    }
   ],
   "source": [
    "from mldata import ml_data\n",
    "from orders import orders\n",
    "from profit import profit\n",
    "\n",
    "df[\"ml_data\"] = ml_data(df[\"close\"],la=10, pl=False)\n",
    "\n",
    "w4 = pd.DataFrame(data={\"w\":df[\"ml_data\"].values,\"price\":df[\"close\"]})\n",
    "w4[\"orders\"] = orders(w4[\"w\"])\n",
    "w4[\"w\"] = w4[\"w\"].shift(1)\n",
    "relReturn, vecReturn4 = profit(w4)\n",
    "print \"Retorno de estrategia ideal: %s\"%(relReturn*100)\n",
    "\n",
    "data = pd.DataFrame(data={\"price\":df[\"close\"],\"pricew\":df[\"weightedAverage\"],\"volumen\":df[\"volume\"],\n",
    "                          \"rsi\":stock[\"rsi_14\"],\"macd\":stock[\"macd\"],\"macds\":stock[\"macds\"],\"cci\":stock[\"cci\"],\n",
    "                          \"wr\":stock[\"wr_14\"],\"ideal_w\":w4[\"w\"],\"volatility\": df[\"volatility\"],\"close\":df[\"close\"],\"kdjk\":stock[\"kdjk\"],\n",
    "                          \"kdjd\":stock[\"kdjd\"],\"kdjj\":stock[\"kdjj\"], \"dma\":stock[\"dma\"], \"trix\":stock[\"trix\"],\n",
    "                          \"vr\":stock[\"vr\"]})\n",
    "\n",
    "data.replace([np.inf, -np.inf], np.nan, inplace=True)\n",
    "data.fillna(method='bfill', inplace=True)\n",
    "\n",
    "train = data[1:int(len(data)*per)]\n",
    "test = data[int(len(data)*per):]\n",
    "\n",
    "train.tail(3)"
   ]
  },
  {
   "cell_type": "code",
   "execution_count": 3,
   "metadata": {},
   "outputs": [],
   "source": [
    "from sklearn.linear_model import LogisticRegression\n",
    "from sklearn.ensemble import RandomForestClassifier\n",
    "from xgboost import XGBClassifier\n",
    "from sklearn.metrics import accuracy_score\n",
    "from sklearn.tree import DecisionTreeClassifier\n",
    "from sklearn.neural_network import BernoulliRBM\n",
    "from sklearn.neural_network import MLPClassifier\n",
    "from sklearn.svm import SVC\n",
    "from sklearn.pipeline import Pipeline\n",
    "from sklearn.model_selection import cross_val_score\n",
    "from sklearn.model_selection import GridSearchCV\n",
    "\n",
    "features = [\"price\",\"rsi\",\"cci\",\"macds\",\"macd\",\"wr\",\"trix\",\"vr\"]\n",
    "\n",
    "X, y = data[features], data[\"ideal_w\"]\n",
    "X_train, y_train, X_test, y_test = train[features], train[\"ideal_w\"], test[features], test[\"ideal_w\"]"
   ]
  },
  {
   "cell_type": "markdown",
   "metadata": {},
   "source": [
    "## Usando paquete Mlxtend"
   ]
  },
  {
   "cell_type": "code",
   "execution_count": 4,
   "metadata": {},
   "outputs": [
    {
     "name": "stdout",
     "output_type": "stream",
     "text": [
      "Random Forest 0.86301369863\n",
      "Decision Tree 0.853881278539\n",
      "XGB 0.853881278539\n",
      "SVC 1.0\n",
      "Ensemble 0.945205479452\n"
     ]
    }
   ],
   "source": [
    "from mlxtend.classifier import EnsembleVoteClassifier\n",
    "\n",
    "\n",
    "clf1 = RandomForestClassifier(n_estimators=45, max_depth=4, min_samples_split=65)\n",
    "clf2 = DecisionTreeClassifier(max_depth=3, min_samples_split=250, min_samples_leaf=145)\n",
    "clf3 = XGBClassifier(n_estimators=9, learning_rate=0.75, gamma=12)\n",
    "clf4 = SVC(probability=True)\n",
    "eclf = EnsembleVoteClassifier(clfs=[clf1, clf2, clf3, clf4], weights=[1, 1, 1, 1], voting='soft')\n",
    "\n",
    "predictions = []\n",
    "\n",
    "for clf, lab in zip([clf1, clf2, clf3, clf4, eclf],\n",
    "              ['Random Forest', 'Decision Tree', 'XGB', 'SVC', 'Ensemble']):\n",
    "    clf.fit(X_train, y_train)\n",
    "    pre = clf.predict(test[features])\n",
    "    predictions.append(pre)\n",
    "    print lab, accuracy_score(test[\"ideal_w\"], pre)\n"
   ]
  },
  {
   "cell_type": "code",
   "execution_count": 5,
   "metadata": {},
   "outputs": [
    {
     "name": "stdout",
     "output_type": "stream",
     "text": [
      "Retorno de stacking_ensembling: 22.0820696409\n"
     ]
    },
    {
     "data": {
      "text/plain": [
       "[<matplotlib.lines.Line2D at 0x11bcd0f0>]"
      ]
     },
     "execution_count": 5,
     "metadata": {},
     "output_type": "execute_result"
    },
    {
     "data": {
      "image/png": "[encoded data removed]",
      "text/plain": [
       "<matplotlib.figure.Figure at 0x8ca7198>"
      ]
     },
     "metadata": {},
     "output_type": "display_data"
    }
   ],
   "source": [
    "w10 = pd.DataFrame(data={\"w\":predictions[-1],\"price\":test[\"close\"]})\n",
    "w10[\"orders\"] = orders(w10[\"w\"])\n",
    "w10[\"w\"] = w10[\"w\"].shift(1)\n",
    "relativeReturn10, v10 = profit(w10)\n",
    "\n",
    "print 'Retorno de stacking_ensembling: %s'%(relativeReturn10*100)\n",
    "\n",
    "plt.plot(df.index[int(len(data)*per):],v10*100,label='retorno stacking')"
   ]
  },
  {
   "cell_type": "markdown",
   "metadata": {
    "collapsed": true
   },
   "source": [
    "## Usando paquete vecstack"
   ]
  },
  {
   "cell_type": "code",
   "execution_count": 6,
   "metadata": {
    "collapsed": true
   },
   "outputs": [],
   "source": [
    "from vecstack import stacking\n",
    "\n",
    "models = [clf1, clf2, clf4]"
   ]
  },
  {
   "cell_type": "markdown",
   "metadata": {},
   "source": [
    "### Creando stacking"
   ]
  },
  {
   "cell_type": "code",
   "execution_count": 7,
   "metadata": {},
   "outputs": [
    {
     "name": "stdout",
     "output_type": "stream",
     "text": [
      "task:         [classification]\n",
      "n_classes:    [2]\n",
      "metric:       [accuracy_score]\n",
      "mode:         [oof_pred_bag]\n",
      "n_models:     [3]\n",
      "\n",
      "model  0:     [RandomForestClassifier]\n",
      "    fold  0:  [0.77419355]\n",
      "    fold  1:  [0.81935484]\n",
      "    fold  2:  [0.75080906]\n",
      "    fold  3:  [0.79288026]\n",
      "    ----\n",
      "    MEAN:     [0.78430943] + [0.02513089]\n",
      "    FULL:     [0.78432956]\n",
      "\n",
      "model  1:     [DecisionTreeClassifier]\n",
      "    fold  0:  [0.78064516]\n",
      "    fold  1:  [0.80000000]\n",
      "    fold  2:  [0.78640777]\n",
      "    fold  3:  [0.80582524]\n",
      "    ----\n",
      "    MEAN:     [0.79321954] + [0.01011674]\n",
      "    FULL:     [0.79321486]\n",
      "\n",
      "model  2:     [SVC]\n",
      "    fold  0:  [0.60322581]\n",
      "    fold  1:  [0.60000000]\n",
      "    fold  2:  [0.60841424]\n",
      "    fold  3:  [0.60841424]\n",
      "    ----\n",
      "    MEAN:     [0.60501357] + [0.00358682]\n",
      "    FULL:     [0.60500808]\n",
      "\n"
     ]
    }
   ],
   "source": [
    "S_train, S_test = stacking(models,                     # list of models\n",
    "                           X_train, y_train, X_test,   # data\n",
    "                           regression=False,           # classification task (if you need \n",
    "                                                       #     regression - set to True)\n",
    "                           mode='oof_pred_bag',        # mode: oof for train set, predict test \n",
    "                                                       #     set in each fold and vote\n",
    "                           needs_proba=False,          # predict class labels (if you need \n",
    "                                                       #     probabilities - set to True) \n",
    "                           save_dir=None,              # do not save result and log (to save \n",
    "                                                       #     in current dir - set to '.')\n",
    "                           metric=accuracy_score,      # metric: callable\n",
    "                           n_folds=4,                  # number of folds\n",
    "                           stratified=True,            # stratified split for folds\n",
    "                           shuffle=True,               # shuffle the data\n",
    "                           random_state=0,             # ensure reproducibility\n",
    "                           verbose=2)                  # print all info"
   ]
  },
  {
   "cell_type": "markdown",
   "metadata": {},
   "source": [
    "### Aplicando modelo de 2 nivel"
   ]
  },
  {
   "cell_type": "code",
   "execution_count": 8,
   "metadata": {},
   "outputs": [
    {
     "name": "stdout",
     "output_type": "stream",
     "text": [
      "Final prediction score: [0.84931507]\n"
     ]
    }
   ],
   "source": [
    "  # Fit 2nd level model\n",
    "model = clf3.fit(S_train, y_train)\n",
    "\n",
    "# Predict\n",
    "y_pred = model.predict(S_test)\n",
    "\n",
    "# Final prediction score\n",
    "print('Final prediction score: [%.8f]' % accuracy_score(y_test, y_pred))"
   ]
  },
  {
   "cell_type": "code",
   "execution_count": null,
   "metadata": {
    "collapsed": true
   },
   "outputs": [],
   "source": []
  }
 ],
 "metadata": {
  "kernelspec": {
   "display_name": "Python 2",
   "language": "python",
   "name": "python2"
  },
  "language_info": {
   "codemirror_mode": {
    "name": "ipython",
    "version": 2
   },
   "file_extension": ".py",
   "mimetype": "text/x-python",
   "name": "python",
   "nbconvert_exporter": "python",
   "pygments_lexer": "ipython2",
   "version": "2.7.14"
  }
 },
 "nbformat": 4,
 "nbformat_minor": 2
}
