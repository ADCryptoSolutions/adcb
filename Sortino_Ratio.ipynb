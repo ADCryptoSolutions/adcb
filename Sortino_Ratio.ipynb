{
 "cells": [
  {
   "cell_type": "code",
   "execution_count": 1,
   "metadata": {
    "collapsed": true
   },
   "outputs": [],
   "source": [
    "from poloniex import Poloniex\n",
    "\n",
    "polo = Poloniex()"
   ]
  },
  {
   "cell_type": "code",
   "execution_count": 20,
   "metadata": {
    "collapsed": false
   },
   "outputs": [
    {
     "data": {
      "text/plain": [
       "69"
      ]
     },
     "execution_count": 20,
     "metadata": {},
     "output_type": "execute_result"
    }
   ],
   "source": [
    "currencies = polo.returnCurrencies()\n",
    "coins = []\n",
    "for name, thinks in currencies.items():\n",
    "    if thinks[\"delisted\"] == 0:\n",
    "        coins.append(name)\n",
    "len(coins)"
   ]
  },
  {
   "cell_type": "code",
   "execution_count": 28,
   "metadata": {
    "collapsed": false
   },
   "outputs": [],
   "source": [
    "# funciones necesarias para el manejo del tiempo\n",
    "from datetime import datetime, timedelta\n",
    "from time import sleep\n",
    "from tusp import string2ts\n",
    "from bot import prepareData\n",
    "\n",
    "\n",
    "class PairData:\n",
    "    \n",
    "    def __init__(self, pair, period):\n",
    "        \n",
    "        self.pair = pair\n",
    "        self.period = period\n",
    "\n",
    "        \n",
    "        len_data = 500\n",
    "        \n",
    "        tf = datetime.now()\n",
    "        self.tf = tf\n",
    "        end = string2ts(tf.strftime('%Y-%m-%d %H:%M:%S'))\n",
    "        self.end = end\n",
    "        delta = timedelta(seconds = period)\n",
    "        self.delta = delta\n",
    "        to = tf-delta*len_data\n",
    "        self.to = to\n",
    "        start = string2ts(to.strftime('%Y-%m-%d %H:%M:%S'))\n",
    "        self.start = start\n",
    "        \n",
    "        df = prepareData(pair=pair, start=start, end=end, period=int(period))\n",
    "        \n",
    "        self.df = df\n",
    "    \n",
    "#    def sortino(self):\n",
    "\n",
    "\n",
    "DGB = PairData(\"BTC_DGB\", 3600*4)"
   ]
  },
  {
   "cell_type": "code",
   "execution_count": 35,
   "metadata": {
    "collapsed": false
   },
   "outputs": [
    {
     "name": "stdout",
     "output_type": "stream",
     "text": [
      "                        close      high       low      open      quoteVolume  \\\n",
      "date                                                                           \n",
      "2017-10-07 20:00:00  0.000003  0.000003  0.000003  0.000003   12816943.64048   \n",
      "2017-10-08 00:00:00  0.000003  0.000003  0.000003  0.000003  11908337.929568   \n",
      "2017-10-08 04:00:00  0.000003  0.000003  0.000003  0.000003  9643637.8590486   \n",
      "2017-10-08 08:00:00  0.000003  0.000003  0.000003  0.000003  15985025.377268   \n",
      "2017-10-08 12:00:00  0.000003  0.000003  0.000003  0.000003  38519566.889044   \n",
      "\n",
      "                         volume  weightedAverage volatility  \n",
      "date                                                         \n",
      "2017-10-07 20:00:00   38.505898         0.000003      False  \n",
      "2017-10-08 00:00:00   35.898553         0.000003      False  \n",
      "2017-10-08 04:00:00   28.771210         0.000003      False  \n",
      "2017-10-08 08:00:00   47.086722         0.000003       True  \n",
      "2017-10-08 12:00:00  109.114193         0.000003       True  \n"
     ]
    }
   ],
   "source": []
  },
  {
   "cell_type": "code",
   "execution_count": null,
   "metadata": {
    "collapsed": false
   },
   "outputs": [],
   "source": []
  }
 ],
 "metadata": {
  "anaconda-cloud": {},
  "kernelspec": {
   "display_name": "Python [default]",
   "language": "python",
   "name": "python2"
  },
  "language_info": {
   "codemirror_mode": {
    "name": "ipython",
    "version": 2
   },
   "file_extension": ".py",
   "mimetype": "text/x-python",
   "name": "python",
   "nbconvert_exporter": "python",
   "pygments_lexer": "ipython2",
   "version": "2.7.12"
  }
 },
 "nbformat": 4,
 "nbformat_minor": 2
}
