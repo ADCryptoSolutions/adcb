{
 "cells": [
  {
   "cell_type": "markdown",
   "metadata": {},
   "source": [
    "# Trayendo datos de poloniex y convirtiendolos en dataframe"
   ]
  },
  {
   "cell_type": "code",
   "execution_count": 81,
   "metadata": {},
   "outputs": [
    {
     "name": "stdout",
     "output_type": "stream",
     "text": [
      "Retorno final del mercado: 1282.14643932\n"
     ]
    },
    {
     "data": {
      "text/html": [
       "<div>\n",
       "<style>\n",
       "    .dataframe thead tr:only-child th {\n",
       "        text-align: right;\n",
       "    }\n",
       "\n",
       "    .dataframe thead th {\n",
       "        text-align: left;\n",
       "    }\n",
       "\n",
       "    .dataframe tbody tr th {\n",
       "        vertical-align: top;\n",
       "    }\n",
       "</style>\n",
       "<table border=\"1\" class=\"dataframe\">\n",
       "  <thead>\n",
       "    <tr style=\"text-align: right;\">\n",
       "      <th></th>\n",
       "      <th>close</th>\n",
       "      <th>high</th>\n",
       "      <th>low</th>\n",
       "      <th>open</th>\n",
       "      <th>quoteVolume</th>\n",
       "      <th>volume</th>\n",
       "      <th>weightedAverage</th>\n",
       "    </tr>\n",
       "    <tr>\n",
       "      <th>date</th>\n",
       "      <th></th>\n",
       "      <th></th>\n",
       "      <th></th>\n",
       "      <th></th>\n",
       "      <th></th>\n",
       "      <th></th>\n",
       "      <th></th>\n",
       "    </tr>\n",
       "  </thead>\n",
       "  <tbody>\n",
       "    <tr>\n",
       "      <th>2014-09-10 03:00:00</th>\n",
       "      <td>0.00001</td>\n",
       "      <td>0.00001</td>\n",
       "      <td>0.00001</td>\n",
       "      <td>0.00001</td>\n",
       "      <td>0</td>\n",
       "      <td>0.000000</td>\n",
       "      <td>0.00001</td>\n",
       "    </tr>\n",
       "    <tr>\n",
       "      <th>2014-09-10 07:00:00</th>\n",
       "      <td>0.00001</td>\n",
       "      <td>0.00001</td>\n",
       "      <td>0.00001</td>\n",
       "      <td>0.00001</td>\n",
       "      <td>2280.78254325</td>\n",
       "      <td>0.022658</td>\n",
       "      <td>0.00001</td>\n",
       "    </tr>\n",
       "    <tr>\n",
       "      <th>2014-09-10 11:00:00</th>\n",
       "      <td>0.00001</td>\n",
       "      <td>0.00001</td>\n",
       "      <td>0.00001</td>\n",
       "      <td>0.00001</td>\n",
       "      <td>8005.14238168</td>\n",
       "      <td>0.080851</td>\n",
       "      <td>0.00001</td>\n",
       "    </tr>\n",
       "    <tr>\n",
       "      <th>2014-09-10 15:00:00</th>\n",
       "      <td>0.00001</td>\n",
       "      <td>0.00001</td>\n",
       "      <td>0.00001</td>\n",
       "      <td>0.00001</td>\n",
       "      <td>3367.968</td>\n",
       "      <td>0.033643</td>\n",
       "      <td>0.00001</td>\n",
       "    </tr>\n",
       "    <tr>\n",
       "      <th>2014-09-10 19:00:00</th>\n",
       "      <td>0.00001</td>\n",
       "      <td>0.00001</td>\n",
       "      <td>0.00001</td>\n",
       "      <td>0.00001</td>\n",
       "      <td>5490</td>\n",
       "      <td>0.054516</td>\n",
       "      <td>0.00001</td>\n",
       "    </tr>\n",
       "  </tbody>\n",
       "</table>\n",
       "</div>"
      ],
      "text/plain": [
       "                       close     high      low     open    quoteVolume  \\\n",
       "date                                                                     \n",
       "2014-09-10 03:00:00  0.00001  0.00001  0.00001  0.00001              0   \n",
       "2014-09-10 07:00:00  0.00001  0.00001  0.00001  0.00001  2280.78254325   \n",
       "2014-09-10 11:00:00  0.00001  0.00001  0.00001  0.00001  8005.14238168   \n",
       "2014-09-10 15:00:00  0.00001  0.00001  0.00001  0.00001       3367.968   \n",
       "2014-09-10 19:00:00  0.00001  0.00001  0.00001  0.00001           5490   \n",
       "\n",
       "                       volume  weightedAverage  \n",
       "date                                            \n",
       "2014-09-10 03:00:00  0.000000          0.00001  \n",
       "2014-09-10 07:00:00  0.022658          0.00001  \n",
       "2014-09-10 11:00:00  0.080851          0.00001  \n",
       "2014-09-10 15:00:00  0.033643          0.00001  \n",
       "2014-09-10 19:00:00  0.054516          0.00001  "
      ]
     },
     "execution_count": 81,
     "metadata": {},
     "output_type": "execute_result"
    }
   ],
   "source": [
    "import pandas as pd\n",
    "import pylab as plt\n",
    "from tusp import string2ts, ts2string\n",
    "from bot import prepareData,marketReturn\n",
    "import numpy as np\n",
    "%matplotlib inline\n",
    "\n",
    "# trayendo y preparando datos\n",
    "df  = prepareData(pair=\"BTC_XRP\",\n",
    "                  start=string2ts(\"2014-09-10 00:00:00\"),\n",
    "                  end=string2ts(\"2017-09-01 00:00:00\"),\n",
    "                  period=3600*4)\n",
    "\n",
    "# calculando el retorno del mercado hasta el 4 quitil y del ultimo quintil\n",
    "df_train = df.loc[\"2014-09-10 00:00:00\":\"2017-06-01 00:00:00\",:]\n",
    "df_test = df.loc[\"2017-06-01 00:00:00\":\"2017-09-01 00:00:00\",:]\n",
    "\n",
    "per = 0.9\n",
    "cum_return1 = marketReturn(df[:int(len(df)*per)])\n",
    "cum_return2 = marketReturn(df[int(len(df)*per):]) \n",
    "#cum_return1 = marketReturn(df_train)\n",
    "#cum_return2 = marketReturn(df_test) \n",
    "\n",
    "marketReturn = cum_return1[-1]*100 \n",
    "marketReturn2 = cum_return2[-1]*100\n",
    "\n",
    "print \"Retorno final del mercado: %s\"%(marketReturn)\n",
    "df.head()\n"
   ]
  },
  {
   "cell_type": "markdown",
   "metadata": {},
   "source": [
    "# Creando estrategias, columna con RSI_14 y sus respectivos vectores de peso"
   ]
  },
  {
   "cell_type": "code",
   "execution_count": 82,
   "metadata": {},
   "outputs": [
    {
     "name": "stdout",
     "output_type": "stream",
     "text": [
      "Retorno del mercacdo: 1282.14643932\n",
      "Retorno de SMA13 VS EMA5: 639.549655514\n",
      "Retorno de Precio VS SMA20: 67.2173825969\n",
      "Retorno de Precio VS EMA5: 508.955179219\n"
     ]
    },
    {
     "data": {
      "text/plain": [
       "\"\\nplt.plot(df.index[:int(len(df)*per)],cum_return1*100,'g', label='retorno mercado')\\nplt.plot(df.index[:int(len(df)*per)],v*100,'y',label='retorno EMA_5vsSMA_13')\\nplt.plot(df.index[:int(len(df)*per)],v3*100,'b',label='retorno SMA_20')\\nplt.plot(df.index[:int(len(df)*per)],v2*100,'r',label='retorno EMA_5')\\n\\nplt.legend(loc='best')\\nplt.grid()\\n\""
      ]
     },
     "execution_count": 82,
     "metadata": {},
     "output_type": "execute_result"
    }
   ],
   "source": [
    "from strategy import EMAvsSMA,pricevsEMA, pricevsSMA\n",
    "from profit import profit\n",
    "\n",
    "#EMA_5vsSMA_13\n",
    "w = EMAvsSMA(df['weightedAverage'],13,5)\n",
    "wTrain = w[:int(len(df)*per)]\n",
    "wTest = w[int(len(df)*per):]\n",
    "relativeReturn,v = profit(wTrain)\n",
    "relativeReturnTest,vTest = profit(wTest)\n",
    "\n",
    "#Precio vs SMA_20\n",
    "w3, diff = pricevsSMA(df['weightedAverage'],20)\n",
    "w3Train = w3[:int(len(df)*per)]\n",
    "w3Test = w3[int(len(df)*per):]\n",
    "relativeReturn3,v3 = profit(w3Train)\n",
    "relativeReturn3Test,v3Test = profit(w3Test)\n",
    "\n",
    "#Precio vs EMA_5\n",
    "# 23.6\n",
    "w2 = pricevsEMA(df['weightedAverage'])\n",
    "w2Train = w2[:int(len(df)*per)]\n",
    "w2Test = w2[int(len(df)*per):]\n",
    "relativeReturn2,v2 = profit(w2Train)\n",
    "relativeReturn2Test,v2Test = profit(w2Test)\n",
    "\n",
    "print 'Retorno del mercacdo: %s'%(marketReturn)\n",
    "print 'Retorno de SMA13 VS EMA5: %s'%(relativeReturn*100)\n",
    "print 'Retorno de Precio VS SMA20: %s'%(relativeReturn3*100)\n",
    "print 'Retorno de Precio VS EMA5: %s'%(relativeReturn2*100)\n",
    "\"\"\"\n",
    "plt.plot(df.index[:int(len(df)*per)],cum_return1*100,'g', label='retorno mercado')\n",
    "plt.plot(df.index[:int(len(df)*per)],v*100,'y',label='retorno EMA_5vsSMA_13')\n",
    "plt.plot(df.index[:int(len(df)*per)],v3*100,'b',label='retorno SMA_20')\n",
    "plt.plot(df.index[:int(len(df)*per)],v2*100,'r',label='retorno EMA_5')\n",
    "\n",
    "plt.legend(loc='best')\n",
    "plt.grid()\n",
    "\"\"\""
   ]
  },
  {
   "cell_type": "markdown",
   "metadata": {},
   "source": [
    "## RSI via stockstacks"
   ]
  },
  {
   "cell_type": "code",
   "execution_count": 83,
   "metadata": {},
   "outputs": [],
   "source": [
    "from stockstats import StockDataFrame\n",
    "\n",
    "stock = StockDataFrame.retype(df.copy())\n",
    "stock[\"rsi_14\"];\n",
    "stock[\"macd\"];\n",
    "stock[\"macds\"];\n",
    "stock[\"cci\"];\n",
    "stock[\"wr_14\"];"
   ]
  },
  {
   "cell_type": "markdown",
   "metadata": {},
   "source": [
    "# Preparando DataFrame para ML"
   ]
  },
  {
   "cell_type": "markdown",
   "metadata": {},
   "source": [
    "## Creando estrategia ideal en base a maximos y minimos"
   ]
  },
  {
   "cell_type": "code",
   "execution_count": 84,
   "metadata": {},
   "outputs": [
    {
     "name": "stdout",
     "output_type": "stream",
     "text": [
      "Retorno de estrategia ideal: 1.48485030284e+21\n",
      "5868 653\n"
     ]
    },
    {
     "data": {
      "image/png": "[encoded data removed]",
      "text/plain": [
       "<matplotlib.figure.Figure at 0x7f51f17ff450>"
      ]
     },
     "metadata": {},
     "output_type": "display_data"
    }
   ],
   "source": [
    "from mldata import ml_data\n",
    "from orders import orders\n",
    "\n",
    "df[\"ml_data\"] = ml_data(df[\"close\"])\n",
    "\n",
    "w4 = pd.DataFrame(data={\"w\":df[\"ml_data\"].values,\"price\":df[\"close\"]})\n",
    "w4[\"orders\"] = orders(w4[\"w\"])\n",
    "w4[\"w\"] = w4[\"w\"].shift(1)\n",
    "relReturn, vecReturn4 = profit(w4)\n",
    "print \"Retorno de estrategia ideal: %s\"%(relReturn*100)\n",
    "\n",
    "data = pd.DataFrame(data={\"price\":df[\"weightedAverage\"],\"volumen\":df[\"volume\"],\"rsi\":stock[\"rsi_14\"],\"macd\":stock[\"macd\"],\"macds\":stock[\"macds\"],\"cci\":stock[\"cci\"],\"wr\":stock[\"wr_14\"] ,\"sma13ema5\":w[\"w\"],\"price_sma20\":w3[\"w\"],\"price_ema5\":w2[\"w\"],\"ideal_w\":w4[\"w\"],\"diff\":diff})\n",
    "\n",
    "# separando datos para crear y evaluar el modelo de machine learning\n",
    "train = data[1:int(len(df)*per)]\n",
    "test = data[int(len(df)*per):]\n",
    "#train = data.loc[\"2014-09-10 00:00:00\":\"2017-06-01 00:00:00\",:][1:]\n",
    "#test = data.loc[\"2017-06-01 00:00:00\":\"2017-09-01 00:00:00\",:]\n",
    "print len(train),len(test)"
   ]
  },
  {
   "cell_type": "markdown",
   "metadata": {},
   "source": [
    "# Creando modelo de regresion logistica utilizando sticklearn"
   ]
  },
  {
   "cell_type": "code",
   "execution_count": 85,
   "metadata": {},
   "outputs": [
    {
     "data": {
      "text/plain": [
       "LogisticRegression(C=1.0, class_weight=None, dual=False, fit_intercept=True,\n",
       "          intercept_scaling=1, max_iter=100, multi_class='ovr', n_jobs=1,\n",
       "          penalty='l2', random_state=None, solver='liblinear', tol=0.0001,\n",
       "          verbose=0, warm_start=False)"
      ]
     },
     "execution_count": 85,
     "metadata": {},
     "output_type": "execute_result"
    }
   ],
   "source": [
    "from sklearn.linear_model import LogisticRegression\n",
    "\n",
    "# \"price\",\"volumen\",\"rsi\",\"macd\",\"macds\",\"sma13ema5\",\"price_sma20\",\"price_ema5\",\"ideal_w\",\"cci\",\"diff\",\"wr\"\n",
    "features = [\"price\",\"wr\",\"volumen\"]\n",
    "\n",
    "\n",
    "logreg = LogisticRegression()\n",
    "\n",
    "logreg.fit(train[features],train[\"ideal_w\"])"
   ]
  },
  {
   "cell_type": "markdown",
   "metadata": {},
   "source": [
    "## probando modelo en otros datos"
   ]
  },
  {
   "cell_type": "code",
   "execution_count": 86,
   "metadata": {},
   "outputs": [
    {
     "name": "stdout",
     "output_type": "stream",
     "text": [
      "Retorno del mercacdo: -63.3172413793\n",
      "Retorno de SMA13 VS EMA5: 30.6005153797\n",
      "Retorno de Precio VS SMA20: 56.6671566895\n",
      "Retorno de Precio VS EMA5: 52.206754022\n",
      "Retorno de ML_strategy: 89.0965133075\n"
     ]
    },
    {
     "data": {
      "image/png": "[encoded data removed]",
      "text/plain": [
       "<matplotlib.figure.Figure at 0x7f51f2c225d0>"
      ]
     },
     "metadata": {},
     "output_type": "display_data"
    }
   ],
   "source": [
    "w_pred = logreg.predict(test[features])\n",
    "\n",
    "w5 = pd.DataFrame(data={\"w\":w_pred,\"price\":test[\"price\"]})\n",
    "w5[\"orders\"] = orders(w5[\"w\"])\n",
    "w5[\"w\"] = w5[\"w\"].shift(1)\n",
    "relativeReturn5, v5 = profit(w5)\n",
    "\n",
    "print 'Retorno del mercacdo: %s'%(marketReturn2)\n",
    "print 'Retorno de SMA13 VS EMA5: %s'%(relativeReturnTest*100)\n",
    "print 'Retorno de Precio VS SMA20: %s'%(relativeReturn3Test*100)\n",
    "print 'Retorno de Precio VS EMA5: %s'%(relativeReturn2Test*100)\n",
    "print 'Retorno de ML_strategy: %s'%(relativeReturn5*100)\n",
    "\n",
    "plt.plot(df.index[int(len(data)*per):],cum_return2*100,'g', label='retorno mercado')\n",
    "plt.plot(df.index[int(len(data)*per):],vTest*100,'y',label='retorno EMA_5vsSMA_13')\n",
    "plt.plot(df.index[int(len(data)*per):],v3Test*100,'b',label='retorno SMA_20')\n",
    "plt.plot(df.index[int(len(data)*per):],v2Test*100,'r',label='retorno EMA_5')\n",
    "plt.plot(df.index[int(len(data)*per):],v5*100,label='retorno ML')\n",
    "\n",
    "\n",
    "plt.legend(loc='best')\n",
    "plt.grid()"
   ]
  },
  {
   "cell_type": "code",
   "execution_count": null,
   "metadata": {
    "collapsed": true
   },
   "outputs": [],
   "source": []
  }
 ],
 "metadata": {
  "anaconda-cloud": {},
  "kernelspec": {
   "display_name": "Python 2",
   "language": "python",
   "name": "python2"
  },
  "language_info": {
   "codemirror_mode": {
    "name": "ipython",
    "version": 2
   },
   "file_extension": ".py",
   "mimetype": "text/x-python",
   "name": "python",
   "nbconvert_exporter": "python",
   "pygments_lexer": "ipython2",
   "version": "2.7.13"
  }
 },
 "nbformat": 4,
 "nbformat_minor": 2
}
