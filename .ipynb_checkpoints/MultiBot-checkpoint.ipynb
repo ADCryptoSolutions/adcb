{
 "cells": [
  {
   "cell_type": "code",
   "execution_count": 7,
   "metadata": {
    "collapsed": true
   },
   "outputs": [],
   "source": [
    "from liveBot import *\n",
    "%matplotlib inline\n"
   ]
  },
  {
   "cell_type": "code",
   "execution_count": 8,
   "metadata": {},
   "outputs": [
    {
     "name": "stdout",
     "output_type": "stream",
     "text": [
      "Creado live Bot con las siguientes características:\n",
      "\n",
      "\tpair: BTC_DGB, period: 300, strategy: ml_knn, weight: 1\n",
      "\n",
      "Creado live Bot con las siguientes características:\n",
      "\n",
      "\tpair: BTC_BCH, period: 300, strategy: ml_knn, weight: 1\n",
      "\n"
     ]
    }
   ],
   "source": [
    "class LiveBot:\n",
    "    \n",
    "    def __init__(self, pair, period, strategy, weight=1):\n",
    "            \n",
    "        self.pair = pair\n",
    "        self.period = period\n",
    "        self.strategy = strategy\n",
    "        self.weight = weight\n",
    "        \n",
    "        print \"Creado live Bot con las siguientes características:\\n\"\n",
    "        print \"\\tpair: {0}, period: {1}, strategy: {2}, weight: {3}\\n\".format(self.pair, self.period,\n",
    "                                                                             self.strategy, self.weight)\n",
    "        \n",
    "    def start(self):\n",
    "        \"\"\"Función que ejecuta el liveBot\n",
    "        \"\"\"\n",
    "\n",
    "        print \"\\n\\n\\tEjecutando Live Trading\\n\\n\"\n",
    "        paper(self.pair, int(self.period), self.strategy, self.weight)\n",
    "\n",
    "firstBot = LiveBot(\"BTC_DGB\", \"300\", \"ml_knn\")\n",
    "bch_bot = LiveBot(\"BTC_BCH\", \"300\", \"ml_knn\")"
   ]
  },
  {
   "cell_type": "code",
   "execution_count": 12,
   "metadata": {
    "collapsed": true
   },
   "outputs": [],
   "source": [
    "class MultiLiveBot():\n",
    "    \n",
    "    def __init__(self):\n",
    "        \"\"\"Clase que administra el funcionamiento de varios bots a la vez\n",
    "        bots = lista de python con los bots a administrar \n",
    "        \"\"\"\n",
    "        self.bot_loader()\n",
    "        self.n_bots = len(self.bots)\n",
    "    \n",
    "    def bot_loader(self):\n",
    "        \"\"\"Carga los datos para crear los bots desde el archivo\n",
    "        multi_bot.inp, cuyo formato por línea es:\n",
    "        par, %, estrategia, periodo\n",
    "        \"\"\"\n",
    "        bots = []\n",
    "        \n",
    "        # abriendo archivo como lista\n",
    "        multi_file = open(\"multi_bot.inp\").readlines()\n",
    "        \n",
    "        for line in multi_file:\n",
    "            if line.strip(\"\\n\").strip(\" \") != \"\":\n",
    "                pair = line.split(\",\")[0].strip(\" \")\n",
    "                weight = line.split(\",\")[1].strip(\" \")\n",
    "                strategy = line.split(\",\")[2].strip(\" \")\n",
    "                period = line.split(\",\")[3].strip(\"\\n\").strip(\" \")\n",
    "                bots.append({\"pair\":pair, \"weight\":weight, \"strategy\":strategy, \"period\":period})\n",
    "        \n",
    "        self.bots = bots\n",
    "    \n",
    "    def fundTrackerConstructor(self):\n",
    "        \"\"\"Crea archivo fundTracker con su header.\"\"\"\n",
    "        tracker_file = open(\"fundTracker.inp\",\"w\")\n",
    "        \n",
    "        tracker_file.write(\"\")\n",
    "        \n",
    "    def fundTracker(self, fecha, balances):\n",
    "        \"\"\"Rastrea los fondos administrados por cada bot. Escribe la distribución de éstos\n",
    "        el archivo fundTracker.inp, cuyo formato por linea es:\n",
    "        Fecha, balance BTC, balance par_1, balance par_2, ..., balance par_n, balance total\n",
    "        \n",
    "        fecha: String con la fecha de la line de balance a escribir\n",
    "        balances: \"\"\"\n",
    "        \n",
    "        balances =\n",
    "\n",
    "        # abriendo archivo como lista\n",
    "        multi_file = open(\"fundTracker.inp\").readlines()\n",
    "        \n",
    "        \n",
    "        "
   ]
  },
  {
   "cell_type": "code",
   "execution_count": 15,
   "metadata": {},
   "outputs": [
    {
     "name": "stdout",
     "output_type": "stream",
     "text": [
      "[{'pair': 'BTC_DGB', 'period': '300', 'weight': '0.4', 'strategy': 'ml_knn'}, {'pair': 'BTC_BCH', 'period': '300', 'weight': '0.4', 'strategy': 'ml_logreg'}, {'pair': 'BTC_ETH', 'period': '300', 'weight': '0.2', 'strategy': 'ml_knn'}]\n"
     ]
    }
   ],
   "source": [
    "administrador = MultiLiveBot()\n",
    "print administrador.bots"
   ]
  },
  {
   "cell_type": "code",
   "execution_count": null,
   "metadata": {
    "collapsed": true
   },
   "outputs": [],
   "source": []
  }
 ],
 "metadata": {
  "kernelspec": {
   "display_name": "Python 2",
   "language": "python",
   "name": "python2"
  },
  "language_info": {
   "codemirror_mode": {
    "name": "ipython",
    "version": 2
   },
   "file_extension": ".py",
   "mimetype": "text/x-python",
   "name": "python",
   "nbconvert_exporter": "python",
   "pygments_lexer": "ipython2",
   "version": "2.7.14"
  }
 },
 "nbformat": 4,
 "nbformat_minor": 2
}
