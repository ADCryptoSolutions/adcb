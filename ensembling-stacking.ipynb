{
 "cells": [
  {
   "cell_type": "code",
   "execution_count": 1,
   "metadata": {
    "collapsed": false
   },
   "outputs": [
    {
     "name": "stderr",
     "output_type": "stream",
     "text": [
      "/home/Dsiervo/anaconda2/lib/python2.7/site-packages/pandas/core/indexing.py:132: SettingWithCopyWarning: \n",
      "A value is trying to be set on a copy of a slice from a DataFrame\n",
      "\n",
      "See the caveats in the documentation: http://pandas.pydata.org/pandas-docs/stable/indexing.html#indexing-view-versus-copy\n",
      "  self._setitem_with_indexer(indexer, value)\n"
     ]
    }
   ],
   "source": [
    "import pandas as pd\n",
    "import pylab as plt\n",
    "from tusp import string2ts, ts2string\n",
    "from bot import prepareData,marketReturn\n",
    "import numpy as np\n",
    "import seaborn as sns\n",
    "%matplotlib inline\n",
    "plt.rcParams['figure.figsize'] = 15, 8\n",
    "\n",
    "# trayendo y preparando datos\n",
    "df  = prepareData(pair=\"BTC_XRP\",\n",
    "                  start=string2ts(\"2017-07-01 00:00:00\"),\n",
    "                  end=string2ts(\"2018-03-01 00:00:00\"),\n",
    "                  period=3600*4)\n",
    "per = 0.85\n",
    "\n",
    "from stockstats import StockDataFrame\n",
    "\n",
    "stock = StockDataFrame.retype(df.copy())\n",
    "stock[\"rsi_14\"];\n",
    "stock[\"macd\"];\n",
    "stock[\"macds\"];\n",
    "stock[\"cci\"];\n",
    "stock[\"wr_14\"];"
   ]
  },
  {
   "cell_type": "code",
   "execution_count": 2,
   "metadata": {
    "collapsed": false
   },
   "outputs": [
    {
     "name": "stdout",
     "output_type": "stream",
     "text": [
      "Retorno de estrategia ideal: 42805.58138640792\n"
     ]
    },
    {
     "data": {
      "text/html": [
       "<div>\n",
       "<table border=\"1\" class=\"dataframe\">\n",
       "  <thead>\n",
       "    <tr style=\"text-align: right;\">\n",
       "      <th></th>\n",
       "      <th>cci</th>\n",
       "      <th>close</th>\n",
       "      <th>dma</th>\n",
       "      <th>ideal_w</th>\n",
       "      <th>kdjd</th>\n",
       "      <th>kdjj</th>\n",
       "      <th>kdjk</th>\n",
       "      <th>macd</th>\n",
       "      <th>macds</th>\n",
       "      <th>price</th>\n",
       "      <th>pricew</th>\n",
       "      <th>rsi</th>\n",
       "      <th>trix</th>\n",
       "      <th>volatility</th>\n",
       "      <th>volumen</th>\n",
       "      <th>vr</th>\n",
       "      <th>wr</th>\n",
       "    </tr>\n",
       "    <tr>\n",
       "      <th>date</th>\n",
       "      <th></th>\n",
       "      <th></th>\n",
       "      <th></th>\n",
       "      <th></th>\n",
       "      <th></th>\n",
       "      <th></th>\n",
       "      <th></th>\n",
       "      <th></th>\n",
       "      <th></th>\n",
       "      <th></th>\n",
       "      <th></th>\n",
       "      <th></th>\n",
       "      <th></th>\n",
       "      <th></th>\n",
       "      <th></th>\n",
       "      <th></th>\n",
       "      <th></th>\n",
       "    </tr>\n",
       "  </thead>\n",
       "  <tbody>\n",
       "    <tr>\n",
       "      <th>2018-01-23 04:00:00</th>\n",
       "      <td>57.322808</td>\n",
       "      <td>0.000120</td>\n",
       "      <td>-0.000004</td>\n",
       "      <td>1.0</td>\n",
       "      <td>50.316779</td>\n",
       "      <td>85.267846</td>\n",
       "      <td>61.967134</td>\n",
       "      <td>-0.000002</td>\n",
       "      <td>-0.000002</td>\n",
       "      <td>0.000120</td>\n",
       "      <td>0.000120</td>\n",
       "      <td>47.393459</td>\n",
       "      <td>-0.335701</td>\n",
       "      <td>True</td>\n",
       "      <td>542.760002</td>\n",
       "      <td>45.259988</td>\n",
       "      <td>34.989648</td>\n",
       "    </tr>\n",
       "    <tr>\n",
       "      <th>2018-01-23 08:00:00</th>\n",
       "      <td>54.807124</td>\n",
       "      <td>0.000120</td>\n",
       "      <td>-0.000004</td>\n",
       "      <td>1.0</td>\n",
       "      <td>54.630383</td>\n",
       "      <td>80.512011</td>\n",
       "      <td>63.257593</td>\n",
       "      <td>-0.000002</td>\n",
       "      <td>-0.000002</td>\n",
       "      <td>0.000120</td>\n",
       "      <td>0.000120</td>\n",
       "      <td>47.554950</td>\n",
       "      <td>-0.312800</td>\n",
       "      <td>False</td>\n",
       "      <td>558.331852</td>\n",
       "      <td>35.501154</td>\n",
       "      <td>34.161491</td>\n",
       "    </tr>\n",
       "    <tr>\n",
       "      <th>2018-01-23 12:00:00</th>\n",
       "      <td>176.899243</td>\n",
       "      <td>0.000125</td>\n",
       "      <td>-0.000003</td>\n",
       "      <td>1.0</td>\n",
       "      <td>59.638420</td>\n",
       "      <td>89.686640</td>\n",
       "      <td>69.654493</td>\n",
       "      <td>-0.000001</td>\n",
       "      <td>-0.000002</td>\n",
       "      <td>0.000125</td>\n",
       "      <td>0.000124</td>\n",
       "      <td>54.137682</td>\n",
       "      <td>-0.273059</td>\n",
       "      <td>True</td>\n",
       "      <td>1068.716270</td>\n",
       "      <td>45.374908</td>\n",
       "      <td>17.551705</td>\n",
       "    </tr>\n",
       "  </tbody>\n",
       "</table>\n",
       "</div>"
      ],
      "text/plain": [
       "                            cci     close       dma  ideal_w       kdjd  \\\n",
       "date                                                                      \n",
       "2018-01-23 04:00:00   57.322808  0.000120 -0.000004      1.0  50.316779   \n",
       "2018-01-23 08:00:00   54.807124  0.000120 -0.000004      1.0  54.630383   \n",
       "2018-01-23 12:00:00  176.899243  0.000125 -0.000003      1.0  59.638420   \n",
       "\n",
       "                          kdjj       kdjk      macd     macds     price  \\\n",
       "date                                                                      \n",
       "2018-01-23 04:00:00  85.267846  61.967134 -0.000002 -0.000002  0.000120   \n",
       "2018-01-23 08:00:00  80.512011  63.257593 -0.000002 -0.000002  0.000120   \n",
       "2018-01-23 12:00:00  89.686640  69.654493 -0.000001 -0.000002  0.000125   \n",
       "\n",
       "                       pricew        rsi      trix volatility      volumen  \\\n",
       "date                                                                         \n",
       "2018-01-23 04:00:00  0.000120  47.393459 -0.335701       True   542.760002   \n",
       "2018-01-23 08:00:00  0.000120  47.554950 -0.312800      False   558.331852   \n",
       "2018-01-23 12:00:00  0.000124  54.137682 -0.273059       True  1068.716270   \n",
       "\n",
       "                            vr         wr  \n",
       "date                                       \n",
       "2018-01-23 04:00:00  45.259988  34.989648  \n",
       "2018-01-23 08:00:00  35.501154  34.161491  \n",
       "2018-01-23 12:00:00  45.374908  17.551705  "
      ]
     },
     "execution_count": 2,
     "metadata": {},
     "output_type": "execute_result"
    }
   ],
   "source": [
    "from mldata import ml_data\n",
    "from orders import orders\n",
    "from profit import profit\n",
    "\n",
    "df[\"ml_data\"] = ml_data(df[\"close\"],la=10, pl=False)\n",
    "\n",
    "w4 = pd.DataFrame(data={\"w\":df[\"ml_data\"].values,\"price\":df[\"close\"]})\n",
    "w4[\"orders\"] = orders(w4[\"w\"])\n",
    "w4[\"w\"] = w4[\"w\"].shift(1)\n",
    "relReturn, vecReturn4 = profit(w4)\n",
    "print \"Retorno de estrategia ideal: %s\"%(relReturn*100)\n",
    "\n",
    "data = pd.DataFrame(data={\"price\":df[\"close\"],\"pricew\":df[\"weightedAverage\"],\"volumen\":df[\"volume\"],\n",
    "                          \"rsi\":stock[\"rsi_14\"],\"macd\":stock[\"macd\"],\"macds\":stock[\"macds\"],\"cci\":stock[\"cci\"],\n",
    "                          \"wr\":stock[\"wr_14\"],\"ideal_w\":w4[\"w\"],\"volatility\": df[\"volatility\"],\"close\":df[\"close\"],\"kdjk\":stock[\"kdjk\"],\n",
    "                          \"kdjd\":stock[\"kdjd\"],\"kdjj\":stock[\"kdjj\"], \"dma\":stock[\"dma\"], \"trix\":stock[\"trix\"],\n",
    "                          \"vr\":stock[\"vr\"]})\n",
    "\n",
    "data.replace([np.inf, -np.inf], np.nan, inplace=True)\n",
    "data.fillna(method='bfill', inplace=True)\n",
    "\n",
    "train = data[1:int(len(data)*per)]\n",
    "test = data[int(len(data)*per):]\n",
    "\n",
    "train.tail(3)"
   ]
  },
  {
   "cell_type": "code",
   "execution_count": 3,
   "metadata": {
    "collapsed": true
   },
   "outputs": [],
   "source": [
    "from sklearn.linear_model import LogisticRegression\n",
    "from sklearn.ensemble import RandomForestClassifier\n",
    "from xgboost import XGBClassifier\n",
    "from sklearn.metrics import accuracy_score\n",
    "from sklearn.tree import DecisionTreeClassifier\n",
    "from sklearn.neural_network import BernoulliRBM\n",
    "from sklearn.neural_network import MLPClassifier\n",
    "from sklearn.pipeline import Pipeline\n",
    "from sklearn.model_selection import cross_val_score\n",
    "from sklearn.model_selection import GridSearchCV\n",
    "\n",
    "features = [\"price\",\"rsi\",\"cci\",\"macds\",\"macd\",\"wr\",\"trix\",\"vr\"]\n",
    "\n",
    "X, y = data[features], data[\"ideal_w\"]"
   ]
  },
  {
   "cell_type": "markdown",
   "metadata": {},
   "source": [
    "## Usando paquete vecstack, Functional API"
   ]
  },
  {
   "cell_type": "code",
   "execution_count": 4,
   "metadata": {
    "collapsed": true
   },
   "outputs": [],
   "source": [
    "from vecstack import stacking\n",
    "\n"
   ]
  }
 ],
 "metadata": {
  "kernelspec": {
   "display_name": "Python [default]",
   "language": "python",
   "name": "python2"
  },
  "language_info": {
   "codemirror_mode": {
    "name": "ipython",
    "version": 2
   },
   "file_extension": ".py",
   "mimetype": "text/x-python",
   "name": "python",
   "nbconvert_exporter": "python",
   "pygments_lexer": "ipython2",
   "version": "2.7.12"
  }
 },
 "nbformat": 4,
 "nbformat_minor": 2
}
